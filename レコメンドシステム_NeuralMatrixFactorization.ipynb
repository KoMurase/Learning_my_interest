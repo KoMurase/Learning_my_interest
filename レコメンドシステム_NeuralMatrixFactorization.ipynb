{
  "nbformat": 4,
  "nbformat_minor": 0,
  "metadata": {
    "colab": {
      "name": "レコメンドシステム_NeuralMatrixFactorization.ipynb",
      "provenance": [],
      "collapsed_sections": [],
      "include_colab_link": true
    },
    "kernelspec": {
      "name": "python3",
      "display_name": "Python 3"
    },
    "accelerator": "GPU"
  },
  "cells": [
    {
      "cell_type": "markdown",
      "metadata": {
        "id": "view-in-github",
        "colab_type": "text"
      },
      "source": [
        "<a href=\"https://colab.research.google.com/github/KoMurase/Learning_my_interest/blob/master/%E3%83%AC%E3%82%B3%E3%83%A1%E3%83%B3%E3%83%89%E3%82%B7%E3%82%B9%E3%83%86%E3%83%A0_NeuralMatrixFactorization.ipynb\" target=\"_parent\"><img src=\"https://colab.research.google.com/assets/colab-badge.svg\" alt=\"Open In Colab\"/></a>"
      ]
    },
    {
      "cell_type": "code",
      "metadata": {
        "id": "phcaQgN5vUpe",
        "colab_type": "code",
        "outputId": "537ff2d9-fc6d-41ae-e8a6-513a5284aa57",
        "colab": {
          "base_uri": "https://localhost:8080/",
          "height": 445
        }
      },
      "source": [
        "!pip3 install http://download.pytorch.org/whl/cu80/torch-0.4.0-cp36-cp36m-linux_x86_64.whl\n",
        "!pip3 install torchvision\n",
        "!pip3 install tqdm"
      ],
      "execution_count": 1,
      "outputs": [
        {
          "output_type": "stream",
          "text": [
            "Collecting torch==0.4.0\n",
            "\u001b[?25l  Downloading http://download.pytorch.org/whl/cu80/torch-0.4.0-cp36-cp36m-linux_x86_64.whl (484.0MB)\n",
            "\u001b[K     |████████████████████████████████| 484.0MB 1.9MB/s \n",
            "\u001b[31mERROR: torchvision 0.4.2 has requirement torch==1.3.1, but you'll have torch 0.4.0 which is incompatible.\u001b[0m\n",
            "\u001b[31mERROR: fastai 1.0.59 has requirement torch>=1.0.0, but you'll have torch 0.4.0 which is incompatible.\u001b[0m\n",
            "\u001b[?25hInstalling collected packages: torch\n",
            "  Found existing installation: torch 1.3.1\n",
            "    Uninstalling torch-1.3.1:\n",
            "      Successfully uninstalled torch-1.3.1\n",
            "Successfully installed torch-0.4.0\n",
            "Requirement already satisfied: torchvision in /usr/local/lib/python3.6/dist-packages (0.4.2)\n",
            "Collecting torch==1.3.1\n",
            "\u001b[?25l  Downloading https://files.pythonhosted.org/packages/88/95/90e8c4c31cfc67248bf944ba42029295b77159982f532c5689bcfe4e9108/torch-1.3.1-cp36-cp36m-manylinux1_x86_64.whl (734.6MB)\n",
            "\u001b[K     |████████████████████████████████| 734.6MB 9.3kB/s \n",
            "\u001b[?25hRequirement already satisfied: six in /usr/local/lib/python3.6/dist-packages (from torchvision) (1.12.0)\n",
            "Requirement already satisfied: pillow>=4.1.1 in /usr/local/lib/python3.6/dist-packages (from torchvision) (4.3.0)\n",
            "Requirement already satisfied: numpy in /usr/local/lib/python3.6/dist-packages (from torchvision) (1.17.4)\n",
            "Requirement already satisfied: olefile in /usr/local/lib/python3.6/dist-packages (from pillow>=4.1.1->torchvision) (0.46)\n",
            "Installing collected packages: torch\n",
            "  Found existing installation: torch 0.4.0\n",
            "    Uninstalling torch-0.4.0:\n",
            "      Successfully uninstalled torch-0.4.0\n",
            "Successfully installed torch-1.3.1\n",
            "Requirement already satisfied: tqdm in /usr/local/lib/python3.6/dist-packages (4.28.1)\n"
          ],
          "name": "stdout"
        }
      ]
    },
    {
      "cell_type": "code",
      "metadata": {
        "id": "YTsYmugbr5DL",
        "colab_type": "code",
        "colab": {}
      },
      "source": [
        "import torch\n",
        "torch.tensor([1,2,3]).to(\"cuda:0\")\n",
        "from torch import nn, optim\n",
        "from torch.utils.data import (Dataset, \n",
        "                              DataLoader,\n",
        "                              TensorDataset)\n",
        "import tqdm"
      ],
      "execution_count": 0,
      "outputs": []
    },
    {
      "cell_type": "code",
      "metadata": {
        "id": "ZPG9pDPtvY8N",
        "colab_type": "code",
        "outputId": "1557107c-4079-4cff-b3c6-a2efccdb8028",
        "colab": {
          "base_uri": "https://localhost:8080/",
          "height": 357
        }
      },
      "source": [
        "!wget http://files.grouplens.org/datasets/movielens/ml-20m.zip\n",
        "!unzip ml-20m.zip"
      ],
      "execution_count": 3,
      "outputs": [
        {
          "output_type": "stream",
          "text": [
            "--2019-12-29 17:49:29--  http://files.grouplens.org/datasets/movielens/ml-20m.zip\n",
            "Resolving files.grouplens.org (files.grouplens.org)... 128.101.65.152\n",
            "Connecting to files.grouplens.org (files.grouplens.org)|128.101.65.152|:80... connected.\n",
            "HTTP request sent, awaiting response... 200 OK\n",
            "Length: 198702078 (189M) [application/zip]\n",
            "Saving to: ‘ml-20m.zip’\n",
            "\n",
            "ml-20m.zip          100%[===================>] 189.50M  55.8MB/s    in 3.7s    \n",
            "\n",
            "2019-12-29 17:49:33 (50.9 MB/s) - ‘ml-20m.zip’ saved [198702078/198702078]\n",
            "\n",
            "Archive:  ml-20m.zip\n",
            "   creating: ml-20m/\n",
            "  inflating: ml-20m/genome-scores.csv  \n",
            "  inflating: ml-20m/genome-tags.csv  \n",
            "  inflating: ml-20m/links.csv        \n",
            "  inflating: ml-20m/movies.csv       \n",
            "  inflating: ml-20m/ratings.csv      \n",
            "  inflating: ml-20m/README.txt       \n",
            "  inflating: ml-20m/tags.csv         \n"
          ],
          "name": "stdout"
        }
      ]
    },
    {
      "cell_type": "code",
      "metadata": {
        "id": "uXXSYKOpiiC2",
        "colab_type": "code",
        "colab": {}
      },
      "source": [
        "class NeuralMetricsFactrization(nn.Module):\n",
        "  def __init__(self, max_user, max_item, user_k=10, item_k=10, hidden_dim=50):\n",
        "    super().__init__()\n",
        "    self.user_emb = nn.Embedding(max_user, user_k, 0)\n",
        "    self.item_emb = nn.Embedding(max_item, item_k, 0)\n",
        "\n",
        "    self.mlp = nn.Sequential(\n",
        "        max_Linear(user_k + item_k, hidden_dim),\n",
        "        nn.ReLU(),\n",
        "        nn.BatchNorm1d(hidden_dim),\n",
        "        nn.Linear(hidden_dim, hidden_dim),\n",
        "        nn.ReLU(),\n",
        "        nn.BatchNorm1d(hidden_dim), \n",
        "        nn.Linear(hidden_dim, 1)\n",
        "    )\n",
        "  \n",
        "  def forward(self, x):\n",
        "    user_idx = x[:, 0]\n",
        "    item_idx = x[:, 1]\n",
        "    user_feature = self.user_emb(user_idx)\n",
        "    item_feature = self.item_emb(item_idx)\n",
        "    #ユーザーの特徴量と商品特徴量をまとめて一つのベクトルにする\n",
        "    out = torch.cat([user_feature, item_feature], 1)\n",
        "    #まとめて特徴量ベクトルをMLPに入れる\n",
        "    out = self.mlp(out)\n",
        "    out = nn.functional.sigmoid(out) * 5 \n",
        "    return out.squeeze()\n",
        "\n",
        "\n",
        "    ###"
      ],
      "execution_count": 0,
      "outputs": []
    },
    {
      "cell_type": "markdown",
      "metadata": {
        "id": "g9et4cE3yiVj",
        "colab_type": "text"
      },
      "source": [
        "区切られたジャンルをBoWに変換"
      ]
    },
    {
      "cell_type": "code",
      "metadata": {
        "id": "ScgvfReoyhlD",
        "colab_type": "code",
        "colab": {}
      },
      "source": [
        "import csv  \n",
        "from sklearn.feature_extraction.text import CountVectorizer \n",
        "\n",
        "#csv.DictReaderを展開してcsvファイルを読み込み\n",
        "#必要な部分だけ抽出する\n",
        "with open(\"./ml-20m/movies.csv\") as fp:\n",
        "  reader = csv.DictReader(fp)\n",
        "  def parse(d):\n",
        "    movieId = int(d[\"movieId\"])\n",
        "    genres = d[\"genres\"]\n",
        "    return movieId, genres\n",
        "  data = [parse(d) for d in reader] "
      ],
      "execution_count": 0,
      "outputs": []
    },
    {
      "cell_type": "code",
      "metadata": {
        "id": "fqXq2qm9z0VG",
        "colab_type": "code",
        "outputId": "1a360d9f-2a35-49a0-dce2-c7bab03b2f07",
        "colab": {
          "base_uri": "https://localhost:8080/",
          "height": 187
        }
      },
      "source": [
        "data[0:10]"
      ],
      "execution_count": 6,
      "outputs": [
        {
          "output_type": "execute_result",
          "data": {
            "text/plain": [
              "[(1, 'Adventure|Animation|Children|Comedy|Fantasy'),\n",
              " (2, 'Adventure|Children|Fantasy'),\n",
              " (3, 'Comedy|Romance'),\n",
              " (4, 'Comedy|Drama|Romance'),\n",
              " (5, 'Comedy'),\n",
              " (6, 'Action|Crime|Thriller'),\n",
              " (7, 'Comedy|Romance'),\n",
              " (8, 'Adventure|Children'),\n",
              " (9, 'Action'),\n",
              " (10, 'Action|Adventure|Thriller')]"
            ]
          },
          "metadata": {
            "tags": []
          },
          "execution_count": 6
        }
      ]
    },
    {
      "cell_type": "code",
      "metadata": {
        "id": "yLad5Dbxz7p3",
        "colab_type": "code",
        "colab": {}
      },
      "source": [
        "movieIds = [x[0] for x in data]\n",
        "genres = [x[1] for x in data]"
      ],
      "execution_count": 0,
      "outputs": []
    },
    {
      "cell_type": "code",
      "metadata": {
        "id": "Rwx-YZNb0PFR",
        "colab_type": "code",
        "outputId": "f47914e9-3ff8-482e-de24-b97187b2f28e",
        "colab": {
          "base_uri": "https://localhost:8080/",
          "height": 34
        }
      },
      "source": [
        "movieIds[0:10]"
      ],
      "execution_count": 8,
      "outputs": [
        {
          "output_type": "execute_result",
          "data": {
            "text/plain": [
              "[1, 2, 3, 4, 5, 6, 7, 8, 9, 10]"
            ]
          },
          "metadata": {
            "tags": []
          },
          "execution_count": 8
        }
      ]
    },
    {
      "cell_type": "code",
      "metadata": {
        "id": "7Z_Uf79u0UsO",
        "colab_type": "code",
        "outputId": "c6ec3b9d-2c1e-4193-b489-2093942e68a6",
        "colab": {
          "base_uri": "https://localhost:8080/",
          "height": 187
        }
      },
      "source": [
        "genres[0:10]"
      ],
      "execution_count": 9,
      "outputs": [
        {
          "output_type": "execute_result",
          "data": {
            "text/plain": [
              "['Adventure|Animation|Children|Comedy|Fantasy',\n",
              " 'Adventure|Children|Fantasy',\n",
              " 'Comedy|Romance',\n",
              " 'Comedy|Drama|Romance',\n",
              " 'Comedy',\n",
              " 'Action|Crime|Thriller',\n",
              " 'Comedy|Romance',\n",
              " 'Adventure|Children',\n",
              " 'Action',\n",
              " 'Action|Adventure|Thriller']"
            ]
          },
          "metadata": {
            "tags": []
          },
          "execution_count": 9
        }
      ]
    },
    {
      "cell_type": "code",
      "metadata": {
        "id": "PFvXd9kO0e_D",
        "colab_type": "code",
        "colab": {}
      },
      "source": [
        "#データに合わせてCountVectorizerを訓練する\n",
        "cv = CountVectorizer(dtype=\"f4\").fit(genres)\n",
        "num_genres = len(cv.get_feature_names())\n",
        "\n",
        "#keyがmovieIdでvalueがBoWのTensorのdictを作る\n",
        "it = cv.transform(genres).toarray()\n",
        "it = (torch.tensor(g, dtype=torch.float32) for g in it)\n",
        "genre_dict = dict(zip(movieIds, it))"
      ],
      "execution_count": 0,
      "outputs": []
    },
    {
      "cell_type": "code",
      "metadata": {
        "id": "NF8f4dMa4d7w",
        "colab_type": "code",
        "outputId": "de4e5e6b-9fce-44e8-9bef-53b5486488de",
        "colab": {
          "base_uri": "https://localhost:8080/",
          "height": 119
        }
      },
      "source": [
        "cv"
      ],
      "execution_count": 11,
      "outputs": [
        {
          "output_type": "execute_result",
          "data": {
            "text/plain": [
              "CountVectorizer(analyzer='word', binary=False, decode_error='strict',\n",
              "                dtype='f4', encoding='utf-8', input='content', lowercase=True,\n",
              "                max_df=1.0, max_features=None, min_df=1, ngram_range=(1, 1),\n",
              "                preprocessor=None, stop_words=None, strip_accents=None,\n",
              "                token_pattern='(?u)\\\\b\\\\w\\\\w+\\\\b', tokenizer=None,\n",
              "                vocabulary=None)"
            ]
          },
          "metadata": {
            "tags": []
          },
          "execution_count": 11
        }
      ]
    },
    {
      "cell_type": "code",
      "metadata": {
        "id": "H3nZ-2nI4poX",
        "colab_type": "code",
        "outputId": "e2c98a29-5305-4029-d4f3-4e42f9b0d67c",
        "colab": {
          "base_uri": "https://localhost:8080/",
          "height": 34
        }
      },
      "source": [
        "num_genres"
      ],
      "execution_count": 12,
      "outputs": [
        {
          "output_type": "execute_result",
          "data": {
            "text/plain": [
              "24"
            ]
          },
          "metadata": {
            "tags": []
          },
          "execution_count": 12
        }
      ]
    },
    {
      "cell_type": "code",
      "metadata": {
        "id": "iOayYpCr5D02",
        "colab_type": "code",
        "outputId": "3226faec-4cc3-458a-eff7-49325dd90634",
        "colab": {
          "base_uri": "https://localhost:8080/",
          "height": 34
        }
      },
      "source": [
        "it"
      ],
      "execution_count": 13,
      "outputs": [
        {
          "output_type": "execute_result",
          "data": {
            "text/plain": [
              "<generator object <genexpr> at 0x7f8057159e60>"
            ]
          },
          "metadata": {
            "tags": []
          },
          "execution_count": 13
        }
      ]
    },
    {
      "cell_type": "code",
      "metadata": {
        "id": "VS40r6o65UKd",
        "colab_type": "code",
        "colab": {}
      },
      "source": [
        "def first(xs):\n",
        "  it = iter(xs)\n",
        "  return next(it)\n",
        "\n",
        "class MovieLensDataset(Dataset):\n",
        "  def __init__(self, x, y, genres):\n",
        "    #assert 条件式, 条件式がFalseの場合に出力するメッセージ\n",
        "    #条件式がFalseの場合, AssertionError の例外が発生します。\n",
        "    #条件式が True の場合は何も起こりません。\n",
        "    assert len(x) == len(y)\n",
        "    self.x = x\n",
        "    self.y = y \n",
        "    self.genres = genres \n",
        "    \n",
        "    #ジャンル辞書にないmovieIdの時のダミーデータ\n",
        "    self.null_genre = torch.zeros_like(\n",
        "        first(genres.values())\n",
        "    )\n",
        "  \n",
        "  def __len__(self):\n",
        "    return len(self.x)\n",
        "  \n",
        "  def __getitem__(self, idx):\n",
        "    x = self.x[idx]\n",
        "    y = self.y[idx]\n",
        "    # x = (userId , movieId)\n",
        "    movieId = x[1]\n",
        "    g = self.genres.get(movieId, self.null_genre)\n",
        "    return x, y, g"
      ],
      "execution_count": 0,
      "outputs": []
    },
    {
      "cell_type": "code",
      "metadata": {
        "id": "HxOSS9t8ygU3",
        "colab_type": "code",
        "colab": {}
      },
      "source": [
        "import pandas as pd \n",
        "from sklearn import model_selection \n",
        "\n",
        "df = pd.read_csv(\"/content/ml-20m/ratings.csv\")\n",
        "\n",
        "X = df[[\"userId\", \"movieId\"]].values\n",
        "Y = df[[\"rating\"]].values\n",
        "\n",
        "train_X, test_X, train_Y, test_Y = model_selection.train_test_split(X,Y,test_size=0.1)"
      ],
      "execution_count": 0,
      "outputs": []
    },
    {
      "cell_type": "code",
      "metadata": {
        "id": "k150cyjQofON",
        "colab_type": "code",
        "colab": {}
      },
      "source": [
        "train_dataset = MovieLensDataset(\n",
        "    torch.tensor(train_X, dtype=torch.int64),\n",
        "    torch.tensor(train_Y, dtype=torch.float32),\n",
        "    genre_dict\n",
        ")\n",
        "test_dataset = MovieLensDataset(\n",
        "    torch.tensor(train_X, dtype=torch.int64),\n",
        "    torch.tensor(train_Y, dtype=torch.float32),\n",
        "    genre_dict\n",
        ")\n",
        "train_loader = DataLoader(\n",
        "    train_dataset, \n",
        "    batch_size = 1024, \n",
        "    shuffle = True, \n",
        "    num_workers=4\n",
        ")\n",
        "test_size = DataLoader(\n",
        "    test_dataset,\n",
        "    batch_size=1024,\n",
        "    num_workers=4\n",
        ")"
      ],
      "execution_count": 0,
      "outputs": []
    },
    {
      "cell_type": "markdown",
      "metadata": {
        "id": "1gcHQa22pgUD",
        "colab_type": "text"
      },
      "source": [
        "ネットワークモデルの作成"
      ]
    },
    {
      "cell_type": "code",
      "metadata": {
        "id": "aVHJytxRqqKH",
        "colab_type": "code",
        "colab": {}
      },
      "source": [
        "class NeuralMatrixFactorization2(nn.Module):\n",
        "  def __init__(self, max_user, max_item, num_genres, user_k=10, item_k=10, hidden_dim=50):\n",
        "    super().__init__()\n",
        "    self.user_emb = nn.Embedding(max_user, user_k, 0)\n",
        "    self.item_emb = nn.Embedding(max_item, item_k, 0)\n",
        "    self.mlp = nn.Sequential(\n",
        "        # num_genres分だけ次元が増える\n",
        "        nn.Linear(user_k + item_k + num_genres, hidden_dim),\n",
        "        nn.ReLU(),\n",
        "        nn.BatchNorm1d(hidden_dim),\n",
        "        nn.Linear(hidden_dim, hidden_dim),\n",
        "        nn.ReLU(),\n",
        "        nn.BatchNorm1d(hidden_dim),\n",
        "        nn.Linear(hidden_dim, 1)\n",
        "    )\n",
        "  \n",
        "  def forword(self, x, g):\n",
        "    user_idx = x[:, 0]\n",
        "    item_idx = x[:, 1]\n",
        "    user_feature = self.user_emb(user_idx)\n",
        "    item_feature = self.item_emb(item_idx)\n",
        "    #ジャンルのBoWをcatで特徴ベクトルに結合する\n",
        "    out = torch.cat([user_feature, item_feature, g], 1)\n",
        "    out = self.mlp(out)\n",
        "    out = nn.functional.sigmoid(out) * 5\n",
        "    return out.squeeze()"
      ],
      "execution_count": 0,
      "outputs": []
    },
    {
      "cell_type": "code",
      "metadata": {
        "colab_type": "code",
        "id": "9JpKWXf1ygsi",
        "colab": {}
      },
      "source": [
        " def eval_net(net, loader, score_fn=nn.functional.l1_loss, device=\"cpu\"):\n",
        "  ys = []\n",
        "  ypreds = []\n",
        "  #loaderはジャンルのBoWも返す\n",
        "  for x, y, g in loader:\n",
        "    x = x.to(device)\n",
        "    g = g.to(device)\n",
        "    ys.append(y)\n",
        "    # userld, movield以外にジャンルの\n",
        "    # BoWもネットワーク関数に渡す\n",
        "    with torch.no_grad():\n",
        "      ypred = net(x, g).to(\"cpu\")\n",
        "    ypreds.append(ypred)\n",
        "  score = score_fn(torch.cat(ys).sequeeze(), torch.cat(ypreds))\n",
        "  return score"
      ],
      "execution_count": 0,
      "outputs": []
    },
    {
      "cell_type": "code",
      "metadata": {
        "id": "HykotKKfzgKo",
        "colab_type": "code",
        "colab": {}
      },
      "source": [
        "max_user, max_item = X.max(0)\n",
        "max_user = int(max_user)\n",
        "max_item = int(max_item)"
      ],
      "execution_count": 0,
      "outputs": []
    },
    {
      "cell_type": "code",
      "metadata": {
        "id": "_TjDl9oBtATt",
        "colab_type": "code",
        "colab": {
          "base_uri": "https://localhost:8080/",
          "height": 515
        },
        "outputId": "ee48a9a5-96e0-42de-d411-790d9a662e9a"
      },
      "source": [
        "#訓練部分の作成\n",
        "net = NeuralMatrixFactorization2(\n",
        "    max_user+1, max_item+1, num_genres\n",
        ")\n",
        "opt = optim.Adam(net.parameters(), lr=0.01)\n",
        "loss_f = nn.MSELoss()\n",
        "\n",
        "net.to(\"cuda:0\")\n",
        "for epoch in range(5):\n",
        "  loss_log = []\n",
        "  net.train()\n",
        "  for x, y, g in tqdm.tqdm(train_loader):\n",
        "    x = x.to(\"cuda:0\")\n",
        "    y = y.to(\"cuda:0\")\n",
        "    g = g.to(\"cuda:0\")\n",
        "    o = net(x, g)\n",
        "    loss = loss_f(o, y.view(-1))\n",
        "    net.zero_grad()\n",
        "    loss.backward()\n",
        "    opt.step()\n",
        "    loss_log.append(loss.item())\n",
        "  net.eval()\n",
        "  test_score = eval_net(net, test_loader, device=\"cuda:0\")\n",
        "  print(epoch, mean(loss_log), test_score.item(), flush=True)"
      ],
      "execution_count": 39,
      "outputs": [
        {
          "output_type": "stream",
          "text": [
            "\r  0%|          | 0/17579 [00:00<?, ?it/s]\n"
          ],
          "name": "stderr"
        },
        {
          "output_type": "error",
          "ename": "NotImplementedError",
          "evalue": "ignored",
          "traceback": [
            "\u001b[0;31m---------------------------------------------------------------------------\u001b[0m",
            "\u001b[0;31mNotImplementedError\u001b[0m                       Traceback (most recent call last)",
            "\u001b[0;32m<ipython-input-39-823fbdafb00f>\u001b[0m in \u001b[0;36m<module>\u001b[0;34m()\u001b[0m\n\u001b[1;32m     13\u001b[0m     \u001b[0my\u001b[0m \u001b[0;34m=\u001b[0m \u001b[0my\u001b[0m\u001b[0;34m.\u001b[0m\u001b[0mto\u001b[0m\u001b[0;34m(\u001b[0m\u001b[0;34m\"cuda:0\"\u001b[0m\u001b[0;34m)\u001b[0m\u001b[0;34m\u001b[0m\u001b[0;34m\u001b[0m\u001b[0m\n\u001b[1;32m     14\u001b[0m     \u001b[0mg\u001b[0m \u001b[0;34m=\u001b[0m \u001b[0mg\u001b[0m\u001b[0;34m.\u001b[0m\u001b[0mto\u001b[0m\u001b[0;34m(\u001b[0m\u001b[0;34m\"cuda:0\"\u001b[0m\u001b[0;34m)\u001b[0m\u001b[0;34m\u001b[0m\u001b[0;34m\u001b[0m\u001b[0m\n\u001b[0;32m---> 15\u001b[0;31m     \u001b[0mo\u001b[0m \u001b[0;34m=\u001b[0m \u001b[0mnet\u001b[0m\u001b[0;34m(\u001b[0m\u001b[0mx\u001b[0m\u001b[0;34m,\u001b[0m \u001b[0mg\u001b[0m\u001b[0;34m)\u001b[0m\u001b[0;34m\u001b[0m\u001b[0;34m\u001b[0m\u001b[0m\n\u001b[0m\u001b[1;32m     16\u001b[0m     \u001b[0mloss\u001b[0m \u001b[0;34m=\u001b[0m \u001b[0mloss_f\u001b[0m\u001b[0;34m(\u001b[0m\u001b[0mo\u001b[0m\u001b[0;34m,\u001b[0m \u001b[0my\u001b[0m\u001b[0;34m.\u001b[0m\u001b[0mview\u001b[0m\u001b[0;34m(\u001b[0m\u001b[0;34m-\u001b[0m\u001b[0;36m1\u001b[0m\u001b[0;34m)\u001b[0m\u001b[0;34m)\u001b[0m\u001b[0;34m\u001b[0m\u001b[0;34m\u001b[0m\u001b[0m\n\u001b[1;32m     17\u001b[0m     \u001b[0mnet\u001b[0m\u001b[0;34m.\u001b[0m\u001b[0mzero_grad\u001b[0m\u001b[0;34m(\u001b[0m\u001b[0;34m)\u001b[0m\u001b[0;34m\u001b[0m\u001b[0;34m\u001b[0m\u001b[0m\n",
            "\u001b[0;32m/usr/local/lib/python3.6/dist-packages/torch/nn/modules/module.py\u001b[0m in \u001b[0;36m__call__\u001b[0;34m(self, *input, **kwargs)\u001b[0m\n\u001b[1;32m    539\u001b[0m             \u001b[0mresult\u001b[0m \u001b[0;34m=\u001b[0m \u001b[0mself\u001b[0m\u001b[0;34m.\u001b[0m\u001b[0m_slow_forward\u001b[0m\u001b[0;34m(\u001b[0m\u001b[0;34m*\u001b[0m\u001b[0minput\u001b[0m\u001b[0;34m,\u001b[0m \u001b[0;34m**\u001b[0m\u001b[0mkwargs\u001b[0m\u001b[0;34m)\u001b[0m\u001b[0;34m\u001b[0m\u001b[0;34m\u001b[0m\u001b[0m\n\u001b[1;32m    540\u001b[0m         \u001b[0;32melse\u001b[0m\u001b[0;34m:\u001b[0m\u001b[0;34m\u001b[0m\u001b[0;34m\u001b[0m\u001b[0m\n\u001b[0;32m--> 541\u001b[0;31m             \u001b[0mresult\u001b[0m \u001b[0;34m=\u001b[0m \u001b[0mself\u001b[0m\u001b[0;34m.\u001b[0m\u001b[0mforward\u001b[0m\u001b[0;34m(\u001b[0m\u001b[0;34m*\u001b[0m\u001b[0minput\u001b[0m\u001b[0;34m,\u001b[0m \u001b[0;34m**\u001b[0m\u001b[0mkwargs\u001b[0m\u001b[0;34m)\u001b[0m\u001b[0;34m\u001b[0m\u001b[0;34m\u001b[0m\u001b[0m\n\u001b[0m\u001b[1;32m    542\u001b[0m         \u001b[0;32mfor\u001b[0m \u001b[0mhook\u001b[0m \u001b[0;32min\u001b[0m \u001b[0mself\u001b[0m\u001b[0;34m.\u001b[0m\u001b[0m_forward_hooks\u001b[0m\u001b[0;34m.\u001b[0m\u001b[0mvalues\u001b[0m\u001b[0;34m(\u001b[0m\u001b[0;34m)\u001b[0m\u001b[0;34m:\u001b[0m\u001b[0;34m\u001b[0m\u001b[0;34m\u001b[0m\u001b[0m\n\u001b[1;32m    543\u001b[0m             \u001b[0mhook_result\u001b[0m \u001b[0;34m=\u001b[0m \u001b[0mhook\u001b[0m\u001b[0;34m(\u001b[0m\u001b[0mself\u001b[0m\u001b[0;34m,\u001b[0m \u001b[0minput\u001b[0m\u001b[0;34m,\u001b[0m \u001b[0mresult\u001b[0m\u001b[0;34m)\u001b[0m\u001b[0;34m\u001b[0m\u001b[0;34m\u001b[0m\u001b[0m\n",
            "\u001b[0;32m/usr/local/lib/python3.6/dist-packages/torch/nn/modules/module.py\u001b[0m in \u001b[0;36mforward\u001b[0;34m(self, *input)\u001b[0m\n\u001b[1;32m     95\u001b[0m             \u001b[0mregistered\u001b[0m \u001b[0mhooks\u001b[0m \u001b[0;32mwhile\u001b[0m \u001b[0mthe\u001b[0m \u001b[0mlatter\u001b[0m \u001b[0msilently\u001b[0m \u001b[0mignores\u001b[0m \u001b[0mthem\u001b[0m\u001b[0;34m.\u001b[0m\u001b[0;34m\u001b[0m\u001b[0;34m\u001b[0m\u001b[0m\n\u001b[1;32m     96\u001b[0m         \"\"\"\n\u001b[0;32m---> 97\u001b[0;31m         \u001b[0;32mraise\u001b[0m \u001b[0mNotImplementedError\u001b[0m\u001b[0;34m\u001b[0m\u001b[0;34m\u001b[0m\u001b[0m\n\u001b[0m\u001b[1;32m     98\u001b[0m \u001b[0;34m\u001b[0m\u001b[0m\n\u001b[1;32m     99\u001b[0m     \u001b[0;32mdef\u001b[0m \u001b[0mregister_buffer\u001b[0m\u001b[0;34m(\u001b[0m\u001b[0mself\u001b[0m\u001b[0;34m,\u001b[0m \u001b[0mname\u001b[0m\u001b[0;34m,\u001b[0m \u001b[0mtensor\u001b[0m\u001b[0;34m)\u001b[0m\u001b[0;34m:\u001b[0m\u001b[0;34m\u001b[0m\u001b[0;34m\u001b[0m\u001b[0m\n",
            "\u001b[0;31mNotImplementedError\u001b[0m: "
          ]
        }
      ]
    },
    {
      "cell_type": "code",
      "metadata": {
        "id": "T7Vu6SFtvUTU",
        "colab_type": "code",
        "colab": {}
      },
      "source": [
        "# 指定した位置だけ1で残りが0のTensorを返す補助関数\n",
        "def make_genre_vector(i, max_len):\n",
        "  g = torch.zeros(max_len)\n",
        "  g[i] = 1\n",
        "  return g \n",
        "\n",
        "query_genres = [make_genre_vector(i, num_genres) for i in range(num_genres)]\n",
        "query_genres = torch.stack(query_genres, 1)\n",
        "\n",
        "# num_genres分だけuser_Id=100, movieId=0のTensorを作って結合する\n",
        "query = torch.stack([\n",
        "                     torch.empty(num_genres, dtype=torch.int64).fill_(100),\n",
        "                     torch.empty(num_genres, dtype=torch.int64).fill_(0)\n",
        "], 1)\n",
        "\n",
        "#GPUに転送\n",
        "query_genres = query_genres.to(\"cuda:0\")\n",
        "query = query.to(\"cuda:0\")\n",
        "\n"
      ],
      "execution_count": 0,
      "outputs": []
    },
    {
      "cell_type": "code",
      "metadata": {
        "id": "4ezdW7GizPGp",
        "colab_type": "code",
        "colab": {}
      },
      "source": [
        ""
      ],
      "execution_count": 0,
      "outputs": []
    }
  ]
}