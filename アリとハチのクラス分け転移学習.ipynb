{
  "nbformat": 4,
  "nbformat_minor": 0,
  "metadata": {
    "colab": {
      "name": "アリとハチのクラス分け転移学習.ipynb",
      "version": "0.3.2",
      "provenance": [],
      "include_colab_link": true
    },
    "kernelspec": {
      "name": "python3",
      "display_name": "Python 3"
    }
  },
  "cells": [
    {
      "cell_type": "markdown",
      "metadata": {
        "id": "view-in-github",
        "colab_type": "text"
      },
      "source": [
        "<a href=\"https://colab.research.google.com/github/KoMurase/Learning_my_interest/blob/master/%E3%82%A2%E3%83%AA%E3%81%A8%E3%83%8F%E3%83%81%E3%81%AE%E3%82%AF%E3%83%A9%E3%82%B9%E5%88%86%E3%81%91%E8%BB%A2%E7%A7%BB%E5%AD%A6%E7%BF%92.ipynb\" target=\"_parent\"><img src=\"https://colab.research.google.com/assets/colab-badge.svg\" alt=\"Open In Colab\"/></a>"
      ]
    },
    {
      "cell_type": "code",
      "metadata": {
        "id": "5d-rotlv7fqU",
        "colab_type": "code",
        "colab": {}
      },
      "source": [
        "import os\n",
        "import urllib.request\n",
        "import zipfile\n",
        "\n",
        "# フォルダ「data」が存在しない場合は作成する\n",
        "data_dir = \"./data/\"\n",
        "if not os.path.exists(data_dir):\n",
        "    os.mkdir(data_dir)\n",
        "\n",
        "# ImageNetのclass_indexをダウンロードする\n",
        "# Kerasで用意されているものです\n",
        "# https://github.com/fchollet/deep-learning-models/blob/master/imagenet_utils.py\n",
        "\n",
        "url = \"https://s3.amazonaws.com/deep-learning-models/image-models/imagenet_class_index.json\"\n",
        "save_path = os.path.join(data_dir, \"imagenet_class_index.json\")\n",
        "\n",
        "if not os.path.exists(save_path):\n",
        "    urllib.request.urlretrieve(url, save_path)\n",
        "    \n",
        "# 1.3節で使用するアリとハチの画像データをダウンロードし解凍します\n",
        "# PyTorchのチュートリアルで用意されているものです\n",
        "# https://pytorch.org/tutorials/beginner/transfer_learning_tutorial.html\n",
        "\n",
        "url = \"https://download.pytorch.org/tutorial/hymenoptera_data.zip\"\n",
        "save_path = os.path.join(data_dir, \"hymenoptera_data.zip\")\n",
        "\n",
        "if not os.path.exists(save_path):\n",
        "    urllib.request.urlretrieve(url, save_path)\n",
        "\n",
        "    # ZIPファイルを読み込み\n",
        "    zip = zipfile.ZipFile(save_path)\n",
        "    zip.extractall(data_dir)  # ZIPを解凍\n",
        "    zip.close()  # ZIPファイルをクローズ\n",
        "\n",
        "    # ZIPファイルを消去\n",
        "    os.remove(save_path)"
      ],
      "execution_count": 0,
      "outputs": []
    },
    {
      "cell_type": "code",
      "metadata": {
        "id": "wQA0GsGv715J",
        "colab_type": "code",
        "colab": {}
      },
      "source": [
        "import glob \n",
        "import os.path as osp \n",
        "import random \n",
        "import numpy as np \n",
        "import json \n",
        "from PIL import Image \n",
        "from tqdm import tqdm \n",
        "import matplotlib.pyplot as plt \n",
        "%matplotlib inline \n",
        "\n",
        "import torch \n",
        "import torch.nn as nn \n",
        "import torch.optim as optim \n",
        "import torch.utils.data as data \n",
        "import torchvision \n",
        "from torchvision import models , transforms "
      ],
      "execution_count": 0,
      "outputs": []
    },
    {
      "cell_type": "code",
      "metadata": {
        "id": "4EBMHSsp8-H2",
        "colab_type": "code",
        "colab": {}
      },
      "source": [
        "# 入力画像の前処理をするクラス\n",
        "# 訓練時と推論時で処理が異なる\n",
        "\n",
        "\n",
        "class ImageTransform():\n",
        "    \"\"\"\n",
        "    画像の前処理クラス。訓練時、検証時で異なる動作をする。\n",
        "    画像のサイズをリサイズし、色を標準化する。\n",
        "    訓練時はRandomResizedCropとRandomHorizontalFlipでデータオーギュメンテーションする。\n",
        "\n",
        "\n",
        "    Attributes\n",
        "    ----------\n",
        "    resize : int\n",
        "        リサイズ先の画像の大きさ。\n",
        "    mean : (R, G, B)\n",
        "        各色チャネルの平均値。\n",
        "    std : (R, G, B)\n",
        "        各色チャネルの標準偏差。\n",
        "    \"\"\"\n",
        "\n",
        "    def __init__(self, resize, mean, std):\n",
        "        self.data_transform = {\n",
        "            'train': transforms.Compose([\n",
        "                transforms.RandomResizedCrop(\n",
        "                    resize, scale=(0.5, 1.0)),  # データオーギュメンテーション\n",
        "                transforms.RandomHorizontalFlip(),  # データオーギュメンテーション\n",
        "                transforms.ToTensor(),  # テンソルに変換\n",
        "                transforms.Normalize(mean, std)  # 標準化\n",
        "            ]),\n",
        "            'val': transforms.Compose([\n",
        "                transforms.Resize(resize),  # リサイズ\n",
        "                transforms.CenterCrop(resize),  # 画像中央をresize×resizeで切り取り\n",
        "                transforms.ToTensor(),  # テンソルに変換\n",
        "                transforms.Normalize(mean, std)  # 標準化\n",
        "            ])\n",
        "        }\n",
        "\n",
        "    def __call__(self, img, phase='train'):\n",
        "        \"\"\"\n",
        "        Parameters\n",
        "        ----------\n",
        "        phase : 'train' or 'val'\n",
        "            前処理のモードを指定。\n",
        "        \"\"\"\n",
        "        return self.data_transform[phase](img)"
      ],
      "execution_count": 0,
      "outputs": []
    },
    {
      "cell_type": "code",
      "metadata": {
        "id": "NC0zlj2g_MlT",
        "colab_type": "code",
        "outputId": "a3942c34-cf03-4dcd-c21d-4c75a3b1a29b",
        "colab": {
          "base_uri": "https://localhost:8080/",
          "height": 1000
        }
      },
      "source": [
        "#アリとハチの画像へのファイルパスリストを作成する\n",
        "def make_datapath_list(phase='train'):\n",
        "  rootpath = './data/hymenoptera_data/'\n",
        "  target_path = osp.join(rootpath+phase+'/**/*.jpg')\n",
        "  print(target_path)\n",
        "  \n",
        "  path_list = []\n",
        "  \n",
        "  #globを利用してサブディレクトリまでパスを取得する\n",
        "  for path in glob.glob(target_path):\n",
        "    path_list.append(path)\n",
        "  \n",
        "  return path_list\n",
        "\n",
        "#実行\n",
        "train_list = make_datapath_list(phase='train')\n",
        "val_list = make_datapath_list(phase='val')\n",
        "\n",
        "train_list"
      ],
      "execution_count": 72,
      "outputs": [
        {
          "output_type": "stream",
          "text": [
            "./data/hymenoptera_data/train/**/*.jpg\n",
            "./data/hymenoptera_data/val/**/*.jpg\n"
          ],
          "name": "stdout"
        },
        {
          "output_type": "execute_result",
          "data": {
            "text/plain": [
              "['./data/hymenoptera_data/train/bees/174142798_e5ad6d76e0.jpg',\n",
              " './data/hymenoptera_data/train/bees/3090975720_71f12e6de4.jpg',\n",
              " './data/hymenoptera_data/train/bees/198508668_97d818b6c4.jpg',\n",
              " './data/hymenoptera_data/train/bees/472288710_2abee16fa0.jpg',\n",
              " './data/hymenoptera_data/train/bees/457457145_5f86eb7e9c.jpg',\n",
              " './data/hymenoptera_data/train/bees/98391118_bdb1e80cce.jpg',\n",
              " './data/hymenoptera_data/train/bees/774440991_63a4aa0cbe.jpg',\n",
              " './data/hymenoptera_data/train/bees/476347960_52edd72b06.jpg',\n",
              " './data/hymenoptera_data/train/bees/1097045929_1753d1c765.jpg',\n",
              " './data/hymenoptera_data/train/bees/3100226504_c0d4f1e3f1.jpg',\n",
              " './data/hymenoptera_data/train/bees/513545352_fd3e7c7c5d.jpg',\n",
              " './data/hymenoptera_data/train/bees/2861002136_52c7c6f708.jpg',\n",
              " './data/hymenoptera_data/train/bees/452462695_40a4e5b559.jpg',\n",
              " './data/hymenoptera_data/train/bees/342758693_c56b89b6b6.jpg',\n",
              " './data/hymenoptera_data/train/bees/2358061370_9daabbd9ac.jpg',\n",
              " './data/hymenoptera_data/train/bees/2601176055_8464e6aa71.jpg',\n",
              " './data/hymenoptera_data/train/bees/586041248_3032e277a9.jpg',\n",
              " './data/hymenoptera_data/train/bees/2683605182_9d2a0c66cf.jpg',\n",
              " './data/hymenoptera_data/train/bees/2364597044_3c3e3fc391.jpg',\n",
              " './data/hymenoptera_data/train/bees/2610838525_fe8e3cae47.jpg',\n",
              " './data/hymenoptera_data/train/bees/507288830_f46e8d4cb2.jpg',\n",
              " './data/hymenoptera_data/train/bees/2651621464_a2fa8722eb.jpg',\n",
              " './data/hymenoptera_data/train/bees/36900412_92b81831ad.jpg',\n",
              " './data/hymenoptera_data/train/bees/85112639_6e860b0469.jpg',\n",
              " './data/hymenoptera_data/train/bees/129236073_0985e91c7d.jpg',\n",
              " './data/hymenoptera_data/train/bees/2756397428_1d82a08807.jpg',\n",
              " './data/hymenoptera_data/train/bees/2617161745_fa3ebe85b4.jpg',\n",
              " './data/hymenoptera_data/train/bees/969455125_58c797ef17.jpg',\n",
              " './data/hymenoptera_data/train/bees/2707440199_cd170bd512.jpg',\n",
              " './data/hymenoptera_data/train/bees/2710368626_cb42882dc8.jpg',\n",
              " './data/hymenoptera_data/train/bees/2493379287_4100e1dacc.jpg',\n",
              " './data/hymenoptera_data/train/bees/2053200300_8911ef438a.jpg',\n",
              " './data/hymenoptera_data/train/bees/39672681_1302d204d1.jpg',\n",
              " './data/hymenoptera_data/train/bees/760568592_45a52c847f.jpg',\n",
              " './data/hymenoptera_data/train/bees/354167719_22dca13752.jpg',\n",
              " './data/hymenoptera_data/train/bees/21399619_3e61e5bb6f.jpg',\n",
              " './data/hymenoptera_data/train/bees/2467959963_a7831e9ff0.jpg',\n",
              " './data/hymenoptera_data/train/bees/2728759455_ce9bb8cd7a.jpg',\n",
              " './data/hymenoptera_data/train/bees/2227611847_ec72d40403.jpg',\n",
              " './data/hymenoptera_data/train/bees/279113587_b4843db199.jpg',\n",
              " './data/hymenoptera_data/train/bees/2959730355_416a18c63c.jpg',\n",
              " './data/hymenoptera_data/train/bees/90179376_abc234e5f4.jpg',\n",
              " './data/hymenoptera_data/train/bees/444532809_9e931e2279.jpg',\n",
              " './data/hymenoptera_data/train/bees/2477324698_3d4b1b1cab.jpg',\n",
              " './data/hymenoptera_data/train/bees/16838648_415acd9e3f.jpg',\n",
              " './data/hymenoptera_data/train/bees/196658222_3fffd79c67.jpg',\n",
              " './data/hymenoptera_data/train/bees/2495722465_879acf9d85.jpg',\n",
              " './data/hymenoptera_data/train/bees/2345177635_caf07159b3.jpg',\n",
              " './data/hymenoptera_data/train/bees/3030189811_01d095b793.jpg',\n",
              " './data/hymenoptera_data/train/bees/2486729079_62df0920be.jpg',\n",
              " './data/hymenoptera_data/train/bees/2445215254_51698ff797.jpg',\n",
              " './data/hymenoptera_data/train/bees/3074585407_9854eb3153.jpg',\n",
              " './data/hymenoptera_data/train/bees/3006264892_30e9cced70.jpg',\n",
              " './data/hymenoptera_data/train/bees/154600396_53e1252e52.jpg',\n",
              " './data/hymenoptera_data/train/bees/132826773_dbbcb117b9.jpg',\n",
              " './data/hymenoptera_data/train/bees/2652877533_a564830cbf.jpg',\n",
              " './data/hymenoptera_data/train/bees/2822388965_f6dca2a275.jpg',\n",
              " './data/hymenoptera_data/train/bees/1295655112_7813f37d21.jpg',\n",
              " './data/hymenoptera_data/train/bees/1092977343_cb42b38d62.jpg',\n",
              " './data/hymenoptera_data/train/bees/92663402_37f379e57a.jpg',\n",
              " './data/hymenoptera_data/train/bees/2625499656_e3415e374d.jpg',\n",
              " './data/hymenoptera_data/train/bees/2477349551_e75c97cf4d.jpg',\n",
              " './data/hymenoptera_data/train/bees/1691282715_0addfdf5e8.jpg',\n",
              " './data/hymenoptera_data/train/bees/2551813042_8a070aeb2b.jpg',\n",
              " './data/hymenoptera_data/train/bees/522104315_5d3cb2758e.jpg',\n",
              " './data/hymenoptera_data/train/bees/2645107662_b73a8595cc.jpg',\n",
              " './data/hymenoptera_data/train/bees/2722592222_258d473e17.jpg',\n",
              " './data/hymenoptera_data/train/bees/2384149906_2cd8b0b699.jpg',\n",
              " './data/hymenoptera_data/train/bees/3044402684_3853071a87.jpg',\n",
              " './data/hymenoptera_data/train/bees/196430254_46bd129ae7.jpg',\n",
              " './data/hymenoptera_data/train/bees/205835650_e6f2614bee.jpg',\n",
              " './data/hymenoptera_data/train/bees/2470492904_837e97800d.jpg',\n",
              " './data/hymenoptera_data/train/bees/2962405283_22718d9617.jpg',\n",
              " './data/hymenoptera_data/train/bees/359928878_b3b418c728.jpg',\n",
              " './data/hymenoptera_data/train/bees/2801728106_833798c909.jpg',\n",
              " './data/hymenoptera_data/train/bees/2452236943_255bfd9e58.jpg',\n",
              " './data/hymenoptera_data/train/bees/465133211_80e0c27f60.jpg',\n",
              " './data/hymenoptera_data/train/bees/469333327_358ba8fe8a.jpg',\n",
              " './data/hymenoptera_data/train/bees/95238259_98470c5b10.jpg',\n",
              " './data/hymenoptera_data/train/bees/2781170484_5d61835d63.jpg',\n",
              " './data/hymenoptera_data/train/bees/2037437624_2d7bce461f.jpg',\n",
              " './data/hymenoptera_data/train/bees/473618094_8ffdcab215.jpg',\n",
              " './data/hymenoptera_data/train/bees/2908916142_a7ac8b57a8.jpg',\n",
              " './data/hymenoptera_data/train/bees/1093831624_fb5fbe2308.jpg',\n",
              " './data/hymenoptera_data/train/bees/2397446847_04ef3cd3e1.jpg',\n",
              " './data/hymenoptera_data/train/bees/266644509_d30bb16a1b.jpg',\n",
              " './data/hymenoptera_data/train/bees/478701318_bbd5e557b8.jpg',\n",
              " './data/hymenoptera_data/train/bees/3030772428_8578335616.jpg',\n",
              " './data/hymenoptera_data/train/bees/2704348794_eb5d5178c2.jpg',\n",
              " './data/hymenoptera_data/train/bees/2610833167_79bf0bcae5.jpg',\n",
              " './data/hymenoptera_data/train/bees/873076652_eb098dab2d.jpg',\n",
              " './data/hymenoptera_data/train/bees/2528444139_fa728b0f5b.jpg',\n",
              " './data/hymenoptera_data/train/bees/2321139806_d73d899e66.jpg',\n",
              " './data/hymenoptera_data/train/bees/1799726602_8580867f71.jpg',\n",
              " './data/hymenoptera_data/train/bees/365759866_b15700c59b.jpg',\n",
              " './data/hymenoptera_data/train/bees/17209602_fe5a5a746f.jpg',\n",
              " './data/hymenoptera_data/train/bees/208702903_42fb4d9748.jpg',\n",
              " './data/hymenoptera_data/train/bees/3079610310_ac2d0ae7bc.jpg',\n",
              " './data/hymenoptera_data/train/bees/2486746709_c43cec0e42.jpg',\n",
              " './data/hymenoptera_data/train/bees/2031225713_50ed499635.jpg',\n",
              " './data/hymenoptera_data/train/bees/760526046_547e8b381f.jpg',\n",
              " './data/hymenoptera_data/train/bees/446296270_d9e8b93ecf.jpg',\n",
              " './data/hymenoptera_data/train/bees/29494643_e3410f0d37.jpg',\n",
              " './data/hymenoptera_data/train/bees/509247772_2db2d01374.jpg',\n",
              " './data/hymenoptera_data/train/bees/2765347790_da6cf6cb40.jpg',\n",
              " './data/hymenoptera_data/train/bees/132511197_0b86ad0fff.jpg',\n",
              " './data/hymenoptera_data/train/bees/39747887_42df2855ee.jpg',\n",
              " './data/hymenoptera_data/train/bees/2405441001_b06c36fa72.jpg',\n",
              " './data/hymenoptera_data/train/bees/2792000093_e8ae0718cf.jpg',\n",
              " './data/hymenoptera_data/train/bees/1232245714_f862fbe385.jpg',\n",
              " './data/hymenoptera_data/train/bees/1807583459_4fe92b3133.jpg',\n",
              " './data/hymenoptera_data/train/bees/1508176360_2972117c9d.jpg',\n",
              " './data/hymenoptera_data/train/bees/452462677_7be43af8ff.jpg',\n",
              " './data/hymenoptera_data/train/bees/150013791_969d9a968b.jpg',\n",
              " './data/hymenoptera_data/train/bees/2330918208_8074770c20.jpg',\n",
              " './data/hymenoptera_data/train/bees/537309131_532bfa59ea.jpg',\n",
              " './data/hymenoptera_data/train/bees/421515404_e87569fd8b.jpg',\n",
              " './data/hymenoptera_data/train/bees/2634617358_f32fd16bea.jpg',\n",
              " './data/hymenoptera_data/train/bees/2638074627_6b3ae746a0.jpg',\n",
              " './data/hymenoptera_data/train/bees/2538361678_9da84b77e3.jpg',\n",
              " './data/hymenoptera_data/train/bees/2580598377_a4caecdb54.jpg',\n",
              " './data/hymenoptera_data/train/ants/533848102_70a85ad6dd.jpg',\n",
              " './data/hymenoptera_data/train/ants/1924473702_daa9aacdbe.jpg',\n",
              " './data/hymenoptera_data/train/ants/148715752_302c84f5a4.jpg',\n",
              " './data/hymenoptera_data/train/ants/5650366_e22b7e1065.jpg',\n",
              " './data/hymenoptera_data/train/ants/224655713_3956f7d39a.jpg',\n",
              " './data/hymenoptera_data/train/ants/149244013_c529578289.jpg',\n",
              " './data/hymenoptera_data/train/ants/1099452230_d1949d3250.jpg',\n",
              " './data/hymenoptera_data/train/ants/424119020_6d57481dab.jpg',\n",
              " './data/hymenoptera_data/train/ants/474806473_ca6caab245.jpg',\n",
              " './data/hymenoptera_data/train/ants/543417860_b14237f569.jpg',\n",
              " './data/hymenoptera_data/train/ants/255434217_1b2b3fe0a4.jpg',\n",
              " './data/hymenoptera_data/train/ants/541630764_dbd285d63c.jpg',\n",
              " './data/hymenoptera_data/train/ants/kurokusa.jpg',\n",
              " './data/hymenoptera_data/train/ants/245647475_9523dfd13e.jpg',\n",
              " './data/hymenoptera_data/train/ants/886401651_f878e888cd.jpg',\n",
              " './data/hymenoptera_data/train/ants/49375974_e28ba6f17e.jpg',\n",
              " './data/hymenoptera_data/train/ants/470127037_513711fd21.jpg',\n",
              " './data/hymenoptera_data/train/ants/2292213964_ca51ce4bef.jpg',\n",
              " './data/hymenoptera_data/train/ants/957233405_25c1d1187b.jpg',\n",
              " './data/hymenoptera_data/train/ants/0013035.jpg',\n",
              " './data/hymenoptera_data/train/ants/167890289_dd5ba923f3.jpg',\n",
              " './data/hymenoptera_data/train/ants/522415432_2218f34bf8.jpg',\n",
              " './data/hymenoptera_data/train/ants/6240329_72c01e663e.jpg',\n",
              " './data/hymenoptera_data/train/ants/795000156_a9900a4a71.jpg',\n",
              " './data/hymenoptera_data/train/ants/512164029_c0a66b8498.jpg',\n",
              " './data/hymenoptera_data/train/ants/9715481_b3cb4114ff.jpg',\n",
              " './data/hymenoptera_data/train/ants/339670531_94b75ae47a.jpg',\n",
              " './data/hymenoptera_data/train/ants/938946700_ca1c669085.jpg',\n",
              " './data/hymenoptera_data/train/ants/2019439677_2db655d361.jpg',\n",
              " './data/hymenoptera_data/train/ants/162603798_40b51f1654.jpg',\n",
              " './data/hymenoptera_data/train/ants/707895295_009cf23188.jpg',\n",
              " './data/hymenoptera_data/train/ants/1489674356_09d48dde0a.jpg',\n",
              " './data/hymenoptera_data/train/ants/506249836_717b73f540.jpg',\n",
              " './data/hymenoptera_data/train/ants/28847243_e79fe052cd.jpg',\n",
              " './data/hymenoptera_data/train/ants/342438950_a3da61deab.jpg',\n",
              " './data/hymenoptera_data/train/ants/518773929_734dbc5ff4.jpg',\n",
              " './data/hymenoptera_data/train/ants/trap-jaw-ant-insect-bg.jpg',\n",
              " './data/hymenoptera_data/train/ants/1368913450_e146e2fb6d.jpg',\n",
              " './data/hymenoptera_data/train/ants/1808777855_2a895621d7.jpg',\n",
              " './data/hymenoptera_data/train/ants/1360291657_dc248c5eea.jpg',\n",
              " './data/hymenoptera_data/train/ants/154124431_65460430f2.jpg',\n",
              " './data/hymenoptera_data/train/ants/ant photos.jpg',\n",
              " './data/hymenoptera_data/train/ants/424873399_47658a91fb.jpg',\n",
              " './data/hymenoptera_data/train/ants/560966032_988f4d7bc4.jpg',\n",
              " './data/hymenoptera_data/train/ants/1473187633_63ccaacea6.jpg',\n",
              " './data/hymenoptera_data/train/ants/6743948_2b8c096dda.jpg',\n",
              " './data/hymenoptera_data/train/ants/2265824718_2c96f485da.jpg',\n",
              " './data/hymenoptera_data/train/ants/512863248_43c8ce579b.jpg',\n",
              " './data/hymenoptera_data/train/ants/386190770_672743c9a7.jpg',\n",
              " './data/hymenoptera_data/train/ants/150801003_3390b73135.jpg',\n",
              " './data/hymenoptera_data/train/ants/201558278_fe4caecc76.jpg',\n",
              " './data/hymenoptera_data/train/ants/460874319_0a45ab4d05.jpg',\n",
              " './data/hymenoptera_data/train/ants/116570827_e9c126745d.jpg',\n",
              " './data/hymenoptera_data/train/ants/408393566_b5b694119b.jpg',\n",
              " './data/hymenoptera_data/train/ants/188552436_605cc9b36b.jpg',\n",
              " './data/hymenoptera_data/train/ants/Nepenthes_rafflesiana_ant.jpg',\n",
              " './data/hymenoptera_data/train/ants/36439863_0bec9f554f.jpg',\n",
              " './data/hymenoptera_data/train/ants/2288450226_a6e96e8fdf.jpg',\n",
              " './data/hymenoptera_data/train/ants/535522953_308353a07c.jpg',\n",
              " './data/hymenoptera_data/train/ants/226951206_d6bf946504.jpg',\n",
              " './data/hymenoptera_data/train/ants/175998972.jpg',\n",
              " './data/hymenoptera_data/train/ants/termite-vs-ant.jpg',\n",
              " './data/hymenoptera_data/train/ants/475961153_b8c13fd405.jpg',\n",
              " './data/hymenoptera_data/train/ants/662541407_ff8db781e7.jpg',\n",
              " './data/hymenoptera_data/train/ants/MehdiabadiAnt2_600.jpg',\n",
              " './data/hymenoptera_data/train/ants/1286984635_5119e80de1.jpg',\n",
              " './data/hymenoptera_data/train/ants/522163566_fec115ca66.jpg',\n",
              " './data/hymenoptera_data/train/ants/hormiga_co_por.jpg',\n",
              " './data/hymenoptera_data/train/ants/45472593_bfd624f8dc.jpg',\n",
              " './data/hymenoptera_data/train/ants/460372577_f2f6a8c9fc.jpg',\n",
              " './data/hymenoptera_data/train/ants/201790779_527f4c0168.jpg',\n",
              " './data/hymenoptera_data/train/ants/540889389_48bb588b21.jpg',\n",
              " './data/hymenoptera_data/train/ants/392382602_1b7bed32fa.jpg',\n",
              " './data/hymenoptera_data/train/ants/374435068_7eee412ec4.jpg',\n",
              " './data/hymenoptera_data/train/ants/1269756697_0bce92cdab.jpg',\n",
              " './data/hymenoptera_data/train/ants/1660097129_384bf54490.jpg',\n",
              " './data/hymenoptera_data/train/ants/69639610_95e0de17aa.jpg',\n",
              " './data/hymenoptera_data/train/ants/150801171_cd86f17ed8.jpg',\n",
              " './data/hymenoptera_data/train/ants/318052216_84dff3f98a.jpg',\n",
              " './data/hymenoptera_data/train/ants/VietnameseAntMimicSpider.jpg',\n",
              " './data/hymenoptera_data/train/ants/382971067_0bfd33afe0.jpg',\n",
              " './data/hymenoptera_data/train/ants/506249802_207cd979b4.jpg',\n",
              " './data/hymenoptera_data/train/ants/466430434_4000737de9.jpg',\n",
              " './data/hymenoptera_data/train/ants/684133190_35b62c0c1d.jpg',\n",
              " './data/hymenoptera_data/train/ants/998118368_6ac1d91f81.jpg',\n",
              " './data/hymenoptera_data/train/ants/207947948_3ab29d7207.jpg',\n",
              " './data/hymenoptera_data/train/ants/258217966_d9d90d18d3.jpg',\n",
              " './data/hymenoptera_data/train/ants/649026570_e58656104b.jpg',\n",
              " './data/hymenoptera_data/train/ants/2278278459_6b99605e50.jpg',\n",
              " './data/hymenoptera_data/train/ants/1693954099_46d4c20605.jpg',\n",
              " './data/hymenoptera_data/train/ants/275429470_b2d7d9290b.jpg',\n",
              " './data/hymenoptera_data/train/ants/2288481644_83ff7e4572.jpg',\n",
              " './data/hymenoptera_data/train/ants/1262877379_64fcada201.jpg',\n",
              " './data/hymenoptera_data/train/ants/384191229_5779cf591b.jpg',\n",
              " './data/hymenoptera_data/train/ants/24335309_c5ea483bb8.jpg',\n",
              " './data/hymenoptera_data/train/ants/2265825502_fff99cfd2d.jpg',\n",
              " './data/hymenoptera_data/train/ants/1917341202_d00a7f9af5.jpg',\n",
              " './data/hymenoptera_data/train/ants/178538489_bec7649292.jpg',\n",
              " './data/hymenoptera_data/train/ants/403746349_71384f5b58.jpg',\n",
              " './data/hymenoptera_data/train/ants/7759525_1363d24e88.jpg',\n",
              " './data/hymenoptera_data/train/ants/1804095607_0341701e1c.jpg',\n",
              " './data/hymenoptera_data/train/ants/1095476100_3906d8afde.jpg',\n",
              " './data/hymenoptera_data/train/ants/822537660_caf4ba5514.jpg',\n",
              " './data/hymenoptera_data/train/ants/459694881_ac657d3187.jpg',\n",
              " './data/hymenoptera_data/train/ants/450057712_771b3bfc91.jpg',\n",
              " './data/hymenoptera_data/train/ants/1225872729_6f0856588f.jpg',\n",
              " './data/hymenoptera_data/train/ants/82852639_52b7f7f5e3.jpg',\n",
              " './data/hymenoptera_data/train/ants/334167043_cbd1adaeb9.jpg',\n",
              " './data/hymenoptera_data/train/ants/67270775_e9fdf77e9d.jpg',\n",
              " './data/hymenoptera_data/train/ants/531979952_bde12b3bc0.jpg',\n",
              " './data/hymenoptera_data/train/ants/841049277_b28e58ad05.jpg',\n",
              " './data/hymenoptera_data/train/ants/Ant_1.jpg',\n",
              " './data/hymenoptera_data/train/ants/196057951_63bf063b92.jpg',\n",
              " './data/hymenoptera_data/train/ants/army-ants-red-picture.jpg',\n",
              " './data/hymenoptera_data/train/ants/132478121_2a430adea2.jpg',\n",
              " './data/hymenoptera_data/train/ants/484293231_e53cfc0c89.jpg',\n",
              " './data/hymenoptera_data/train/ants/1030023514_aad5c608f9.jpg',\n",
              " './data/hymenoptera_data/train/ants/892108839_f1aad4ca46.jpg',\n",
              " './data/hymenoptera_data/train/ants/196757565_326437f5fe.jpg',\n",
              " './data/hymenoptera_data/train/ants/20935278_9190345f6b.jpg',\n",
              " './data/hymenoptera_data/train/ants/swiss-army-ant.jpg',\n",
              " './data/hymenoptera_data/train/ants/6240338_93729615ec.jpg']"
            ]
          },
          "metadata": {
            "tags": []
          },
          "execution_count": 72
        }
      ]
    },
    {
      "cell_type": "code",
      "metadata": {
        "id": "2SsxAvVW_MnZ",
        "colab_type": "code",
        "outputId": "472f3fc5-f5b4-408b-f9df-4f63a1cbd99d",
        "colab": {
          "base_uri": "https://localhost:8080/",
          "height": 52
        }
      },
      "source": [
        "#Datasetの作成\n",
        "\n",
        "class HymenopteraDataset(data.Dataset):\n",
        "  \"\"\"\n",
        "  アリとハチの画像のDatasetクラス.PytorchのDatasetクラスを継承\n",
        "  \"\"\"\n",
        "  def __init__(self,file_list,transform=None,phase='train'):\n",
        "    self.file_list = file_list\n",
        "    self.transform = transform \n",
        "    self.phase = phase\n",
        "    \n",
        "  def __len__(self):\n",
        "    \"\"\"画像の枚数を返す\"\"\"\n",
        "    return len(self.file_list)\n",
        "  \n",
        "  def __getitem__(self,index):\n",
        "    '''\n",
        "    前処理をした画像のTensoor形式のデータとラベルを取得\n",
        "    '''\n",
        "    img_path = self.file_list[index]\n",
        "    img = Image.open(img_path)\n",
        "    \n",
        "    #画像の前処理を実施\n",
        "    img_transformed = self.transform(\n",
        "        img,self.phase\n",
        "    ) #torch.Size([3,224,224])\n",
        "    \n",
        "    #画像のラベルをファイル名から抜き出す\n",
        "    if self.phase == 'train':\n",
        "      label = img_path[30:34]\n",
        "    elif self.phase == 'val':\n",
        "      label = img_path[28:32]\n",
        "    \n",
        "    #ラベルを数値に変換\n",
        "    if label == 'ants':\n",
        "      label = 0\n",
        "    elif label == 'bees':\n",
        "      label = 1\n",
        "      \n",
        "    return img_transformed, label\n",
        "  \n",
        " #実行\n",
        "train_dataset = HymenopteraDataset(\n",
        "      file_list = train_list,transform=ImageTransform(size,mean,std),phase='train'\n",
        "    )\n",
        "val_dataset = HymenopteraDataset(\n",
        "      file_list = val_list,transform=ImageTransform(size,mean,std),phase='val'\n",
        "    )\n",
        "    \n",
        "#indexの確認\n",
        "index = 0\n",
        "print(train_dataset.__getitem__(index)[0].size())\n",
        "print(train_dataset.__getitem__(index)[1])\n",
        "     "
      ],
      "execution_count": 74,
      "outputs": [
        {
          "output_type": "stream",
          "text": [
            "torch.Size([3, 224, 224])\n",
            "1\n"
          ],
          "name": "stdout"
        }
      ]
    },
    {
      "cell_type": "code",
      "metadata": {
        "id": "JSGnw16r_Mqw",
        "colab_type": "code",
        "colab": {
          "base_uri": "https://localhost:8080/",
          "height": 70
        },
        "outputId": "0480abef-0fd2-4e6f-faae-f12f4b719c7b"
      },
      "source": [
        "#1DataLoader を設定\n",
        "batch_size = 32 \n",
        "\n",
        "#DataLoaderを作成\n",
        "train_loader = torch.utils.data.DataLoader(\n",
        "train_dataset,batch_size = batch_size,shuffle=True\n",
        ")\n",
        "\n",
        "val_dataloader = torch.utils.data.DataLoader(\n",
        "val_dataset,batch_size=batch_size,shuffle=False\n",
        ")\n",
        "\n",
        "#辞書型にまとめる\n",
        "dataloaders_dict = {'train':train_loader,'val':val_dataloader}\n",
        "\n",
        "#動作確認\n",
        "batch_iterator = iter(dataloaders_dict['train']) #イテレータに変換\n",
        "inputs , labels = next(batch_iterator)\n",
        "print(inputs.size())\n",
        "print(labels)"
      ],
      "execution_count": 76,
      "outputs": [
        {
          "output_type": "stream",
          "text": [
            "torch.Size([32, 3, 224, 224])\n",
            "tensor([1, 0, 0, 0, 1, 1, 0, 0, 1, 0, 0, 1, 0, 0, 1, 0, 0, 0, 1, 0, 1, 0, 1, 0,\n",
            "        0, 0, 1, 1, 1, 1, 1, 0])\n"
          ],
          "name": "stdout"
        }
      ]
    },
    {
      "cell_type": "code",
      "metadata": {
        "id": "lmxN5Q9nh9zl",
        "colab_type": "code",
        "colab": {
          "base_uri": "https://localhost:8080/",
          "height": 34
        },
        "outputId": "b127c939-b733-4bd3-b5d3-0fbe2357aa4b"
      },
      "source": [
        "#学習済みのVGG-16モデルをロードする\n",
        "use_pretrained = True\n",
        "net = models.vgg16(pretrained=use_pretrained)\n",
        "\n",
        "#最後の出力層を今回の二つに付け替える\n",
        "net.classifier[6] = nn.Linear(in_features = 4096,out_features=2)\n",
        "\n",
        "#訓練モードに設定\n",
        "net.train()\n",
        "\n",
        "print('ネットワーク設定完了')"
      ],
      "execution_count": 78,
      "outputs": [
        {
          "output_type": "stream",
          "text": [
            "ネットワーク設定完了\n"
          ],
          "name": "stdout"
        }
      ]
    },
    {
      "cell_type": "code",
      "metadata": {
        "id": "jddwd5cujSI9",
        "colab_type": "code",
        "colab": {}
      },
      "source": [
        "#損失関数を定義\n",
        "criterion = nn.CrossEntropyLoss()"
      ],
      "execution_count": 0,
      "outputs": []
    },
    {
      "cell_type": "code",
      "metadata": {
        "id": "_cXCYVn_jyJ6",
        "colab_type": "code",
        "colab": {
          "base_uri": "https://localhost:8080/",
          "height": 158
        },
        "outputId": "6034f95a-34eb-4f93-ca82-60fd08411c60"
      },
      "source": [
        "#最適化手法設定する\n",
        "#転移学習で学習させるパラメータを変数params_to_updateに格納する\n",
        "params_to_update = []\n",
        "\n",
        "#学習するパラメータ名\n",
        "update_param_names=['classifier.6.weight','classifier.6.bias']\n",
        "\n",
        "#学習させるパラメータ以外は勾配計算をなくし,変化しないように設定\n",
        "for name,param in net.named_parameters():\n",
        "  if name in update_param_names:\n",
        "    param.requires_grad = True\n",
        "    params_to_update.append(param)\n",
        "    print(name)\n",
        "  else:\n",
        "    param.requires_grad = False\n",
        "\n",
        "print('params_to_updateの中身を確認します')\n",
        "print(params_to_update)"
      ],
      "execution_count": 82,
      "outputs": [
        {
          "output_type": "stream",
          "text": [
            "classifier.6.weight\n",
            "classifier.6.bias\n",
            "params_to_updateの中身を確認します\n",
            "[Parameter containing:\n",
            "tensor([[-0.0069,  0.0014,  0.0033,  ...,  0.0050,  0.0072,  0.0087],\n",
            "        [ 0.0053,  0.0033, -0.0129,  ..., -0.0073,  0.0155, -0.0039]],\n",
            "       requires_grad=True), Parameter containing:\n",
            "tensor([-4.8217e-03,  6.2063e-05], requires_grad=True)]\n"
          ],
          "name": "stdout"
        }
      ]
    },
    {
      "cell_type": "code",
      "metadata": {
        "id": "cJpa4YLeleZR",
        "colab_type": "code",
        "colab": {}
      },
      "source": [
        "#最適化アルゴリズムの設定\n",
        "optimizer = optim.SGD(params=params_to_update,lr=0.001,momentum=0.9)"
      ],
      "execution_count": 0,
      "outputs": []
    },
    {
      "cell_type": "code",
      "metadata": {
        "id": "DFpdpXFzmGD5",
        "colab_type": "code",
        "colab": {}
      },
      "source": [
        "#モデルを学習する関数を定義する\n",
        "def train_model(net,dataloaders_dict,criterion,optimizer,num_epochs):\n",
        "  \n",
        "  #epochのループ\n",
        "  for epoch in range(num_epochs):\n",
        "    print('Epoch {}/{}'.format(epoch+1, num_epochs))\n",
        "    \n",
        "    print('--------------------')\n",
        "    \n",
        "    #epochごとの学習と検証のループ\n",
        "    for phase in ['train','val']:\n",
        "      if phase == 'train':\n",
        "        net.train()  #モデルを訓練モードに\n",
        "      else : \n",
        "        net.eval()   #モデルを検証モードに\n",
        "        \n",
        "      epoch_loss = 0.0 #epochの損失和\n",
        "      epoch_corrects = 0 #epochの正解数\n",
        "      \n",
        "      #未学習の検証性能を確かめるためにepoch=0の訓練は省略\n",
        "      if (epoch == 0) and (phase == 'train'):\n",
        "        continue\n",
        "      #データローダーからミニバッチを取り出すループ\n",
        "      for inputs,labels in tqdm(dataloaders_dict[phase]):\n",
        "        \n",
        "        #optimizerを初期化\n",
        "        optimizer.zero_grad()\n",
        "        \n",
        "        #順伝搬(forward)計算\n",
        "        with torch.set_grad_enabled(phase == 'train'):\n",
        "          outputs = net(inputs)\n",
        "          loss = criterion(outputs,labels) #損失を計算\n",
        "          _,preds = torch.max(outputs,1) #ラベルを予測\n",
        "          \n",
        "          #訓練時はバックプロバケーション\n",
        "          if phase == 'train':\n",
        "            loss.backward()\n",
        "            optimizer.step()\n",
        "            \n",
        "          #イテレーション結果の計算\n",
        "          #lossの合計を計算\n",
        "          epoch_loss += loss.item() * inputs.size(0)\n",
        "          #正解数の合計を更新\n",
        "          epoch_corrects += torch.sum(preds == labels.data)\n",
        "       \n",
        "      #epochごとのlossと正解率を表示\n",
        "      epoch_loss = epoch_loss / len(dataloaders_dict[phase].dataset)\n",
        "      epoch_acc = epoch_corrects.double() / len(dataloaders_dict[phase].dataset)\n",
        "      \n",
        "      print('{} Los:{:.4f} Acc{:.4f}'.format(phase,epoch_loss,epoch_acc))"
      ],
      "execution_count": 0,
      "outputs": []
    },
    {
      "cell_type": "code",
      "metadata": {
        "id": "kWMK4L7DqTtq",
        "colab_type": "code",
        "colab": {
          "base_uri": "https://localhost:8080/",
          "height": 193
        },
        "outputId": "b700de20-c8b5-433b-d8ad-9dc5627befab"
      },
      "source": [
        "#学習,検証を実行\n",
        "num_epochs = 2\n",
        "train_model(net,dataloaders_dict,criterion,optimizer,num_epochs=num_epochs)"
      ],
      "execution_count": 87,
      "outputs": [
        {
          "output_type": "stream",
          "text": [
            "\r  0%|          | 0/5 [00:00<?, ?it/s]"
          ],
          "name": "stderr"
        },
        {
          "output_type": "stream",
          "text": [
            "Epoch 1/2\n",
            "--------------------\n"
          ],
          "name": "stdout"
        },
        {
          "output_type": "stream",
          "text": [
            "100%|██████████| 5/5 [01:27<00:00, 17.11s/it]\n",
            "  0%|          | 0/8 [00:00<?, ?it/s]"
          ],
          "name": "stderr"
        },
        {
          "output_type": "stream",
          "text": [
            "val Los:0.9159 Acc0.2353\n",
            "Epoch 2/2\n",
            "--------------------\n"
          ],
          "name": "stdout"
        },
        {
          "output_type": "stream",
          "text": [
            "100%|██████████| 8/8 [02:14<00:00, 15.66s/it]\n",
            "  0%|          | 0/5 [00:00<?, ?it/s]"
          ],
          "name": "stderr"
        },
        {
          "output_type": "stream",
          "text": [
            "train Los:0.5552 Acc0.6626\n"
          ],
          "name": "stdout"
        },
        {
          "output_type": "stream",
          "text": [
            "100%|██████████| 5/5 [01:25<00:00, 16.64s/it]"
          ],
          "name": "stderr"
        },
        {
          "output_type": "stream",
          "text": [
            "val Los:0.1806 Acc0.9412\n"
          ],
          "name": "stdout"
        },
        {
          "output_type": "stream",
          "text": [
            "\n"
          ],
          "name": "stderr"
        }
      ]
    },
    {
      "cell_type": "code",
      "metadata": {
        "id": "qdsuCQOTqrmy",
        "colab_type": "code",
        "colab": {}
      },
      "source": [
        ""
      ],
      "execution_count": 0,
      "outputs": []
    }
  ]
}