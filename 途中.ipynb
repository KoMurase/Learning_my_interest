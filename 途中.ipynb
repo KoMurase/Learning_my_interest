{
  "nbformat": 4,
  "nbformat_minor": 0,
  "metadata": {
    "colab": {
      "name": "途中.ipynb",
      "provenance": [],
      "collapsed_sections": [],
      "include_colab_link": true
    },
    "kernelspec": {
      "name": "python3",
      "display_name": "Python 3"
    }
  },
  "cells": [
    {
      "cell_type": "markdown",
      "metadata": {
        "id": "view-in-github",
        "colab_type": "text"
      },
      "source": [
        "<a href=\"https://colab.research.google.com/github/KoMurase/Learning_my_interest/blob/master/%E9%80%94%E4%B8%AD.ipynb\" target=\"_parent\"><img src=\"https://colab.research.google.com/assets/colab-badge.svg\" alt=\"Open In Colab\"/></a>"
      ]
    },
    {
      "cell_type": "code",
      "metadata": {
        "id": "sO3h8ccjhQN_",
        "colab_type": "code",
        "outputId": "5e51410d-1b0e-481a-e360-0a9adacaeafa",
        "colab": {
          "base_uri": "https://localhost:8080/",
          "height": 54
        }
      },
      "source": [
        "from google.colab import drive\n",
        "drive.mount('/content/drive')"
      ],
      "execution_count": 79,
      "outputs": [
        {
          "output_type": "stream",
          "text": [
            "Drive already mounted at /content/drive; to attempt to forcibly remount, call drive.mount(\"/content/drive\", force_remount=True).\n"
          ],
          "name": "stdout"
        }
      ]
    },
    {
      "cell_type": "code",
      "metadata": {
        "id": "sgQ7MgAIhS3k",
        "colab_type": "code",
        "colab": {}
      },
      "source": [
        "#import \n",
        "import torch \n",
        "import torch.nn as nn \n",
        "import torch .optim as optim \n",
        "import torch.utils.data as data \n",
        "import torchvision \n",
        "from torchvision import models, transforms \n",
        "\n",
        "import time\n",
        "import glob \n",
        "import os.path as osp \n",
        "import random \n",
        "import numpy as np \n",
        "import json \n",
        "from tqdm import tqdm\n",
        "import matplotlib.pyplot as plt \n",
        "%matplotlib inline \n",
        "from PIL import Image  "
      ],
      "execution_count": 0,
      "outputs": []
    },
    {
      "cell_type": "code",
      "metadata": {
        "id": "ENfUGXxzidck",
        "colab_type": "code",
        "colab": {}
      },
      "source": [
        "class Generator(nn.Module):\n",
        "  def __init__(self,z_dim=20,image_size=64):\n",
        "    super(Generator,self).__init__()\n",
        "\n",
        "    self.layer1 = nn.Sequential(\n",
        "        nn.ConvTranspose2d(z_dim,image_size * 8, kernel_size=4,stride=1),\n",
        "        nn.BatchNorm2d(image_size*8),\n",
        "        nn.ReLU(inplace=True)\n",
        "    )\n",
        "    self.layer2 = nn.Sequential(\n",
        "        nn.ConvTranspose2d(image_size * 8,image_size*4, kernel_size=4,stride=2,padding=1),\n",
        "        nn.BatchNorm2d(image_size*4),\n",
        "        nn.ReLU(inplace=True)\n",
        "    )\n",
        "    self.layer3 = nn.Sequential(\n",
        "        nn.ConvTranspose2d(image_size * 4,image_size*2, kernel_size=4,stride=2,padding=1),\n",
        "        nn.BatchNorm2d(image_size*2),\n",
        "        nn.ReLU(inplace=True)\n",
        "    )\n",
        "    self.layer4 = nn.Sequential(\n",
        "        nn.ConvTranspose2d(image_size * 2,image_size, kernel_size=4,stride=2,padding=1),\n",
        "        nn.BatchNorm2d(image_size),\n",
        "        nn.ReLU(inplace=True)\n",
        "    )\n",
        "    self.last=nn.Sequential(\n",
        "        nn.ConvTranspose2d(image_size, 1, kernel_size=4,stride=2,padding = 1),\n",
        "    nn.Tanh()\n",
        "    )\n",
        "\n",
        "  def forward(self,z):\n",
        "    out = self.layer1(z)\n",
        "    out = self.layer2(out)\n",
        "    out = self.layer3(out)\n",
        "    out = self.layer4(out)\n",
        "    out = self.last(out)\n",
        "    return out "
      ],
      "execution_count": 0,
      "outputs": []
    },
    {
      "cell_type": "code",
      "metadata": {
        "id": "lDFE0xiykmnh",
        "colab_type": "code",
        "colab": {}
      },
      "source": [
        "def make_datapath_list_sub():\n",
        "  rootpath = '/content/drive/My Drive/Ironman/output/'\n",
        "  target_path = osp.join(rootpath+'*.jpg')\n",
        "  print(target_path)\n",
        "  \n",
        "  path_list = []\n",
        "  \n",
        "  #globを利用してサブディレクトリまでパスを取得する\n",
        "  for path in glob.glob(target_path):\n",
        "    path_list.append(path)\n",
        "  \n",
        "  return path_list"
      ],
      "execution_count": 0,
      "outputs": []
    },
    {
      "cell_type": "code",
      "metadata": {
        "id": "_rY9TUdWk-tC",
        "colab_type": "code",
        "outputId": "4924d9ef-1f9c-45ac-8d41-fcabffee577f",
        "colab": {
          "base_uri": "https://localhost:8080/",
          "height": 34
        }
      },
      "source": [
        "train_img_list = make_datapath_list_sub()"
      ],
      "execution_count": 83,
      "outputs": [
        {
          "output_type": "stream",
          "text": [
            "/content/drive/My Drive/Ironman/output/*.jpg\n"
          ],
          "name": "stdout"
        }
      ]
    },
    {
      "cell_type": "code",
      "metadata": {
        "id": "HVh9q6OnmFvr",
        "colab_type": "code",
        "outputId": "6032a1bc-b31c-4d01-99bb-fa2bc541f213",
        "colab": {
          "base_uri": "https://localhost:8080/",
          "height": 1000
        }
      },
      "source": [
        "print(len(train_img_list))\n",
        "train_img_list"
      ],
      "execution_count": 84,
      "outputs": [
        {
          "output_type": "stream",
          "text": [
            "107\n"
          ],
          "name": "stdout"
        },
        {
          "output_type": "execute_result",
          "data": {
            "text/plain": [
              "['/content/drive/My Drive/Ironman/output/21_resize.jpg',\n",
              " '/content/drive/My Drive/Ironman/output/20_resize.jpg',\n",
              " '/content/drive/My Drive/Ironman/output/15_resize.jpg',\n",
              " '/content/drive/My Drive/Ironman/output/14_resize.jpg',\n",
              " '/content/drive/My Drive/Ironman/output/16_resize.jpg',\n",
              " '/content/drive/My Drive/Ironman/output/17_resize.jpg',\n",
              " '/content/drive/My Drive/Ironman/output/19_resize.jpg',\n",
              " '/content/drive/My Drive/Ironman/output/18_resize.jpg',\n",
              " '/content/drive/My Drive/Ironman/output/1_resize.jpg',\n",
              " '/content/drive/My Drive/Ironman/output/13_resize.jpg',\n",
              " '/content/drive/My Drive/Ironman/output/12_resize.jpg',\n",
              " '/content/drive/My Drive/Ironman/output/11_resize.jpg',\n",
              " '/content/drive/My Drive/Ironman/output/103_resize.jpg',\n",
              " '/content/drive/My Drive/Ironman/output/100_resize.jpg',\n",
              " '/content/drive/My Drive/Ironman/output/102_resize.jpg',\n",
              " '/content/drive/My Drive/Ironman/output/104_resize.jpg',\n",
              " '/content/drive/My Drive/Ironman/output/105_resize.jpg',\n",
              " '/content/drive/My Drive/Ironman/output/106_resize.jpg',\n",
              " '/content/drive/My Drive/Ironman/output/10_resize.jpg',\n",
              " '/content/drive/My Drive/Ironman/output/101_resize.jpg',\n",
              " '/content/drive/My Drive/Ironman/output/0_resize.jpg',\n",
              " '/content/drive/My Drive/Ironman/output/76_resize.jpg',\n",
              " '/content/drive/My Drive/Ironman/output/72_resize.jpg',\n",
              " '/content/drive/My Drive/Ironman/output/73_resize.jpg',\n",
              " '/content/drive/My Drive/Ironman/output/74_resize.jpg',\n",
              " '/content/drive/My Drive/Ironman/output/75_resize.jpg',\n",
              " '/content/drive/My Drive/Ironman/output/71_resize.jpg',\n",
              " '/content/drive/My Drive/Ironman/output/69_resize.jpg',\n",
              " '/content/drive/My Drive/Ironman/output/6_resize.jpg',\n",
              " '/content/drive/My Drive/Ironman/output/70_resize.jpg',\n",
              " '/content/drive/My Drive/Ironman/output/68_resize.jpg',\n",
              " '/content/drive/My Drive/Ironman/output/67_resize.jpg',\n",
              " '/content/drive/My Drive/Ironman/output/65_resize.jpg',\n",
              " '/content/drive/My Drive/Ironman/output/63_resize.jpg',\n",
              " '/content/drive/My Drive/Ironman/output/61_resize.jpg',\n",
              " '/content/drive/My Drive/Ironman/output/5_resize.jpg',\n",
              " '/content/drive/My Drive/Ironman/output/62_resize.jpg',\n",
              " '/content/drive/My Drive/Ironman/output/64_resize.jpg',\n",
              " '/content/drive/My Drive/Ironman/output/66_resize.jpg',\n",
              " '/content/drive/My Drive/Ironman/output/60_resize.jpg',\n",
              " '/content/drive/My Drive/Ironman/output/59_resize.jpg',\n",
              " '/content/drive/My Drive/Ironman/output/58_resize.jpg',\n",
              " '/content/drive/My Drive/Ironman/output/57_resize.jpg',\n",
              " '/content/drive/My Drive/Ironman/output/56_resize.jpg',\n",
              " '/content/drive/My Drive/Ironman/output/51_resize.jpg',\n",
              " '/content/drive/My Drive/Ironman/output/52_resize.jpg',\n",
              " '/content/drive/My Drive/Ironman/output/54_resize.jpg',\n",
              " '/content/drive/My Drive/Ironman/output/53_resize.jpg',\n",
              " '/content/drive/My Drive/Ironman/output/55_resize.jpg',\n",
              " '/content/drive/My Drive/Ironman/output/50_resize.jpg',\n",
              " '/content/drive/My Drive/Ironman/output/4_resize.jpg',\n",
              " '/content/drive/My Drive/Ironman/output/49_resize.jpg',\n",
              " '/content/drive/My Drive/Ironman/output/42_resize.jpg',\n",
              " '/content/drive/My Drive/Ironman/output/41_resize.jpg',\n",
              " '/content/drive/My Drive/Ironman/output/43_resize.jpg',\n",
              " '/content/drive/My Drive/Ironman/output/47_resize.jpg',\n",
              " '/content/drive/My Drive/Ironman/output/44_resize.jpg',\n",
              " '/content/drive/My Drive/Ironman/output/45_resize.jpg',\n",
              " '/content/drive/My Drive/Ironman/output/46_resize.jpg',\n",
              " '/content/drive/My Drive/Ironman/output/48_resize.jpg',\n",
              " '/content/drive/My Drive/Ironman/output/40_resize.jpg',\n",
              " '/content/drive/My Drive/Ironman/output/3_resize.jpg',\n",
              " '/content/drive/My Drive/Ironman/output/39_resize.jpg',\n",
              " '/content/drive/My Drive/Ironman/output/38_resize.jpg',\n",
              " '/content/drive/My Drive/Ironman/output/31_resize.jpg',\n",
              " '/content/drive/My Drive/Ironman/output/33_resize.jpg',\n",
              " '/content/drive/My Drive/Ironman/output/34_resize.jpg',\n",
              " '/content/drive/My Drive/Ironman/output/36_resize.jpg',\n",
              " '/content/drive/My Drive/Ironman/output/35_resize.jpg',\n",
              " '/content/drive/My Drive/Ironman/output/37_resize.jpg',\n",
              " '/content/drive/My Drive/Ironman/output/32_resize.jpg',\n",
              " '/content/drive/My Drive/Ironman/output/30_resize.jpg',\n",
              " '/content/drive/My Drive/Ironman/output/2_resize.jpg',\n",
              " '/content/drive/My Drive/Ironman/output/29_resize.jpg',\n",
              " '/content/drive/My Drive/Ironman/output/28_resize.jpg',\n",
              " '/content/drive/My Drive/Ironman/output/24_resize.jpg',\n",
              " '/content/drive/My Drive/Ironman/output/23_resize.jpg',\n",
              " '/content/drive/My Drive/Ironman/output/25_resize.jpg',\n",
              " '/content/drive/My Drive/Ironman/output/27_resize.jpg',\n",
              " '/content/drive/My Drive/Ironman/output/26_resize.jpg',\n",
              " '/content/drive/My Drive/Ironman/output/22_resize.jpg',\n",
              " '/content/drive/My Drive/Ironman/output/95_resize.jpg',\n",
              " '/content/drive/My Drive/Ironman/output/96_resize.jpg',\n",
              " '/content/drive/My Drive/Ironman/output/97_resize.jpg',\n",
              " '/content/drive/My Drive/Ironman/output/99_resize.jpg',\n",
              " '/content/drive/My Drive/Ironman/output/9_resize.jpg',\n",
              " '/content/drive/My Drive/Ironman/output/98_resize.jpg',\n",
              " '/content/drive/My Drive/Ironman/output/94_resize.jpg',\n",
              " '/content/drive/My Drive/Ironman/output/90_resize.jpg',\n",
              " '/content/drive/My Drive/Ironman/output/93_resize.jpg',\n",
              " '/content/drive/My Drive/Ironman/output/91_resize.jpg',\n",
              " '/content/drive/My Drive/Ironman/output/92_resize.jpg',\n",
              " '/content/drive/My Drive/Ironman/output/88_resize.jpg',\n",
              " '/content/drive/My Drive/Ironman/output/86_resize.jpg',\n",
              " '/content/drive/My Drive/Ironman/output/8_resize.jpg',\n",
              " '/content/drive/My Drive/Ironman/output/87_resize.jpg',\n",
              " '/content/drive/My Drive/Ironman/output/89_resize.jpg',\n",
              " '/content/drive/My Drive/Ironman/output/85_resize.jpg',\n",
              " '/content/drive/My Drive/Ironman/output/81_resize.jpg',\n",
              " '/content/drive/My Drive/Ironman/output/84_resize.jpg',\n",
              " '/content/drive/My Drive/Ironman/output/83_resize.jpg',\n",
              " '/content/drive/My Drive/Ironman/output/82_resize.jpg',\n",
              " '/content/drive/My Drive/Ironman/output/80_resize.jpg',\n",
              " '/content/drive/My Drive/Ironman/output/78_resize.jpg',\n",
              " '/content/drive/My Drive/Ironman/output/7_resize.jpg',\n",
              " '/content/drive/My Drive/Ironman/output/77_resize.jpg',\n",
              " '/content/drive/My Drive/Ironman/output/79_resize.jpg']"
            ]
          },
          "metadata": {
            "tags": []
          },
          "execution_count": 84
        }
      ]
    },
    {
      "cell_type": "code",
      "metadata": {
        "id": "VEdqlVIPnRSl",
        "colab_type": "code",
        "colab": {}
      },
      "source": [
        "def make_datapath_list():\n",
        "  train_img_list = list()   #画像ファイルパスを格納\n",
        "\n",
        "  for img_idx in range(55):\n",
        "    img_path = '/content/drive/My Drive/Ironman/output/' + str(img_idx) + '_resize.jpg'\n",
        "    train_img_list.append(img_path)\n",
        "\n",
        "\n",
        "  return train_img_list"
      ],
      "execution_count": 0,
      "outputs": []
    },
    {
      "cell_type": "code",
      "metadata": {
        "id": "X3Xnu8dZj14a",
        "colab_type": "code",
        "colab": {}
      },
      "source": [
        "class ImageTransform():\n",
        "  #画像の前処理クラス\n",
        "\n",
        "  def __init__(self,mean,std):\n",
        "    self.data_transform = transforms.Compose([\n",
        "                                              transforms.ToTensor(),\n",
        "                                              transforms.Normalize(mean,std)\n",
        "    ])\n",
        "  def __call__(self,img):\n",
        "    return self.data_transform(img)"
      ],
      "execution_count": 0,
      "outputs": []
    },
    {
      "cell_type": "code",
      "metadata": {
        "id": "ll8-7D0Uj28Y",
        "colab_type": "code",
        "outputId": "6ebca0cd-bcc0-4f07-f848-4bb9cbf50df9",
        "colab": {
          "base_uri": "https://localhost:8080/",
          "height": 391
        }
      },
      "source": [
        "class GAN_Img_Dataset(data.Dataset):\n",
        "  #画像のDatasetクラス.PytorchのDatasetクラスを継承\n",
        "  def __init__(self,file_list,transform):\n",
        "    self.file_list = file_list\n",
        "    self.transform = transform\n",
        "  \n",
        "  def __len__(self):\n",
        "    #画像の枚数を返す\n",
        "    return len(self.file_list)\n",
        "    \n",
        "  def __getitem__(self,index):\n",
        "    #前処理した画像のtensor形式のデータを取得\n",
        "    img_path = self.file_list[index]\n",
        "    img = Image.open(img_path)\n",
        "\n",
        "    #画像の前処理\n",
        "    img_transformed = self.transform(img)\n",
        "\n",
        "    return img_transformed \n",
        "\n",
        "#DataLoader の動作と確認\n",
        "#ファイルリストを作成\n",
        "train_img_list = make_datapath_list()\n",
        "\n",
        "#Datasetを作成\n",
        "mean = (0.5,)\n",
        "std = (0.5,)\n",
        "train_dataset = GAN_Img_Dataset(\n",
        "    file_list = train_img_list,transform=ImageTransform(mean,std)\n",
        ")\n",
        "\n",
        "#DataLoaderを作成\n",
        "batch_size = 64 \n",
        "train_dataloader = torch.utils.data.DataLoader(\n",
        "    train_dataset,batch_size=batch_size,shuffle=True\n",
        ")\n",
        "\n",
        "#動作の確認\n",
        "batch_iterator = iter(train_dataloader)\n",
        "images = next(batch_iterator)\n",
        "print(images.size())"
      ],
      "execution_count": 87,
      "outputs": [
        {
          "output_type": "error",
          "ename": "RuntimeError",
          "evalue": "ignored",
          "traceback": [
            "\u001b[0;31m---------------------------------------------------------------------------\u001b[0m",
            "\u001b[0;31mRuntimeError\u001b[0m                              Traceback (most recent call last)",
            "\u001b[0;32m<ipython-input-87-cc300ba2966e>\u001b[0m in \u001b[0;36m<module>\u001b[0;34m()\u001b[0m\n\u001b[1;32m     38\u001b[0m \u001b[0;31m#動作の確認\u001b[0m\u001b[0;34m\u001b[0m\u001b[0;34m\u001b[0m\u001b[0;34m\u001b[0m\u001b[0m\n\u001b[1;32m     39\u001b[0m \u001b[0mbatch_iterator\u001b[0m \u001b[0;34m=\u001b[0m \u001b[0miter\u001b[0m\u001b[0;34m(\u001b[0m\u001b[0mtrain_dataloader\u001b[0m\u001b[0;34m)\u001b[0m\u001b[0;34m\u001b[0m\u001b[0;34m\u001b[0m\u001b[0m\n\u001b[0;32m---> 40\u001b[0;31m \u001b[0mimages\u001b[0m \u001b[0;34m=\u001b[0m \u001b[0mnext\u001b[0m\u001b[0;34m(\u001b[0m\u001b[0mbatch_iterator\u001b[0m\u001b[0;34m)\u001b[0m\u001b[0;34m\u001b[0m\u001b[0;34m\u001b[0m\u001b[0m\n\u001b[0m\u001b[1;32m     41\u001b[0m \u001b[0mprint\u001b[0m\u001b[0;34m(\u001b[0m\u001b[0mimages\u001b[0m\u001b[0;34m.\u001b[0m\u001b[0msize\u001b[0m\u001b[0;34m(\u001b[0m\u001b[0;34m)\u001b[0m\u001b[0;34m)\u001b[0m\u001b[0;34m\u001b[0m\u001b[0;34m\u001b[0m\u001b[0m\n",
            "\u001b[0;32m/usr/local/lib/python3.6/dist-packages/torch/utils/data/dataloader.py\u001b[0m in \u001b[0;36m__next__\u001b[0;34m(self)\u001b[0m\n\u001b[1;32m    558\u001b[0m         \u001b[0;32mif\u001b[0m \u001b[0mself\u001b[0m\u001b[0;34m.\u001b[0m\u001b[0mnum_workers\u001b[0m \u001b[0;34m==\u001b[0m \u001b[0;36m0\u001b[0m\u001b[0;34m:\u001b[0m  \u001b[0;31m# same-process loading\u001b[0m\u001b[0;34m\u001b[0m\u001b[0;34m\u001b[0m\u001b[0m\n\u001b[1;32m    559\u001b[0m             \u001b[0mindices\u001b[0m \u001b[0;34m=\u001b[0m \u001b[0mnext\u001b[0m\u001b[0;34m(\u001b[0m\u001b[0mself\u001b[0m\u001b[0;34m.\u001b[0m\u001b[0msample_iter\u001b[0m\u001b[0;34m)\u001b[0m  \u001b[0;31m# may raise StopIteration\u001b[0m\u001b[0;34m\u001b[0m\u001b[0;34m\u001b[0m\u001b[0m\n\u001b[0;32m--> 560\u001b[0;31m             \u001b[0mbatch\u001b[0m \u001b[0;34m=\u001b[0m \u001b[0mself\u001b[0m\u001b[0;34m.\u001b[0m\u001b[0mcollate_fn\u001b[0m\u001b[0;34m(\u001b[0m\u001b[0;34m[\u001b[0m\u001b[0mself\u001b[0m\u001b[0;34m.\u001b[0m\u001b[0mdataset\u001b[0m\u001b[0;34m[\u001b[0m\u001b[0mi\u001b[0m\u001b[0;34m]\u001b[0m \u001b[0;32mfor\u001b[0m \u001b[0mi\u001b[0m \u001b[0;32min\u001b[0m \u001b[0mindices\u001b[0m\u001b[0;34m]\u001b[0m\u001b[0;34m)\u001b[0m\u001b[0;34m\u001b[0m\u001b[0;34m\u001b[0m\u001b[0m\n\u001b[0m\u001b[1;32m    561\u001b[0m             \u001b[0;32mif\u001b[0m \u001b[0mself\u001b[0m\u001b[0;34m.\u001b[0m\u001b[0mpin_memory\u001b[0m\u001b[0;34m:\u001b[0m\u001b[0;34m\u001b[0m\u001b[0;34m\u001b[0m\u001b[0m\n\u001b[1;32m    562\u001b[0m                 \u001b[0mbatch\u001b[0m \u001b[0;34m=\u001b[0m \u001b[0m_utils\u001b[0m\u001b[0;34m.\u001b[0m\u001b[0mpin_memory\u001b[0m\u001b[0;34m.\u001b[0m\u001b[0mpin_memory_batch\u001b[0m\u001b[0;34m(\u001b[0m\u001b[0mbatch\u001b[0m\u001b[0;34m)\u001b[0m\u001b[0;34m\u001b[0m\u001b[0;34m\u001b[0m\u001b[0m\n",
            "\u001b[0;32m/usr/local/lib/python3.6/dist-packages/torch/utils/data/_utils/collate.py\u001b[0m in \u001b[0;36mdefault_collate\u001b[0;34m(batch)\u001b[0m\n\u001b[1;32m     41\u001b[0m             \u001b[0mstorage\u001b[0m \u001b[0;34m=\u001b[0m \u001b[0mbatch\u001b[0m\u001b[0;34m[\u001b[0m\u001b[0;36m0\u001b[0m\u001b[0;34m]\u001b[0m\u001b[0;34m.\u001b[0m\u001b[0mstorage\u001b[0m\u001b[0;34m(\u001b[0m\u001b[0;34m)\u001b[0m\u001b[0;34m.\u001b[0m\u001b[0m_new_shared\u001b[0m\u001b[0;34m(\u001b[0m\u001b[0mnumel\u001b[0m\u001b[0;34m)\u001b[0m\u001b[0;34m\u001b[0m\u001b[0;34m\u001b[0m\u001b[0m\n\u001b[1;32m     42\u001b[0m             \u001b[0mout\u001b[0m \u001b[0;34m=\u001b[0m \u001b[0mbatch\u001b[0m\u001b[0;34m[\u001b[0m\u001b[0;36m0\u001b[0m\u001b[0;34m]\u001b[0m\u001b[0;34m.\u001b[0m\u001b[0mnew\u001b[0m\u001b[0;34m(\u001b[0m\u001b[0mstorage\u001b[0m\u001b[0;34m)\u001b[0m\u001b[0;34m\u001b[0m\u001b[0;34m\u001b[0m\u001b[0m\n\u001b[0;32m---> 43\u001b[0;31m         \u001b[0;32mreturn\u001b[0m \u001b[0mtorch\u001b[0m\u001b[0;34m.\u001b[0m\u001b[0mstack\u001b[0m\u001b[0;34m(\u001b[0m\u001b[0mbatch\u001b[0m\u001b[0;34m,\u001b[0m \u001b[0;36m0\u001b[0m\u001b[0;34m,\u001b[0m \u001b[0mout\u001b[0m\u001b[0;34m=\u001b[0m\u001b[0mout\u001b[0m\u001b[0;34m)\u001b[0m\u001b[0;34m\u001b[0m\u001b[0;34m\u001b[0m\u001b[0m\n\u001b[0m\u001b[1;32m     44\u001b[0m     \u001b[0;32melif\u001b[0m \u001b[0melem_type\u001b[0m\u001b[0;34m.\u001b[0m\u001b[0m__module__\u001b[0m \u001b[0;34m==\u001b[0m \u001b[0;34m'numpy'\u001b[0m \u001b[0;32mand\u001b[0m \u001b[0melem_type\u001b[0m\u001b[0;34m.\u001b[0m\u001b[0m__name__\u001b[0m \u001b[0;34m!=\u001b[0m \u001b[0;34m'str_'\u001b[0m\u001b[0;31m \u001b[0m\u001b[0;31m\\\u001b[0m\u001b[0;34m\u001b[0m\u001b[0;34m\u001b[0m\u001b[0m\n\u001b[1;32m     45\u001b[0m             \u001b[0;32mand\u001b[0m \u001b[0melem_type\u001b[0m\u001b[0;34m.\u001b[0m\u001b[0m__name__\u001b[0m \u001b[0;34m!=\u001b[0m \u001b[0;34m'string_'\u001b[0m\u001b[0;34m:\u001b[0m\u001b[0;34m\u001b[0m\u001b[0;34m\u001b[0m\u001b[0m\n",
            "\u001b[0;31mRuntimeError\u001b[0m: invalid argument 0: Sizes of tensors must match except in dimension 0. Got 204 and 164 in dimension 3 at /pytorch/aten/src/TH/generic/THTensor.cpp:711"
          ]
        }
      ]
    },
    {
      "cell_type": "code",
      "metadata": {
        "id": "EcrjFTyWvjqh",
        "colab_type": "code",
        "colab": {}
      },
      "source": [
        ""
      ],
      "execution_count": 0,
      "outputs": []
    },
    {
      "cell_type": "code",
      "metadata": {
        "id": "Hxw-i48kj5gu",
        "colab_type": "code",
        "colab": {}
      },
      "source": [
        ""
      ],
      "execution_count": 0,
      "outputs": []
    }
  ]
}