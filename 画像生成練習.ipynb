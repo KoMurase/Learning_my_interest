{
  "nbformat": 4,
  "nbformat_minor": 0,
  "metadata": {
    "colab": {
      "name": "画像生成練習.ipynb",
      "version": "0.3.2",
      "provenance": [],
      "include_colab_link": true
    },
    "kernelspec": {
      "name": "python3",
      "display_name": "Python 3"
    }
  },
  "cells": [
    {
      "cell_type": "markdown",
      "metadata": {
        "id": "view-in-github",
        "colab_type": "text"
      },
      "source": [
        "<a href=\"https://colab.research.google.com/github/KoMurase/Learning_my_interest/blob/master/%E7%94%BB%E5%83%8F%E7%94%9F%E6%88%90%E7%B7%B4%E7%BF%92.ipynb\" target=\"_parent\"><img src=\"https://colab.research.google.com/assets/colab-badge.svg\" alt=\"Open In Colab\"/></a>"
      ]
    },
    {
      "cell_type": "code",
      "metadata": {
        "id": "ec3cG2-XI9yj",
        "colab_type": "code",
        "colab": {}
      },
      "source": [
        "import os\n",
        "import urllib.request\n",
        "import zipfile\n",
        "import tarfile\n",
        "\n",
        "import matplotlib.pyplot as plt\n",
        "%matplotlib inline\n",
        "from PIL import Image\n",
        "import numpy as np"
      ],
      "execution_count": 0,
      "outputs": []
    },
    {
      "cell_type": "code",
      "metadata": {
        "id": "L_KCukFlJe_B",
        "colab_type": "code",
        "colab": {}
      },
      "source": [
        "# フォルダ「data」が存在しない場合は作成する\n",
        "data_dir = \"./data/\"\n",
        "if not os.path.exists(data_dir):\n",
        "    os.mkdir(data_dir)"
      ],
      "execution_count": 0,
      "outputs": []
    },
    {
      "cell_type": "code",
      "metadata": {
        "id": "J7vXSafsJhcF",
        "colab_type": "code",
        "colab": {
          "base_uri": "https://localhost:8080/",
          "height": 34
        },
        "outputId": "e6caa1c6-85f3-4ea4-beb2-31babc7ff117"
      },
      "source": [
        "\n",
        "import sklearn\n",
        "print(sklearn.__version__)"
      ],
      "execution_count": 3,
      "outputs": [
        {
          "output_type": "stream",
          "text": [
            "0.21.3\n"
          ],
          "name": "stdout"
        }
      ]
    },
    {
      "cell_type": "code",
      "metadata": {
        "id": "xNjThCxuJjjh",
        "colab_type": "code",
        "colab": {}
      },
      "source": [
        "# MNISTの手書き数字画像をダウンロードし読み込みます（2分ほど時間がかかります）\n",
        "from sklearn.datasets import fetch_openml\n",
        "\n",
        "mnist = fetch_openml('mnist_784', version=1, data_home=\"./data/\")  \n",
        "# data_homeは保存先を指定します"
      ],
      "execution_count": 0,
      "outputs": []
    },
    {
      "cell_type": "code",
      "metadata": {
        "id": "9uzkUcG0JoqT",
        "colab_type": "code",
        "colab": {}
      },
      "source": [
        "\n",
        "# データの取り出し\n",
        "X = mnist.data\n",
        "y = mnist.target\n"
      ],
      "execution_count": 0,
      "outputs": []
    },
    {
      "cell_type": "code",
      "metadata": {
        "id": "9s9iHmGeKXyg",
        "colab_type": "code",
        "colab": {
          "base_uri": "https://localhost:8080/",
          "height": 286
        },
        "outputId": "9a51c74d-4634-4978-b86b-333b85e4ad95"
      },
      "source": [
        "# MNISTのデータの1つ目を可視化する\n",
        "plt.imshow(X[0].reshape(28, 28), cmap='gray')\n",
        "print(\"この画像データのラベルは{}です\".format(y[0]))\n"
      ],
      "execution_count": 6,
      "outputs": [
        {
          "output_type": "stream",
          "text": [
            "この画像データのラベルは5です\n"
          ],
          "name": "stdout"
        },
        {
          "output_type": "display_data",
          "data": {
            "image/png": "[encoded data removed]",
            "text/plain": [
              "<Figure size 432x288 with 1 Axes>"
            ]
          },
          "metadata": {
            "tags": []
          }
        }
      ]
    },
    {
      "cell_type": "code",
      "metadata": {
        "id": "vaZJydODKaNK",
        "colab_type": "code",
        "colab": {}
      },
      "source": [
        "\n",
        "# フォルダ「data」の下にフォルダ「img_78」を作成する\n",
        "data_dir_path = \"./data/img_78/\"\n",
        "if not os.path.exists(data_dir_path):\n",
        "    os.mkdir(data_dir_path)"
      ],
      "execution_count": 0,
      "outputs": []
    },
    {
      "cell_type": "code",
      "metadata": {
        "id": "ID0zY89rKdT7",
        "colab_type": "code",
        "colab": {}
      },
      "source": [
        "\n",
        "# MNISTから数字7、8の画像だけフォルダ「img_78」に画像として保存していく\n",
        "count7=0\n",
        "count8=0\n",
        "max_num=200  # 画像は200枚ずつ作成する\n",
        "\n",
        "for i in range(len(X)):\n",
        "    \n",
        "    # 画像7の作成\n",
        "    if (y[i] is \"7\") and (count7<max_num):\n",
        "        file_path=\"./data/img_78/img_7_\"+str(count7)+\".jpg\"\n",
        "        im_f=(X[i].reshape(28, 28))  # 画像を28×28の形に変形\n",
        "        pil_img_f = Image.fromarray(im_f.astype(np.uint8))  # 画像をPILに\n",
        "        pil_img_f = pil_img_f.resize((64, 64), Image.BICUBIC)  # 64×64に拡大\n",
        "        pil_img_f.save(file_path)  # 保存\n",
        "        count7+=1 \n",
        "    \n",
        "    # 画像8の作成\n",
        "    if (y[i] is \"8\") and (count8<max_num):\n",
        "        file_path=\"./data/img_78/img_8_\"+str(count8)+\".jpg\"\n",
        "        im_f=(X[i].reshape(28, 28))  # 画像を28*28の形に変形\n",
        "        pil_img_f = Image.fromarray(im_f.astype(np.uint8))  # 画像をPILに\n",
        "        pil_img_f = pil_img_f.resize((64, 64), Image.BICUBIC)  # 64×64に拡大\n",
        "        pil_img_f.save(file_path)  # 保存\n",
        "        count8+=1"
      ],
      "execution_count": 0,
      "outputs": []
    },
    {
      "cell_type": "markdown",
      "metadata": {
        "id": "HCN7CpUjKiLa",
        "colab_type": "text"
      },
      "source": [
        "ここまでは準備"
      ]
    },
    {
      "cell_type": "code",
      "metadata": {
        "id": "y7skWRvSK0od",
        "colab_type": "code",
        "colab": {}
      },
      "source": [
        "class Generator(nn.Moduel):\n",
        "  def __init__(self,z_dim=20,image_size=64):\n",
        "    super(Generator,self).__init__()\n",
        "\n",
        "    self.layer1 = nn.Sequential(\n",
        "        nn.ConvTranspose2d(z_dim,image_size * 8, kernel_size=4,stride=1),\n",
        "        nn.BatchNorm2d(image_size*8),\n",
        "        nn.ReLU(inplace=True)\n",
        "    )\n",
        "    self.layer2 = nn.Sequential(\n",
        "        nn.ConvTranspose2d(image_size * 8,image_size*4, kernel_size=4,stride=2,padding=1),\n",
        "        nn.BatchNorm2d(image_size*4),\n",
        "        nn.ReLU(inplace=True)\n",
        "    )\n",
        "    self.layer3 = nn.Sequential(\n",
        "        nn.ConvTranspose2d(image_size * 4,image_size*2, kernel_size=4,stride=2,padding=1),\n",
        "        nn.BatchNorm2d(image_size*2),\n",
        "        nn.ReLU(inplace=True)\n",
        "    )\n",
        "    self.layer4 = nn.Sequential(\n",
        "        nn.ConvTranspose2d(image_size * 2,image_size, kernel_size=4,stride=2,padding=1),\n",
        "        nn.BatchNorm2d(image_size),\n",
        "        nn.ReLU(inplace=True)\n",
        "    )\n",
        "    self.last=nn.Sequential(\n",
        "        nn.ConvTranspose2d(image_size, 1, kernel_size=4,stride)\n",
        "    )\n",
        "\n",
        "\n",
        "    "
      ],
      "execution_count": 0,
      "outputs": []
    }
  ]
}