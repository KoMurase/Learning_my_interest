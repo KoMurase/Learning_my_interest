{
  "nbformat": 4,
  "nbformat_minor": 0,
  "metadata": {
    "colab": {
      "name": "画像生成練習.ipynb",
      "provenance": [],
      "collapsed_sections": [],
      "include_colab_link": true
    },
    "kernelspec": {
      "name": "python3",
      "display_name": "Python 3"
    }
  },
  "cells": [
    {
      "cell_type": "markdown",
      "metadata": {
        "id": "view-in-github",
        "colab_type": "text"
      },
      "source": [
        "<a href=\"https://colab.research.google.com/github/KoMurase/Learning_my_interest/blob/master/%E7%94%BB%E5%83%8F%E7%94%9F%E6%88%90%E7%B7%B4%E7%BF%92.ipynb\" target=\"_parent\"><img src=\"https://colab.research.google.com/assets/colab-badge.svg\" alt=\"Open In Colab\"/></a>"
      ]
    },
    {
      "cell_type": "code",
      "metadata": {
        "id": "ec3cG2-XI9yj",
        "colab_type": "code",
        "colab": {}
      },
      "source": [
        "import os\n",
        "import urllib.request\n",
        "import zipfile\n",
        "import tarfile\n",
        "\n",
        "import matplotlib.pyplot as plt\n",
        "%matplotlib inline\n",
        "from PIL import Image\n",
        "import numpy as np"
      ],
      "execution_count": 0,
      "outputs": []
    },
    {
      "cell_type": "code",
      "metadata": {
        "id": "L_KCukFlJe_B",
        "colab_type": "code",
        "colab": {}
      },
      "source": [
        "# フォルダ「data」が存在しない場合は作成する\n",
        "data_dir = \"./data/\"\n",
        "if not os.path.exists(data_dir):\n",
        "    os.mkdir(data_dir)"
      ],
      "execution_count": 0,
      "outputs": []
    },
    {
      "cell_type": "code",
      "metadata": {
        "id": "J7vXSafsJhcF",
        "colab_type": "code",
        "outputId": "abbdc6cf-dec9-4228-cb37-d651f796c516",
        "colab": {
          "base_uri": "https://localhost:8080/",
          "height": 34
        }
      },
      "source": [
        "\n",
        "import sklearn\n",
        "print(sklearn.__version__)"
      ],
      "execution_count": 38,
      "outputs": [
        {
          "output_type": "stream",
          "text": [
            "0.21.3\n"
          ],
          "name": "stdout"
        }
      ]
    },
    {
      "cell_type": "code",
      "metadata": {
        "id": "xNjThCxuJjjh",
        "colab_type": "code",
        "colab": {}
      },
      "source": [
        "# MNISTの手書き数字画像をダウンロードし読み込みます（2分ほど時間がかかります）\n",
        "from sklearn.datasets import fetch_openml\n",
        "\n",
        "mnist = fetch_openml('mnist_784', version=1, data_home=\"./data/\")  \n",
        "# data_homeは保存先を指定します"
      ],
      "execution_count": 0,
      "outputs": []
    },
    {
      "cell_type": "code",
      "metadata": {
        "id": "9uzkUcG0JoqT",
        "colab_type": "code",
        "colab": {}
      },
      "source": [
        "# データの取り出し\n",
        "X = mnist.data\n",
        "y = mnist.target\n"
      ],
      "execution_count": 0,
      "outputs": []
    },
    {
      "cell_type": "code",
      "metadata": {
        "id": "9s9iHmGeKXyg",
        "colab_type": "code",
        "outputId": "095882b7-f7fc-44b5-a897-5a9443a2ff70",
        "colab": {
          "base_uri": "https://localhost:8080/",
          "height": 286
        }
      },
      "source": [
        "# MNISTのデータの1つ目を可視化する\n",
        "plt.imshow(X[0].reshape(28, 28), cmap='gray')\n",
        "print(\"この画像データのラベルは{}です\".format(y[0]))\n"
      ],
      "execution_count": 41,
      "outputs": [
        {
          "output_type": "stream",
          "text": [
            "この画像データのラベルは5です\n"
          ],
          "name": "stdout"
        },
        {
          "output_type": "display_data",
          "data": {
            "image/png": "[encoded data removed]",
            "text/plain": [
              "<Figure size 432x288 with 1 Axes>"
            ]
          },
          "metadata": {
            "tags": []
          }
        }
      ]
    },
    {
      "cell_type": "code",
      "metadata": {
        "id": "vaZJydODKaNK",
        "colab_type": "code",
        "colab": {}
      },
      "source": [
        "\n",
        "# フォルダ「data」の下にフォルダ「img_78」を作成する\n",
        "data_dir_path = \"./data/img_78/\"\n",
        "if not os.path.exists(data_dir_path):\n",
        "    os.mkdir(data_dir_path)"
      ],
      "execution_count": 0,
      "outputs": []
    },
    {
      "cell_type": "code",
      "metadata": {
        "id": "ID0zY89rKdT7",
        "colab_type": "code",
        "colab": {}
      },
      "source": [
        "\n",
        "# MNISTから数字7、8の画像だけフォルダ「img_78」に画像として保存していく\n",
        "count7=0\n",
        "count8=0\n",
        "max_num=200  # 画像は200枚ずつ作成する\n",
        "\n",
        "for i in range(len(X)):\n",
        "    \n",
        "    # 画像7の作成\n",
        "    if (y[i] is \"7\") and (count7<max_num):\n",
        "        file_path=\"./data/img_78/img_7_\"+str(count7)+\".jpg\"\n",
        "        im_f=(X[i].reshape(28, 28))  # 画像を28×28の形に変形\n",
        "        pil_img_f = Image.fromarray(im_f.astype(np.uint8))  # 画像をPILに\n",
        "        pil_img_f = pil_img_f.resize((64, 64), Image.BICUBIC)  # 64×64に拡大\n",
        "        pil_img_f.save(file_path)  # 保存\n",
        "        count7+=1 \n",
        "    \n",
        "    # 画像8の作成\n",
        "    if (y[i] is \"8\") and (count8<max_num):\n",
        "        file_path=\"./data/img_78/img_8_\"+str(count8)+\".jpg\"\n",
        "        im_f=(X[i].reshape(28, 28))  # 画像を28*28の形に変形\n",
        "        pil_img_f = Image.fromarray(im_f.astype(np.uint8))  # 画像をPILに\n",
        "        pil_img_f = pil_img_f.resize((64, 64), Image.BICUBIC)  # 64×64に拡大\n",
        "        pil_img_f.save(file_path)  # 保存\n",
        "        count8+=1"
      ],
      "execution_count": 0,
      "outputs": []
    },
    {
      "cell_type": "markdown",
      "metadata": {
        "id": "HCN7CpUjKiLa",
        "colab_type": "text"
      },
      "source": [
        "\n",
        "ここまでは準備"
      ]
    },
    {
      "cell_type": "code",
      "metadata": {
        "id": "yCZzOEopZWgd",
        "colab_type": "code",
        "colab": {}
      },
      "source": [
        "#import \n",
        "import torch \n",
        "import torch.nn as nn \n",
        "import torch .optim as optim \n",
        "import torch.utils.data as data \n",
        "import torchvision \n",
        "from torchvision import models, transforms \n",
        "\n",
        "import glob \n",
        "import os.path as osp \n",
        "import random \n",
        "import numpy as np \n",
        "import json \n",
        "from tqdm import tqdm\n",
        "import matplotlib.pyplot as plt \n",
        "%matplotlib inline \n",
        "from PIL import Image  "
      ],
      "execution_count": 0,
      "outputs": []
    },
    {
      "cell_type": "code",
      "metadata": {
        "id": "y7skWRvSK0od",
        "colab_type": "code",
        "colab": {}
      },
      "source": [
        "class Generator(nn.Module):\n",
        "  def __init__(self,z_dim=20,image_size=64):\n",
        "    super(Generator,self).__init__()\n",
        "\n",
        "    self.layer1 = nn.Sequential(\n",
        "        nn.ConvTranspose2d(z_dim,image_size * 8, kernel_size=4,stride=1),\n",
        "        nn.BatchNorm2d(image_size*8),\n",
        "        nn.ReLU(inplace=True)\n",
        "    )\n",
        "    self.layer2 = nn.Sequential(\n",
        "        nn.ConvTranspose2d(image_size * 8,image_size*4, kernel_size=4,stride=2,padding=1),\n",
        "        nn.BatchNorm2d(image_size*4),\n",
        "        nn.ReLU(inplace=True)\n",
        "    )\n",
        "    self.layer3 = nn.Sequential(\n",
        "        nn.ConvTranspose2d(image_size * 4,image_size*2, kernel_size=4,stride=2,padding=1),\n",
        "        nn.BatchNorm2d(image_size*2),\n",
        "        nn.ReLU(inplace=True)\n",
        "    )\n",
        "    self.layer4 = nn.Sequential(\n",
        "        nn.ConvTranspose2d(image_size * 2,image_size, kernel_size=4,stride=2,padding=1),\n",
        "        nn.BatchNorm2d(image_size),\n",
        "        nn.ReLU(inplace=True)\n",
        "    )\n",
        "    self.last=nn.Sequential(\n",
        "        nn.ConvTranspose2d(image_size, 1, kernel_size=4,stride=2,padding = 1),\n",
        "    nn.Tanh()\n",
        "    )\n",
        "\n",
        "  def forward(self,z):\n",
        "    out = self.layer1(z)\n",
        "    out = self.layer2(out)\n",
        "    out = self.layer3(out)\n",
        "    out = self.layer4(out)\n",
        "    out = self.last(out)\n",
        "    return out \n",
        "\n",
        "    "
      ],
      "execution_count": 0,
      "outputs": []
    },
    {
      "cell_type": "code",
      "metadata": {
        "id": "dUZ-vto3ZEm5",
        "colab_type": "code",
        "colab": {
          "base_uri": "https://localhost:8080/",
          "height": 269
        },
        "outputId": "df89d73a-0d42-44d9-81bc-7832d1703514"
      },
      "source": [
        "#動作確認\n",
        "G = Generator(z_dim=20, image_size=64)\n",
        "\n",
        "#入力する乱数\n",
        "input_z = torch.randn(1, 20)\n",
        "\n",
        "#テンソルサイズを(1,20,1,1)に変形\n",
        "input_z = input_z.view(input_z.size(0),input_z.size(1),1,1)\n",
        "\n",
        "#偽画像を出力\n",
        "fake_images = G(input_z)\n",
        "img_transformed = fake_images[0][0].detach().numpy()\n",
        "plt.imshow(img_transformed, 'gray')\n",
        "plt.show()\n"
      ],
      "execution_count": 46,
      "outputs": [
        {
          "output_type": "display_data",
          "data": {
            "image/png": "[encoded data removed]",
            "text/plain": [
              "<Figure size 432x288 with 1 Axes>"
            ]
          },
          "metadata": {
            "tags": []
          }
        }
      ]
    },
    {
      "cell_type": "markdown",
      "metadata": {
        "id": "OXmAagw4egaw",
        "colab_type": "text"
      },
      "source": [
        "未学習の状態"
      ]
    },
    {
      "cell_type": "markdown",
      "metadata": {
        "id": "vmEHvSFTfcRb",
        "colab_type": "text"
      },
      "source": [
        "**画像生成がどのように行われるのか**\n",
        "生成器が学習して作った画像をどう評価するのかが問題(人の目で判断していてはキリがない)\n",
        "-->\n",
        "識別器を同時に学習させ生成した画像に対して評価する\n",
        "\n",
        "未熟な生成器Gと未熟な識別器Dを上手く交互に学習をすることで本物のような画像を作ることができる"
      ]
    },
    {
      "cell_type": "markdown",
      "metadata": {
        "id": "G4RofHI3gj_N",
        "colab_type": "text"
      },
      "source": [
        "<h2>識別器D ～Discriminator～ の実装</h2>"
      ]
    },
    {
      "cell_type": "code",
      "metadata": {
        "id": "qkm4wOTWgddS",
        "colab_type": "code",
        "colab": {}
      },
      "source": [
        "class Discriminator(nn.Module):\n",
        "  def __init__(self, z_dim=20, image_size=64):\n",
        "    super(Discriminator,self).__init__()\n",
        "    self.layer1 = nn.Sequential(\n",
        "        nn.Conv2d(1,image_size,kernel_size=4,stride=2,padding=1),\n",
        "        nn.LeakyReLU(0.1,inplace=True)\n",
        "        #白黒画像を扱うため入力チャンネルは1つだけ\n",
        "    )\n",
        "    self.layer2 = nn.Sequential(\n",
        "        nn.Conv2d(image_size,image_size*2,kernel_size=4,stride=2,padding=1),\n",
        "        nn.LeakyReLU(0.1,inplace=True)\n",
        "        #白黒画像を扱うため入力チャンネルは1つだけ\n",
        "    )\n",
        "    self.layer3 = nn.Sequential(\n",
        "        nn.Conv2d(image_size*2,image_size*4,kernel_size=4,stride=2,padding=1),\n",
        "        nn.LeakyReLU(0.1,inplace=True)\n",
        "        #白黒画像を扱うため入力チャンネルは1つだけ\n",
        "    )\n",
        "    self.layer4 = nn.Sequential(\n",
        "        nn.Conv2d(image_size*4,image_size*8,kernel_size=4,stride=2,padding=1),\n",
        "        nn.LeakyReLU(0.1,inplace=True)\n",
        "        #白黒画像を扱うため入力チャンネルは1つだけ\n",
        "    )\n",
        "    self.last = nn.Conv2d(image_size*8,1,kernel_size=4,stride=1)\n",
        "  def forward(self,x):\n",
        "    out = self.layer1(x)\n",
        "    out = self.layer2(out)\n",
        "    out = self.layer3(out)\n",
        "    out = self.layer4(out)\n",
        "    out = self.last(out)\n",
        "    return out \n",
        "\n",
        "    "
      ],
      "execution_count": 0,
      "outputs": []
    },
    {
      "cell_type": "code",
      "metadata": {
        "id": "RDIEydE7kW2f",
        "colab_type": "code",
        "colab": {
          "base_uri": "https://localhost:8080/",
          "height": 34
        },
        "outputId": "9c46af88-7aec-481f-89f4-8798b320aea0"
      },
      "source": [
        "#動作確認\n",
        "D = Discriminator(z_dim=20,image_size=64)\n",
        "\n",
        "#偽画像の生成\n",
        "input_z = torch.randn(1,20) \n",
        "input_z = input_z.view(input_z.size(0),input_z.size(1),1,1)\n",
        "fake_images = G(input_z)\n",
        "\n",
        "#偽画像をDに入力\n",
        "d_out = D(fake_images)\n",
        "\n",
        "#出力d_outにSigmoidをかける\n",
        "print(nn.Sigmoid()(d_out))"
      ],
      "execution_count": 61,
      "outputs": [
        {
          "output_type": "stream",
          "text": [
            "tensor([[[[0.5030]]]], grad_fn=<SigmoidBackward>)\n"
          ],
          "name": "stdout"
        }
      ]
    },
    {
      "cell_type": "code",
      "metadata": {
        "id": "1iPVvfnDlNVl",
        "colab_type": "code",
        "colab": {}
      },
      "source": [
        ""
      ],
      "execution_count": 0,
      "outputs": []
    }
  ]
}