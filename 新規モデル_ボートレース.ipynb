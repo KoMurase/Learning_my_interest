{
  "nbformat": 4,
  "nbformat_minor": 0,
  "metadata": {
    "colab": {
      "name": "新規モデル_ボートレース.ipynb",
      "provenance": [],
      "collapsed_sections": [],
      "include_colab_link": true
    },
    "kernelspec": {
      "name": "python3",
      "display_name": "Python 3"
    }
  },
  "cells": [
    {
      "cell_type": "markdown",
      "metadata": {
        "id": "view-in-github",
        "colab_type": "text"
      },
      "source": [
        "<a href=\"https://colab.research.google.com/github/KoMurase/Learning_my_interest/blob/master/%E6%96%B0%E8%A6%8F%E3%83%A2%E3%83%87%E3%83%AB_%E3%83%9C%E3%83%BC%E3%83%88%E3%83%AC%E3%83%BC%E3%82%B9.ipynb\" target=\"_parent\"><img src=\"https://colab.research.google.com/assets/colab-badge.svg\" alt=\"Open In Colab\"/></a>"
      ]
    },
    {
      "cell_type": "code",
      "metadata": {
        "id": "zeurXEzrkqY4",
        "colab_type": "code",
        "outputId": "93483dd7-f983-424a-8a35-ffd823c49c78",
        "colab": {
          "base_uri": "https://localhost:8080/",
          "height": 34
        }
      },
      "source": [
        "from google.colab import drive\n",
        "drive.mount('/content/drive')"
      ],
      "execution_count": 283,
      "outputs": [
        {
          "output_type": "stream",
          "text": [
            "Drive already mounted at /content/drive; to attempt to forcibly remount, call drive.mount(\"/content/drive\", force_remount=True).\n"
          ],
          "name": "stdout"
        }
      ]
    },
    {
      "cell_type": "code",
      "metadata": {
        "id": "Wnda6QuLkyOT",
        "colab_type": "code",
        "outputId": "86913f14-643f-425f-efb3-3712bb3e884c",
        "colab": {
          "base_uri": "https://localhost:8080/",
          "height": 72
        }
      },
      "source": [
        "import pandas as pd \n",
        "\n",
        "df = pd.read_csv('/content/drive/My Drive/demo/boatrace_data_demo.csv',encoding='utf-8',sep=',')"
      ],
      "execution_count": 284,
      "outputs": [
        {
          "output_type": "stream",
          "text": [
            "/usr/local/lib/python3.6/dist-packages/IPython/core/interactiveshell.py:2718: DtypeWarning: Columns (119,121,126,131,134,136,139,141,144,146,151,159) have mixed types. Specify dtype option on import or set low_memory=False.\n",
            "  interactivity=interactivity, compiler=compiler, result=result)\n"
          ],
          "name": "stderr"
        }
      ]
    },
    {
      "cell_type": "code",
      "metadata": {
        "id": "7VKotG5wk5mG",
        "colab_type": "code",
        "outputId": "869cbc84-7eae-44ff-e80b-93202af50d99",
        "colab": {
          "base_uri": "https://localhost:8080/",
          "height": 105
        }
      },
      "source": [
        "print(df.columns)"
      ],
      "execution_count": 285,
      "outputs": [
        {
          "output_type": "stream",
          "text": [
            "Index(['日付', 'レース場', 'レースNO', 'グレード', '時刻', 'タイトル', '種類', '節', '進入', '1枠_登録番号',\n",
            "       ...\n",
            "       '配当_3連単', '配当_3連複', '配当_2連単', '配当_2連複', '配当_ワイド①', '配当_ワイド②', '配当_ワイド③',\n",
            "       '配当_単勝', '配当_複勝①', '配当_複勝②'],\n",
            "      dtype='object', length=167)\n"
          ],
          "name": "stdout"
        }
      ]
    },
    {
      "cell_type": "code",
      "metadata": {
        "id": "dmAs72BHk9FJ",
        "colab_type": "code",
        "outputId": "a19d2924-1b9b-4a37-c61f-4d1263ae5577",
        "colab": {
          "base_uri": "https://localhost:8080/",
          "height": 1000
        }
      },
      "source": [
        "for c in df.columns.values:\n",
        "  print(c)"
      ],
      "execution_count": 286,
      "outputs": [
        {
          "output_type": "stream",
          "text": [
            "日付\n",
            "レース場\n",
            "レースNO\n",
            "グレード\n",
            "時刻\n",
            "タイトル\n",
            "種類\n",
            "節\n",
            "進入\n",
            "1枠_登録番号\n",
            "1枠_氏名\n",
            "1枠_級別\n",
            "1枠_F数\n",
            "1枠_L数\n",
            "1枠_平均ST\n",
            "1枠_全国勝率\n",
            "1枠_全国2連率\n",
            "1枠_全国3連率\n",
            "1枠_当地勝率\n",
            "1枠_当地2連率\n",
            "1枠_当地3連率\n",
            "1枠_モーターNO\n",
            "1枠_モーター2連率\n",
            "1枠_モーター3連率\n",
            "1枠_ボートNO\n",
            "1枠_ボート2連率\n",
            "1枠_ボート3連率\n",
            "2枠_登録番号\n",
            "2枠_氏名\n",
            "2枠_級別\n",
            "2枠_F数\n",
            "2枠_L数\n",
            "2枠_平均ST\n",
            "2枠_全国勝率\n",
            "2枠_全国2連率\n",
            "2枠_全国3連率\n",
            "2枠_当地勝率\n",
            "2枠_当地2連率\n",
            "2枠_当地3連率\n",
            "2枠_モーターNO\n",
            "2枠_モーター2連率\n",
            "2枠_モーター3連率\n",
            "2枠_ボートNO\n",
            "2枠_ボート2連率\n",
            "2枠_ボート3連率\n",
            "3枠_登録番号\n",
            "3枠_氏名\n",
            "3枠_級別\n",
            "3枠_F数\n",
            "3枠_L数\n",
            "3枠_平均ST\n",
            "3枠_全国勝率\n",
            "3枠_全国2連率\n",
            "3枠_全国3連率\n",
            "3枠_当地勝率\n",
            "3枠_当地2連率\n",
            "3枠_当地3連率\n",
            "3枠_モーターNO\n",
            "3枠_モーター2連率\n",
            "3枠_モーター3連率\n",
            "3枠_ボートNO\n",
            "3枠_ボート2連率\n",
            "3枠_ボート3連率\n",
            "4枠_登録番号\n",
            "4枠_氏名\n",
            "4枠_級別\n",
            "4枠_F数\n",
            "4枠_L数\n",
            "4枠_平均ST\n",
            "4枠_全国勝率\n",
            "4枠_全国2連率\n",
            "4枠_全国3連率\n",
            "4枠_当地勝率\n",
            "4枠_当地2連率\n",
            "4枠_当地3連率\n",
            "4枠_モーターNO\n",
            "4枠_モーター2連率\n",
            "4枠_モーター3連率\n",
            "4枠_ボートNO\n",
            "4枠_ボート2連率\n",
            "4枠_ボート3連率\n",
            "5枠_登録番号\n",
            "5枠_氏名\n",
            "5枠_級別\n",
            "5枠_F数\n",
            "5枠_L数\n",
            "5枠_平均ST\n",
            "5枠_全国勝率\n",
            "5枠_全国2連率\n",
            "5枠_全国3連率\n",
            "5枠_当地勝率\n",
            "5枠_当地2連率\n",
            "5枠_当地3連率\n",
            "5枠_モーターNO\n",
            "5枠_モーター2連率\n",
            "5枠_モーター3連率\n",
            "5枠_ボートNO\n",
            "5枠_ボート2連率\n",
            "5枠_ボート3連率\n",
            "6枠_登録番号\n",
            "6枠_氏名\n",
            "6枠_級別\n",
            "6枠_F数\n",
            "6枠_L数\n",
            "6枠_平均ST\n",
            "6枠_全国勝率\n",
            "6枠_全国2連率\n",
            "6枠_全国3連率\n",
            "6枠_当地勝率\n",
            "6枠_当地2連率\n",
            "6枠_当地3連率\n",
            "6枠_モーターNO\n",
            "6枠_モーター2連率\n",
            "6枠_モーター3連率\n",
            "6枠_ボートNO\n",
            "6枠_ボート2連率\n",
            "6枠_ボート3連率\n",
            "1枠_体重\n",
            "1枠_調整体重\n",
            "1枠_展示タイム\n",
            "1枠_チルト\n",
            "1枠_展示ST\n",
            "2枠_体重\n",
            "2枠_調整体重\n",
            "2枠_展示タイム\n",
            "2枠_チルト\n",
            "2枠_展示ST\n",
            "3枠_体重\n",
            "3枠_調整体重\n",
            "3枠_展示タイム\n",
            "3枠_チルト\n",
            "3枠_展示ST\n",
            "4枠_体重\n",
            "4枠_調整体重\n",
            "4枠_展示タイム\n",
            "4枠_チルト\n",
            "4枠_展示ST\n",
            "5枠_体重\n",
            "5枠_調整体重\n",
            "5枠_展示タイム\n",
            "5枠_チルト\n",
            "5枠_展示ST\n",
            "6枠_体重\n",
            "6枠_調整体重\n",
            "6枠_展示タイム\n",
            "6枠_チルト\n",
            "6枠_展示ST\n",
            "展示コース\n",
            "気温\n",
            "天気\n",
            "風速\n",
            "風向き\n",
            "水温\n",
            "波高\n",
            "1着\n",
            "2着\n",
            "3着\n",
            "配当_3連単\n",
            "配当_3連複\n",
            "配当_2連単\n",
            "配当_2連複\n",
            "配当_ワイド①\n",
            "配当_ワイド②\n",
            "配当_ワイド③\n",
            "配当_単勝\n",
            "配当_複勝①\n",
            "配当_複勝②\n"
          ],
          "name": "stdout"
        }
      ]
    },
    {
      "cell_type": "code",
      "metadata": {
        "id": "o5m0uGJVlHDA",
        "colab_type": "code",
        "outputId": "2f89ae2d-0dd6-471f-afd4-ff272a04ef9a",
        "colab": {
          "base_uri": "https://localhost:8080/",
          "height": 195
        }
      },
      "source": [
        "df_0=df.loc[:,'日付':'進入']\n",
        "df_0.head()"
      ],
      "execution_count": 287,
      "outputs": [
        {
          "output_type": "execute_result",
          "data": {
            "text/html": [
              "<div>\n",
              "<style scoped>\n",
              "    .dataframe tbody tr th:only-of-type {\n",
              "        vertical-align: middle;\n",
              "    }\n",
              "\n",
              "    .dataframe tbody tr th {\n",
              "        vertical-align: top;\n",
              "    }\n",
              "\n",
              "    .dataframe thead th {\n",
              "        text-align: right;\n",
              "    }\n",
              "</style>\n",
              "<table border=\"1\" class=\"dataframe\">\n",
              "  <thead>\n",
              "    <tr style=\"text-align: right;\">\n",
              "      <th></th>\n",
              "      <th>日付</th>\n",
              "      <th>レース場</th>\n",
              "      <th>レースNO</th>\n",
              "      <th>グレード</th>\n",
              "      <th>時刻</th>\n",
              "      <th>タイトル</th>\n",
              "      <th>種類</th>\n",
              "      <th>節</th>\n",
              "      <th>進入</th>\n",
              "    </tr>\n",
              "  </thead>\n",
              "  <tbody>\n",
              "    <tr>\n",
              "      <th>0</th>\n",
              "      <td>20181221</td>\n",
              "      <td>23</td>\n",
              "      <td>1</td>\n",
              "      <td>G0</td>\n",
              "      <td>8:46</td>\n",
              "      <td>富士通フロンテック杯</td>\n",
              "      <td>予　　選　　　 1800m</td>\n",
              "      <td>初日</td>\n",
              "      <td>通常進入</td>\n",
              "    </tr>\n",
              "    <tr>\n",
              "      <th>1</th>\n",
              "      <td>20181221</td>\n",
              "      <td>14</td>\n",
              "      <td>1</td>\n",
              "      <td>G0</td>\n",
              "      <td>8:52</td>\n",
              "      <td>第３回徳島バスカップ競走</td>\n",
              "      <td>一般戦　　　　 1800m</td>\n",
              "      <td>３日目</td>\n",
              "      <td>通常進入</td>\n",
              "    </tr>\n",
              "    <tr>\n",
              "      <th>2</th>\n",
              "      <td>20181221</td>\n",
              "      <td>23</td>\n",
              "      <td>2</td>\n",
              "      <td>G0</td>\n",
              "      <td>9:15</td>\n",
              "      <td>富士通フロンテック杯</td>\n",
              "      <td>予　　選　　　 1800m</td>\n",
              "      <td>初日</td>\n",
              "      <td>通常進入</td>\n",
              "    </tr>\n",
              "    <tr>\n",
              "      <th>3</th>\n",
              "      <td>20181221</td>\n",
              "      <td>14</td>\n",
              "      <td>2</td>\n",
              "      <td>G0</td>\n",
              "      <td>9:21</td>\n",
              "      <td>第３回徳島バスカップ競走</td>\n",
              "      <td>一般戦　　　　 1800m</td>\n",
              "      <td>３日目</td>\n",
              "      <td>通常進入</td>\n",
              "    </tr>\n",
              "    <tr>\n",
              "      <th>4</th>\n",
              "      <td>20181221</td>\n",
              "      <td>23</td>\n",
              "      <td>3</td>\n",
              "      <td>G0</td>\n",
              "      <td>9:44</td>\n",
              "      <td>富士通フロンテック杯</td>\n",
              "      <td>予　　選　　　 1800m</td>\n",
              "      <td>初日</td>\n",
              "      <td>通常進入</td>\n",
              "    </tr>\n",
              "  </tbody>\n",
              "</table>\n",
              "</div>"
            ],
            "text/plain": [
              "         日付  レース場  レースNO グレード    時刻          タイトル             種類    節    進入\n",
              "0  20181221    23      1   G0  8:46    富士通フロンテック杯  予　　選　　　 1800m   初日  通常進入\n",
              "1  20181221    14      1   G0  8:52  第３回徳島バスカップ競走  一般戦　　　　 1800m  ３日目  通常進入\n",
              "2  20181221    23      2   G0  9:15    富士通フロンテック杯  予　　選　　　 1800m   初日  通常進入\n",
              "3  20181221    14      2   G0  9:21  第３回徳島バスカップ競走  一般戦　　　　 1800m  ３日目  通常進入\n",
              "4  20181221    23      3   G0  9:44    富士通フロンテック杯  予　　選　　　 1800m   初日  通常進入"
            ]
          },
          "metadata": {
            "tags": []
          },
          "execution_count": 287
        }
      ]
    },
    {
      "cell_type": "code",
      "metadata": {
        "id": "WsMgHx1znX1t",
        "colab_type": "code",
        "outputId": "85df1b94-1e2e-4e6d-dc5e-61f53736b325",
        "colab": {
          "base_uri": "https://localhost:8080/",
          "height": 263
        }
      },
      "source": [
        "df_0.info()"
      ],
      "execution_count": 288,
      "outputs": [
        {
          "output_type": "stream",
          "text": [
            "<class 'pandas.core.frame.DataFrame'>\n",
            "RangeIndex: 39395 entries, 0 to 39394\n",
            "Data columns (total 9 columns):\n",
            "日付       39395 non-null int64\n",
            "レース場     39395 non-null int64\n",
            "レースNO    39395 non-null int64\n",
            "グレード     39395 non-null object\n",
            "時刻       39395 non-null object\n",
            "タイトル     39395 non-null object\n",
            "種類       39395 non-null object\n",
            "節        39395 non-null object\n",
            "進入       39395 non-null object\n",
            "dtypes: int64(3), object(6)\n",
            "memory usage: 2.7+ MB\n"
          ],
          "name": "stdout"
        }
      ]
    },
    {
      "cell_type": "code",
      "metadata": {
        "id": "8ee4M69UmGPn",
        "colab_type": "code",
        "outputId": "2ef7334a-9dca-4837-a919-5dab2c4464c8",
        "colab": {
          "base_uri": "https://localhost:8080/",
          "height": 34
        }
      },
      "source": [
        "df_0.columns"
      ],
      "execution_count": 289,
      "outputs": [
        {
          "output_type": "execute_result",
          "data": {
            "text/plain": [
              "Index(['日付', 'レース場', 'レースNO', 'グレード', '時刻', 'タイトル', '種類', '節', '進入'], dtype='object')"
            ]
          },
          "metadata": {
            "tags": []
          },
          "execution_count": 289
        }
      ]
    },
    {
      "cell_type": "code",
      "metadata": {
        "id": "tOLmdFIioMOc",
        "colab_type": "code",
        "outputId": "660aca54-b546-489d-85bb-28c74057de8b",
        "colab": {
          "base_uri": "https://localhost:8080/",
          "height": 122
        }
      },
      "source": [
        "df_0['グレード'].value_counts()"
      ],
      "execution_count": 290,
      "outputs": [
        {
          "output_type": "execute_result",
          "data": {
            "text/plain": [
              "G0    33963\n",
              "G3     2712\n",
              "G1     1869\n",
              "G2      470\n",
              "SG      381\n",
              "Name: グレード, dtype: int64"
            ]
          },
          "metadata": {
            "tags": []
          },
          "execution_count": 290
        }
      ]
    },
    {
      "cell_type": "code",
      "metadata": {
        "id": "HjZgstPhoeIr",
        "colab_type": "code",
        "outputId": "7137380b-a658-4009-e046-c292b3a82267",
        "colab": {
          "base_uri": "https://localhost:8080/",
          "height": 1000
        }
      },
      "source": [
        "df_0['タイトル'].value_counts()"
      ],
      "execution_count": 291,
      "outputs": [
        {
          "output_type": "execute_result",
          "data": {
            "text/plain": [
              "マンスリーＢＯＡＴＲＡＣＥ杯               392\n",
              "マクール杯                        373\n",
              "ＢＯＡＴ　Ｂｏｙ　ＣＵＰ                 325\n",
              "九州スポーツ杯争奪戦                   271\n",
              "日本財団会長杯争奪戦                   265\n",
              "日本トーター杯                      260\n",
              "スポーツ報知杯                      251\n",
              "サッポロビールカップ                   248\n",
              "ニッカン・コム杯                     237\n",
              "ＢＯＡＴＢｏｙＣＵＰ                   189\n",
              "西日本スポーツ杯                     188\n",
              "日本財団会長杯                      159\n",
              "日本モーターボート選手会会長杯争奪戦           154\n",
              "日本モーターボート選手会会長杯              151\n",
              "マンスリーＢＯＡＴＲＡＣＥ杯　男女Ｗ優勝戦        144\n",
              "Ｇ３サッポロビールカップ                 143\n",
              "楽天銀行杯争奪戦                     142\n",
              "Ｇ３オールレディース競走                 139\n",
              "スポーツニッポン杯                    129\n",
              "デイリースポーツカップ                  128\n",
              "デイリースポーツ杯                    126\n",
              "日本ＭＢ選手会会長杯争奪　ダイスポジャンピーカップ    119\n",
              "トランスワードトロフィー                 118\n",
              "第１０回ジャパンネット銀行賞               118\n",
              "公営レーシングプレス杯                  118\n",
              "ＢＯＡＴ　Ｂｏｙカップ                  117\n",
              "アクアコンシェルジュカップ                117\n",
              "日本ＭＢ選手会会長杯                   116\n",
              "第１４回日刊ゲンダイ杯                   94\n",
              "宇宙戦艦ヤマト２２０２杯                  84\n",
              "                            ... \n",
              "第４３回日刊スポーツ杯                   35\n",
              "第３６回日本財団会長杯                   35\n",
              "第２２回　三国競艇大賞                   35\n",
              "どんたく特選レース                     33\n",
              "第４６回上毛新聞社杯                    30\n",
              "第４２回京急電鉄社長杯                   30\n",
              "２０１９ラピートカップ                   30\n",
              "夏盛り！！三国観光産業社長杯                28\n",
              "第３３回グランプリ／グランプリＳ              24\n",
              "ハマナ娘クルー　クリスマスカップ              24\n",
              "オラレ下関オープン５周年記念　山口新聞社杯         24\n",
              "２０１８　Ｘマス＆ファイナルカップ             24\n",
              "第６回東洋観光グループ杯                  24\n",
              "ＪＰＦ杯ドッキドキ　ツッピーメイトカップ          24\n",
              "第３回徳島バスカップ競走                  24\n",
              "若松夜王Ｓ公営レーシングプレス杯男女Ｗ優勝戦        24\n",
              "ドラ恋クリスマスカップ                   24\n",
              "夏のマーゴの湯競走                     23\n",
              "アサヒスーパードライカップ                 23\n",
              "ＢＴＳ長洲開設９周年記念　長洲金魚杯            23\n",
              "第１２回日本モーターボート選手会会長賞争奪戦        23\n",
              "平成ラストバトル！第９回領巾振山つつじカップ        20\n",
              "四市組合設立５１周年記念ＢＴＳ市原カップ          20\n",
              "第４３回デイリースポーツ杯                 18\n",
              "２０１９三国モーニングラストバトル             12\n",
              "サンケイスポーツカップ                   12\n",
              "ＢＴＳ井原開設５周年記念競走                12\n",
              "Ｇ３キリンカップ２０１９                  12\n",
              "ニッカン・コム杯・第２回戸田巧者Ｎｏ．１決定戦       12\n",
              "第１９回日刊ゲンダイ杯                   11\n",
              "Name: タイトル, Length: 589, dtype: int64"
            ]
          },
          "metadata": {
            "tags": []
          },
          "execution_count": 291
        }
      ]
    },
    {
      "cell_type": "code",
      "metadata": {
        "id": "-Htd6wj3o0LE",
        "colab_type": "code",
        "colab": {}
      },
      "source": [
        "df_0.to_csv('/content/drive/My Drive/demo/boart_demo0.csv',index=True,header=True)"
      ],
      "execution_count": 0,
      "outputs": []
    },
    {
      "cell_type": "code",
      "metadata": {
        "id": "xCSVMzKdqfQZ",
        "colab_type": "code",
        "outputId": "25e1967f-094c-4485-f94e-b91168058477",
        "colab": {
          "base_uri": "https://localhost:8080/",
          "height": 34
        }
      },
      "source": [
        "'種類', '節', '進入'"
      ],
      "execution_count": 293,
      "outputs": [
        {
          "output_type": "execute_result",
          "data": {
            "text/plain": [
              "('種類', '節', '進入')"
            ]
          },
          "metadata": {
            "tags": []
          },
          "execution_count": 293
        }
      ]
    },
    {
      "cell_type": "code",
      "metadata": {
        "id": "QvBNn2pcp2wp",
        "colab_type": "code",
        "outputId": "33dd4838-bcfd-481a-823d-9b012006c2ca",
        "colab": {
          "base_uri": "https://localhost:8080/",
          "height": 1000
        }
      },
      "source": [
        "df_0['タイトル'].value_counts()"
      ],
      "execution_count": 294,
      "outputs": [
        {
          "output_type": "execute_result",
          "data": {
            "text/plain": [
              "マンスリーＢＯＡＴＲＡＣＥ杯               392\n",
              "マクール杯                        373\n",
              "ＢＯＡＴ　Ｂｏｙ　ＣＵＰ                 325\n",
              "九州スポーツ杯争奪戦                   271\n",
              "日本財団会長杯争奪戦                   265\n",
              "日本トーター杯                      260\n",
              "スポーツ報知杯                      251\n",
              "サッポロビールカップ                   248\n",
              "ニッカン・コム杯                     237\n",
              "ＢＯＡＴＢｏｙＣＵＰ                   189\n",
              "西日本スポーツ杯                     188\n",
              "日本財団会長杯                      159\n",
              "日本モーターボート選手会会長杯争奪戦           154\n",
              "日本モーターボート選手会会長杯              151\n",
              "マンスリーＢＯＡＴＲＡＣＥ杯　男女Ｗ優勝戦        144\n",
              "Ｇ３サッポロビールカップ                 143\n",
              "楽天銀行杯争奪戦                     142\n",
              "Ｇ３オールレディース競走                 139\n",
              "スポーツニッポン杯                    129\n",
              "デイリースポーツカップ                  128\n",
              "デイリースポーツ杯                    126\n",
              "日本ＭＢ選手会会長杯争奪　ダイスポジャンピーカップ    119\n",
              "トランスワードトロフィー                 118\n",
              "第１０回ジャパンネット銀行賞               118\n",
              "公営レーシングプレス杯                  118\n",
              "ＢＯＡＴ　Ｂｏｙカップ                  117\n",
              "アクアコンシェルジュカップ                117\n",
              "日本ＭＢ選手会会長杯                   116\n",
              "第１４回日刊ゲンダイ杯                   94\n",
              "宇宙戦艦ヤマト２２０２杯                  84\n",
              "                            ... \n",
              "第４３回日刊スポーツ杯                   35\n",
              "第３６回日本財団会長杯                   35\n",
              "第２２回　三国競艇大賞                   35\n",
              "どんたく特選レース                     33\n",
              "第４６回上毛新聞社杯                    30\n",
              "第４２回京急電鉄社長杯                   30\n",
              "２０１９ラピートカップ                   30\n",
              "夏盛り！！三国観光産業社長杯                28\n",
              "第３３回グランプリ／グランプリＳ              24\n",
              "ハマナ娘クルー　クリスマスカップ              24\n",
              "オラレ下関オープン５周年記念　山口新聞社杯         24\n",
              "２０１８　Ｘマス＆ファイナルカップ             24\n",
              "第６回東洋観光グループ杯                  24\n",
              "ＪＰＦ杯ドッキドキ　ツッピーメイトカップ          24\n",
              "第３回徳島バスカップ競走                  24\n",
              "若松夜王Ｓ公営レーシングプレス杯男女Ｗ優勝戦        24\n",
              "ドラ恋クリスマスカップ                   24\n",
              "夏のマーゴの湯競走                     23\n",
              "アサヒスーパードライカップ                 23\n",
              "ＢＴＳ長洲開設９周年記念　長洲金魚杯            23\n",
              "第１２回日本モーターボート選手会会長賞争奪戦        23\n",
              "平成ラストバトル！第９回領巾振山つつじカップ        20\n",
              "四市組合設立５１周年記念ＢＴＳ市原カップ          20\n",
              "第４３回デイリースポーツ杯                 18\n",
              "２０１９三国モーニングラストバトル             12\n",
              "サンケイスポーツカップ                   12\n",
              "ＢＴＳ井原開設５周年記念競走                12\n",
              "Ｇ３キリンカップ２０１９                  12\n",
              "ニッカン・コム杯・第２回戸田巧者Ｎｏ．１決定戦       12\n",
              "第１９回日刊ゲンダイ杯                   11\n",
              "Name: タイトル, Length: 589, dtype: int64"
            ]
          },
          "metadata": {
            "tags": []
          },
          "execution_count": 294
        }
      ]
    },
    {
      "cell_type": "code",
      "metadata": {
        "id": "ftLO1ojbqgmW",
        "colab_type": "code",
        "outputId": "a8534f04-dae9-49a6-8424-0be791cd04e5",
        "colab": {
          "base_uri": "https://localhost:8080/",
          "height": 1000
        }
      },
      "source": [
        "df_0['種類'].value_counts()"
      ],
      "execution_count": 295,
      "outputs": [
        {
          "output_type": "execute_result",
          "data": {
            "text/plain": [
              "予　　選　　　 1800m    5628\n",
              "予選　　　　　 1800m    5278\n",
              "予　選　　　　 1800m    5180\n",
              "一般戦　　　　 1800m    3058\n",
              "一　　般　　　 1800m    2350\n",
              "一　般　　　　 1800m    1816\n",
              "準優勝戦　　　 1800m    1576\n",
              "一般　　　　　 1800m    1323\n",
              "予選特賞　　　 1800m    1279\n",
              "予選特選　　　 1800m    1004\n",
              "選抜戦　　　　 1800m     481\n",
              "優勝戦　　　　 1800m     344\n",
              "一　般　戦　　 1800m     320\n",
              "特　　選　　　 1800m     303\n",
              "特　賞　　　　 1800m     302\n",
              "選　抜　戦　　 1800m     274\n",
              "特　　賞　　　 1800m     266\n",
              "一般特選　　　 1800m     233\n",
              "モーニング一般 1800m     211\n",
              "優　勝　戦　　 1800m     209\n",
              "ドリーム戦　　 1800m     202\n",
              "特別選抜戦　　 1800m     189\n",
              "記者選抜戦　　 1800m     171\n",
              "特　選　　　　 1800m     167\n",
              "記者選抜　　　 1800m     146\n",
              "準優進出戦　　 1800m     142\n",
              "ファーストＢ　 1800m     138\n",
              "ランチタイム戦 1800m     137\n",
              "日替艇食戦　　 1800m     136\n",
              "一般特賞　　　 1800m     136\n",
              "                 ... \n",
              "じぶん銀行ＤＲ 1800m       1\n",
              "ランチタイム　 1200m       1\n",
              "サントリーＤ戦 1800m       1\n",
              "チャンポン選抜 1800m       1\n",
              "つつみん選抜　 1800m       1\n",
              "Ｄ・Ｒ賞　　　 1200m       1\n",
              "予選特別選抜　 1200m       1\n",
              "ＭａｋｅａＤＲ 1800m       1\n",
              "飛車角戦　　　 1800m       1\n",
              "プリンセスＤＲ 1800m       1\n",
              "デイリー選抜　 1800m       1\n",
              "シリーズ優勝戦 1800m       1\n",
              "ガァ〜コ選抜　 1800m       1\n",
              "日野市選抜戦　 1800m       1\n",
              "雷神ドリーム戦 1800m       1\n",
              "シモデンＤＲ　 1800m       1\n",
              "男子準優勝戦　 1800m       1\n",
              "さん太選抜　　 1800m       1\n",
              "県内選手権優勝 1800m       1\n",
              "イースタンＤＲ 1800m       1\n",
              "モミジドリーム 1800m       1\n",
              "日刊ドリーム　 1800m       1\n",
              "澤乃井選抜戦　 1800m       1\n",
              "シリーズ復活戦 1800m       1\n",
              "メガトン特選　 1800m       1\n",
              "ヘビー級ＤＲ　 1800m       1\n",
              "１ｓｔドリーム 1800m       1\n",
              "うめぴー特選　 1800m       1\n",
              "夕刊フジ選抜戦 1800m       1\n",
              "バトルＤ２ｎｄ 1800m       1\n",
              "Name: 種類, Length: 415, dtype: int64"
            ]
          },
          "metadata": {
            "tags": []
          },
          "execution_count": 295
        }
      ]
    },
    {
      "cell_type": "code",
      "metadata": {
        "id": "WK2QQfFVqi_f",
        "colab_type": "code",
        "outputId": "b56b8b4a-432f-4b60-ae1c-225bf09f3420",
        "colab": {
          "base_uri": "https://localhost:8080/",
          "height": 87
        }
      },
      "source": [
        "df_0['進入'].value_counts()"
      ],
      "execution_count": 296,
      "outputs": [
        {
          "output_type": "execute_result",
          "data": {
            "text/plain": [
              "通常進入     35935\n",
              "安定板使用     1872\n",
              "進入固定      1588\n",
              "Name: 進入, dtype: int64"
            ]
          },
          "metadata": {
            "tags": []
          },
          "execution_count": 296
        }
      ]
    },
    {
      "cell_type": "code",
      "metadata": {
        "id": "0hlN4cZBqxxr",
        "colab_type": "code",
        "colab": {}
      },
      "source": [
        "df_0=df_0.drop(['進入','タイトル'],axis=1)"
      ],
      "execution_count": 0,
      "outputs": []
    },
    {
      "cell_type": "code",
      "metadata": {
        "id": "paJleBxyr4mL",
        "colab_type": "code",
        "outputId": "60ccc922-fa13-49a2-94a5-8aa928735135",
        "colab": {
          "base_uri": "https://localhost:8080/",
          "height": 195
        }
      },
      "source": [
        "df_0.head()"
      ],
      "execution_count": 298,
      "outputs": [
        {
          "output_type": "execute_result",
          "data": {
            "text/html": [
              "<div>\n",
              "<style scoped>\n",
              "    .dataframe tbody tr th:only-of-type {\n",
              "        vertical-align: middle;\n",
              "    }\n",
              "\n",
              "    .dataframe tbody tr th {\n",
              "        vertical-align: top;\n",
              "    }\n",
              "\n",
              "    .dataframe thead th {\n",
              "        text-align: right;\n",
              "    }\n",
              "</style>\n",
              "<table border=\"1\" class=\"dataframe\">\n",
              "  <thead>\n",
              "    <tr style=\"text-align: right;\">\n",
              "      <th></th>\n",
              "      <th>日付</th>\n",
              "      <th>レース場</th>\n",
              "      <th>レースNO</th>\n",
              "      <th>グレード</th>\n",
              "      <th>時刻</th>\n",
              "      <th>種類</th>\n",
              "      <th>節</th>\n",
              "    </tr>\n",
              "  </thead>\n",
              "  <tbody>\n",
              "    <tr>\n",
              "      <th>0</th>\n",
              "      <td>20181221</td>\n",
              "      <td>23</td>\n",
              "      <td>1</td>\n",
              "      <td>G0</td>\n",
              "      <td>8:46</td>\n",
              "      <td>予　　選　　　 1800m</td>\n",
              "      <td>初日</td>\n",
              "    </tr>\n",
              "    <tr>\n",
              "      <th>1</th>\n",
              "      <td>20181221</td>\n",
              "      <td>14</td>\n",
              "      <td>1</td>\n",
              "      <td>G0</td>\n",
              "      <td>8:52</td>\n",
              "      <td>一般戦　　　　 1800m</td>\n",
              "      <td>３日目</td>\n",
              "    </tr>\n",
              "    <tr>\n",
              "      <th>2</th>\n",
              "      <td>20181221</td>\n",
              "      <td>23</td>\n",
              "      <td>2</td>\n",
              "      <td>G0</td>\n",
              "      <td>9:15</td>\n",
              "      <td>予　　選　　　 1800m</td>\n",
              "      <td>初日</td>\n",
              "    </tr>\n",
              "    <tr>\n",
              "      <th>3</th>\n",
              "      <td>20181221</td>\n",
              "      <td>14</td>\n",
              "      <td>2</td>\n",
              "      <td>G0</td>\n",
              "      <td>9:21</td>\n",
              "      <td>一般戦　　　　 1800m</td>\n",
              "      <td>３日目</td>\n",
              "    </tr>\n",
              "    <tr>\n",
              "      <th>4</th>\n",
              "      <td>20181221</td>\n",
              "      <td>23</td>\n",
              "      <td>3</td>\n",
              "      <td>G0</td>\n",
              "      <td>9:44</td>\n",
              "      <td>予　　選　　　 1800m</td>\n",
              "      <td>初日</td>\n",
              "    </tr>\n",
              "  </tbody>\n",
              "</table>\n",
              "</div>"
            ],
            "text/plain": [
              "         日付  レース場  レースNO グレード    時刻             種類    節\n",
              "0  20181221    23      1   G0  8:46  予　　選　　　 1800m   初日\n",
              "1  20181221    14      1   G0  8:52  一般戦　　　　 1800m  ３日目\n",
              "2  20181221    23      2   G0  9:15  予　　選　　　 1800m   初日\n",
              "3  20181221    14      2   G0  9:21  一般戦　　　　 1800m  ３日目\n",
              "4  20181221    23      3   G0  9:44  予　　選　　　 1800m   初日"
            ]
          },
          "metadata": {
            "tags": []
          },
          "execution_count": 298
        }
      ]
    },
    {
      "cell_type": "code",
      "metadata": {
        "id": "ZfumrOQDr96w",
        "colab_type": "code",
        "outputId": "d2304fd0-67b8-491a-aba0-894faf3b6fb6",
        "colab": {
          "base_uri": "https://localhost:8080/",
          "height": 122
        }
      },
      "source": [
        "df_0['種類'].head()"
      ],
      "execution_count": 299,
      "outputs": [
        {
          "output_type": "execute_result",
          "data": {
            "text/plain": [
              "0    予　　選　　　 1800m\n",
              "1    一般戦　　　　 1800m\n",
              "2    予　　選　　　 1800m\n",
              "3    一般戦　　　　 1800m\n",
              "4    予　　選　　　 1800m\n",
              "Name: 種類, dtype: object"
            ]
          },
          "metadata": {
            "tags": []
          },
          "execution_count": 299
        }
      ]
    },
    {
      "cell_type": "code",
      "metadata": {
        "id": "yfSNqH2usIrq",
        "colab_type": "code",
        "outputId": "5d4f3366-c800-4f8e-8396-597a474e3c02",
        "colab": {
          "base_uri": "https://localhost:8080/",
          "height": 175
        }
      },
      "source": [
        "df_0['節'].value_counts()"
      ],
      "execution_count": 300,
      "outputs": [
        {
          "output_type": "execute_result",
          "data": {
            "text/plain": [
              "２日目    7169\n",
              "初日     7160\n",
              "最終日    7101\n",
              "３日目    7090\n",
              "４日目    5941\n",
              "５日目    4551\n",
              "６日目     381\n",
              "順延        2\n",
              "Name: 節, dtype: int64"
            ]
          },
          "metadata": {
            "tags": []
          },
          "execution_count": 300
        }
      ]
    },
    {
      "cell_type": "code",
      "metadata": {
        "id": "Yu-glUTzsRB0",
        "colab_type": "code",
        "outputId": "51f7f95b-2d71-4548-fd88-370690b1b3c5",
        "colab": {
          "base_uri": "https://localhost:8080/",
          "height": 34
        }
      },
      "source": [
        "df_0.columns"
      ],
      "execution_count": 301,
      "outputs": [
        {
          "output_type": "execute_result",
          "data": {
            "text/plain": [
              "Index(['日付', 'レース場', 'レースNO', 'グレード', '時刻', '種類', '節'], dtype='object')"
            ]
          },
          "metadata": {
            "tags": []
          },
          "execution_count": 301
        }
      ]
    },
    {
      "cell_type": "code",
      "metadata": {
        "id": "FH-UGIKHtUgb",
        "colab_type": "code",
        "colab": {}
      },
      "source": [
        "﻿#ボートレース解析用ライブラリ\n",
        "import os,csv\n",
        "from datetime import datetime,timedelta\n",
        "from dateutil.relativedelta import relativedelta\n",
        "from statistics import mean, median,variance,stdev\n",
        "\n",
        "#機械学習用ライブラリ\n",
        "import numpy as np\n",
        "import pandas as pd\n",
        "import matplotlib.pyplot as plt\n",
        "import seaborn as sns\n",
        "from sklearn.preprocessing import LabelEncoder\n",
        "from sklearn.model_selection import train_test_split\n",
        "from sklearn.metrics import log_loss\n",
        "import xgboost as xgb\n",
        "import pickle"
      ],
      "execution_count": 0,
      "outputs": []
    },
    {
      "cell_type": "code",
      "metadata": {
        "id": "z91UMBtQs9TQ",
        "colab_type": "code",
        "colab": {}
      },
      "source": [
        "cols=['レース場','レースNO','グレード', '種類', '節']\n",
        "\n",
        "for c in cols:\n",
        "\tle = LabelEncoder()\n",
        "\tle.fit(df[c])\n",
        "\tdf_0[c] = le.transform(df_0[c])"
      ],
      "execution_count": 0,
      "outputs": []
    },
    {
      "cell_type": "code",
      "metadata": {
        "id": "mVpzGiq5tQG4",
        "colab_type": "code",
        "colab": {}
      },
      "source": [
        "df_0[\"時\"] = df_0[\"時刻\"].apply(lambda x: x.split(':')[0])\n",
        "df_0[\"分\"] = df_0[\"時刻\"].apply(lambda x: x.split(':')[1])\n",
        "\n",
        "df_0=df_0.drop(['時刻'],axis=1)"
      ],
      "execution_count": 0,
      "outputs": []
    },
    {
      "cell_type": "code",
      "metadata": {
        "id": "kkvtwp3Cw3x0",
        "colab_type": "code",
        "outputId": "17438096-d1ea-4ecf-8d2a-dad7b0a761fd",
        "colab": {
          "base_uri": "https://localhost:8080/",
          "height": 195
        }
      },
      "source": [
        "df_0.head()"
      ],
      "execution_count": 305,
      "outputs": [
        {
          "output_type": "execute_result",
          "data": {
            "text/html": [
              "<div>\n",
              "<style scoped>\n",
              "    .dataframe tbody tr th:only-of-type {\n",
              "        vertical-align: middle;\n",
              "    }\n",
              "\n",
              "    .dataframe tbody tr th {\n",
              "        vertical-align: top;\n",
              "    }\n",
              "\n",
              "    .dataframe thead th {\n",
              "        text-align: right;\n",
              "    }\n",
              "</style>\n",
              "<table border=\"1\" class=\"dataframe\">\n",
              "  <thead>\n",
              "    <tr style=\"text-align: right;\">\n",
              "      <th></th>\n",
              "      <th>日付</th>\n",
              "      <th>レース場</th>\n",
              "      <th>レースNO</th>\n",
              "      <th>グレード</th>\n",
              "      <th>種類</th>\n",
              "      <th>節</th>\n",
              "      <th>時</th>\n",
              "      <th>分</th>\n",
              "    </tr>\n",
              "  </thead>\n",
              "  <tbody>\n",
              "    <tr>\n",
              "      <th>0</th>\n",
              "      <td>20181221</td>\n",
              "      <td>22</td>\n",
              "      <td>0</td>\n",
              "      <td>0</td>\n",
              "      <td>193</td>\n",
              "      <td>0</td>\n",
              "      <td>8</td>\n",
              "      <td>46</td>\n",
              "    </tr>\n",
              "    <tr>\n",
              "      <th>1</th>\n",
              "      <td>20181221</td>\n",
              "      <td>13</td>\n",
              "      <td>0</td>\n",
              "      <td>0</td>\n",
              "      <td>177</td>\n",
              "      <td>4</td>\n",
              "      <td>8</td>\n",
              "      <td>52</td>\n",
              "    </tr>\n",
              "    <tr>\n",
              "      <th>2</th>\n",
              "      <td>20181221</td>\n",
              "      <td>22</td>\n",
              "      <td>1</td>\n",
              "      <td>0</td>\n",
              "      <td>193</td>\n",
              "      <td>0</td>\n",
              "      <td>9</td>\n",
              "      <td>15</td>\n",
              "    </tr>\n",
              "    <tr>\n",
              "      <th>3</th>\n",
              "      <td>20181221</td>\n",
              "      <td>13</td>\n",
              "      <td>1</td>\n",
              "      <td>0</td>\n",
              "      <td>177</td>\n",
              "      <td>4</td>\n",
              "      <td>9</td>\n",
              "      <td>21</td>\n",
              "    </tr>\n",
              "    <tr>\n",
              "      <th>4</th>\n",
              "      <td>20181221</td>\n",
              "      <td>22</td>\n",
              "      <td>2</td>\n",
              "      <td>0</td>\n",
              "      <td>193</td>\n",
              "      <td>0</td>\n",
              "      <td>9</td>\n",
              "      <td>44</td>\n",
              "    </tr>\n",
              "  </tbody>\n",
              "</table>\n",
              "</div>"
            ],
            "text/plain": [
              "         日付  レース場  レースNO  グレード   種類  節  時   分\n",
              "0  20181221    22      0     0  193  0  8  46\n",
              "1  20181221    13      0     0  177  4  8  52\n",
              "2  20181221    22      1     0  193  0  9  15\n",
              "3  20181221    13      1     0  177  4  9  21\n",
              "4  20181221    22      2     0  193  0  9  44"
            ]
          },
          "metadata": {
            "tags": []
          },
          "execution_count": 305
        }
      ]
    },
    {
      "cell_type": "code",
      "metadata": {
        "id": "T4l16AEfw6ke",
        "colab_type": "code",
        "colab": {}
      },
      "source": [
        "\n",
        "df_0=df_0.drop(['日付'],axis=1)"
      ],
      "execution_count": 0,
      "outputs": []
    },
    {
      "cell_type": "code",
      "metadata": {
        "id": "sXJZ17NVxV16",
        "colab_type": "code",
        "outputId": "b07a6580-5d33-40ae-d19b-93323d460b05",
        "colab": {
          "base_uri": "https://localhost:8080/",
          "height": 195
        }
      },
      "source": [
        "df_0.head()"
      ],
      "execution_count": 307,
      "outputs": [
        {
          "output_type": "execute_result",
          "data": {
            "text/html": [
              "<div>\n",
              "<style scoped>\n",
              "    .dataframe tbody tr th:only-of-type {\n",
              "        vertical-align: middle;\n",
              "    }\n",
              "\n",
              "    .dataframe tbody tr th {\n",
              "        vertical-align: top;\n",
              "    }\n",
              "\n",
              "    .dataframe thead th {\n",
              "        text-align: right;\n",
              "    }\n",
              "</style>\n",
              "<table border=\"1\" class=\"dataframe\">\n",
              "  <thead>\n",
              "    <tr style=\"text-align: right;\">\n",
              "      <th></th>\n",
              "      <th>レース場</th>\n",
              "      <th>レースNO</th>\n",
              "      <th>グレード</th>\n",
              "      <th>種類</th>\n",
              "      <th>節</th>\n",
              "      <th>時</th>\n",
              "      <th>分</th>\n",
              "    </tr>\n",
              "  </thead>\n",
              "  <tbody>\n",
              "    <tr>\n",
              "      <th>0</th>\n",
              "      <td>22</td>\n",
              "      <td>0</td>\n",
              "      <td>0</td>\n",
              "      <td>193</td>\n",
              "      <td>0</td>\n",
              "      <td>8</td>\n",
              "      <td>46</td>\n",
              "    </tr>\n",
              "    <tr>\n",
              "      <th>1</th>\n",
              "      <td>13</td>\n",
              "      <td>0</td>\n",
              "      <td>0</td>\n",
              "      <td>177</td>\n",
              "      <td>4</td>\n",
              "      <td>8</td>\n",
              "      <td>52</td>\n",
              "    </tr>\n",
              "    <tr>\n",
              "      <th>2</th>\n",
              "      <td>22</td>\n",
              "      <td>1</td>\n",
              "      <td>0</td>\n",
              "      <td>193</td>\n",
              "      <td>0</td>\n",
              "      <td>9</td>\n",
              "      <td>15</td>\n",
              "    </tr>\n",
              "    <tr>\n",
              "      <th>3</th>\n",
              "      <td>13</td>\n",
              "      <td>1</td>\n",
              "      <td>0</td>\n",
              "      <td>177</td>\n",
              "      <td>4</td>\n",
              "      <td>9</td>\n",
              "      <td>21</td>\n",
              "    </tr>\n",
              "    <tr>\n",
              "      <th>4</th>\n",
              "      <td>22</td>\n",
              "      <td>2</td>\n",
              "      <td>0</td>\n",
              "      <td>193</td>\n",
              "      <td>0</td>\n",
              "      <td>9</td>\n",
              "      <td>44</td>\n",
              "    </tr>\n",
              "  </tbody>\n",
              "</table>\n",
              "</div>"
            ],
            "text/plain": [
              "   レース場  レースNO  グレード   種類  節  時   分\n",
              "0    22      0     0  193  0  8  46\n",
              "1    13      0     0  177  4  8  52\n",
              "2    22      1     0  193  0  9  15\n",
              "3    13      1     0  177  4  9  21\n",
              "4    22      2     0  193  0  9  44"
            ]
          },
          "metadata": {
            "tags": []
          },
          "execution_count": 307
        }
      ]
    },
    {
      "cell_type": "code",
      "metadata": {
        "id": "wXNTb_2PxaBW",
        "colab_type": "code",
        "colab": {}
      },
      "source": [
        "for c in df_0.columns.values:\n",
        "\tif(df_0[c].dtypes == \"object\"):\n",
        "\t\tdf_0[c] = df_0[c].astype(float)"
      ],
      "execution_count": 0,
      "outputs": []
    },
    {
      "cell_type": "code",
      "metadata": {
        "id": "e5VtQwuOx0vU",
        "colab_type": "code",
        "outputId": "4f4fbf60-20b0-46b4-ef2f-aea0cb486da5",
        "colab": {
          "base_uri": "https://localhost:8080/",
          "height": 228
        }
      },
      "source": [
        "df_0.info()\n"
      ],
      "execution_count": 309,
      "outputs": [
        {
          "output_type": "stream",
          "text": [
            "<class 'pandas.core.frame.DataFrame'>\n",
            "RangeIndex: 39395 entries, 0 to 39394\n",
            "Data columns (total 7 columns):\n",
            "レース場     39395 non-null int64\n",
            "レースNO    39395 non-null int64\n",
            "グレード     39395 non-null int64\n",
            "種類       39395 non-null int64\n",
            "節        39395 non-null int64\n",
            "時        39395 non-null float64\n",
            "分        39395 non-null float64\n",
            "dtypes: float64(2), int64(5)\n",
            "memory usage: 2.1 MB\n"
          ],
          "name": "stdout"
        }
      ]
    },
    {
      "cell_type": "code",
      "metadata": {
        "id": "E3TxbM8gx3ZT",
        "colab_type": "code",
        "colab": {}
      },
      "source": [
        "df_1=df.loc[:,'1枠_登録番号':'1枠_ボート3連率']\n",
        "df_1.to_csv('/content/drive/My Drive/demo/boart_demo1.csv',index=True,header=True)"
      ],
      "execution_count": 0,
      "outputs": []
    },
    {
      "cell_type": "code",
      "metadata": {
        "id": "36cZJzZRzIH2",
        "colab_type": "code",
        "outputId": "1f684c1c-b6d8-41b0-b180-3a09495e4189",
        "colab": {
          "base_uri": "https://localhost:8080/",
          "height": 422
        }
      },
      "source": [
        "df_1.info()"
      ],
      "execution_count": 311,
      "outputs": [
        {
          "output_type": "stream",
          "text": [
            "<class 'pandas.core.frame.DataFrame'>\n",
            "RangeIndex: 39395 entries, 0 to 39394\n",
            "Data columns (total 18 columns):\n",
            "1枠_登録番号       39395 non-null int64\n",
            "1枠_氏名         39395 non-null object\n",
            "1枠_級別         39395 non-null object\n",
            "1枠_F数         39395 non-null object\n",
            "1枠_L数         39395 non-null object\n",
            "1枠_平均ST       39395 non-null object\n",
            "1枠_全国勝率       39395 non-null float64\n",
            "1枠_全国2連率      39395 non-null float64\n",
            "1枠_全国3連率      39395 non-null float64\n",
            "1枠_当地勝率       39395 non-null float64\n",
            "1枠_当地2連率      39395 non-null float64\n",
            "1枠_当地3連率      39395 non-null float64\n",
            "1枠_モーターNO     39395 non-null int64\n",
            "1枠_モーター2連率    39395 non-null float64\n",
            "1枠_モーター3連率    39395 non-null float64\n",
            "1枠_ボートNO      39395 non-null int64\n",
            "1枠_ボート2連率     39395 non-null float64\n",
            "1枠_ボート3連率     39395 non-null float64\n",
            "dtypes: float64(10), int64(3), object(5)\n",
            "memory usage: 5.4+ MB\n"
          ],
          "name": "stdout"
        }
      ]
    },
    {
      "cell_type": "code",
      "metadata": {
        "id": "hp2Om5vnzbm9",
        "colab_type": "code",
        "colab": {}
      },
      "source": [
        "df_1=df_1.drop('1枠_登録番号',axis=1)"
      ],
      "execution_count": 0,
      "outputs": []
    },
    {
      "cell_type": "code",
      "metadata": {
        "id": "3_Gi-jSXznX8",
        "colab_type": "code",
        "colab": {
          "base_uri": "https://localhost:8080/",
          "height": 1000
        },
        "outputId": "2cc04d92-658c-4ee6-a52c-bb738fe9ba42"
      },
      "source": [
        "df_1['1枠_氏名'].value_counts()"
      ],
      "execution_count": 313,
      "outputs": [
        {
          "output_type": "execute_result",
          "data": {
            "text/plain": [
              "赤岩善生     64\n",
              "篠崎元志     64\n",
              "大山千広     61\n",
              "馬場貴也     60\n",
              "都築正治     60\n",
              "岡田憲行     60\n",
              "林美憲      59\n",
              "川北浩貴     59\n",
              "赤坂俊輔     58\n",
              "石丸海渡     57\n",
              "西村拓也     56\n",
              "原田篤志     56\n",
              "守屋美穂     56\n",
              "森高一真     56\n",
              "守田俊介     55\n",
              "渡邉英児     55\n",
              "石渡鉄兵     55\n",
              "市川哲也     55\n",
              "吉田俊彦     54\n",
              "山本寛久     54\n",
              "峰竜太      54\n",
              "村松修二     54\n",
              "大場敏      54\n",
              "須藤博倫     53\n",
              "江口晃生     53\n",
              "山田祐也     53\n",
              "中澤和志     53\n",
              "秋山直之     53\n",
              "吉田拡郎     53\n",
              "深川真二     53\n",
              "         ..\n",
              "前原哉       4\n",
              "井町泰       3\n",
              "澤大介       3\n",
              "原田才一郎     3\n",
              "滝川真由子     3\n",
              "廣瀬篤哉      3\n",
              "渡邉千晴      3\n",
              "勝野竜司      3\n",
              "櫻本あゆみ     2\n",
              "向井田真紀     2\n",
              "宮崎光基      2\n",
              "羽野諒       2\n",
              "古場健也      2\n",
              "阿波勝哉      2\n",
              "水野要       2\n",
              "渡辺空依      2\n",
              "淺田千亜希     2\n",
              "矢野素也      2\n",
              "岩井範光      1\n",
              "小川晃司      1\n",
              "中村桃佳      1\n",
              "石間徹       1\n",
              "森仁志       1\n",
              "田中博子      1\n",
              "石原翼       1\n",
              "宮田龍馬      1\n",
              "横田悠衣      1\n",
              "中村稔宏      1\n",
              "重冨勇哉      1\n",
              "赤澤文香      1\n",
              "Name: 1枠_氏名, Length: 1511, dtype: int64"
            ]
          },
          "metadata": {
            "tags": []
          },
          "execution_count": 313
        }
      ]
    },
    {
      "cell_type": "code",
      "metadata": {
        "id": "G2x5Yc_C2CF_",
        "colab_type": "code",
        "colab": {
          "base_uri": "https://localhost:8080/",
          "height": 1000
        },
        "outputId": "b97b074c-20f1-413f-fed6-184d0341cce5"
      },
      "source": [
        "df_1['1枠_モーターNO'].value_counts()"
      ],
      "execution_count": 314,
      "outputs": [
        {
          "output_type": "execute_result",
          "data": {
            "text/plain": [
              "19    696\n",
              "35    676\n",
              "30    674\n",
              "57    673\n",
              "13    664\n",
              "33    659\n",
              "27    657\n",
              "34    656\n",
              "53    652\n",
              "16    651\n",
              "17    649\n",
              "56    647\n",
              "55    644\n",
              "40    640\n",
              "15    640\n",
              "39    638\n",
              "29    638\n",
              "11    635\n",
              "36    632\n",
              "59    629\n",
              "52    629\n",
              "23    627\n",
              "14    625\n",
              "51    624\n",
              "32    624\n",
              "12    622\n",
              "58    621\n",
              "41    609\n",
              "65    608\n",
              "21    608\n",
              "     ... \n",
              "42    368\n",
              "72    345\n",
              "71    323\n",
              "10    284\n",
              "73    264\n",
              "7     192\n",
              "4     187\n",
              "8     187\n",
              "6     187\n",
              "5     186\n",
              "2     184\n",
              "75    183\n",
              "3     175\n",
              "74    173\n",
              "9     168\n",
              "1     163\n",
              "76    103\n",
              "77     67\n",
              "78     57\n",
              "79     48\n",
              "88     32\n",
              "85     30\n",
              "81     28\n",
              "89     26\n",
              "86     24\n",
              "80     21\n",
              "87     21\n",
              "82     18\n",
              "83     18\n",
              "84     15\n",
              "Name: 1枠_モーターNO, Length: 89, dtype: int64"
            ]
          },
          "metadata": {
            "tags": []
          },
          "execution_count": 314
        }
      ]
    },
    {
      "cell_type": "code",
      "metadata": {
        "id": "-S5pQ8_k2RPS",
        "colab_type": "code",
        "colab": {}
      },
      "source": [
        "cols = ['1枠_氏名','1枠_級別']\n",
        "for c in cols:\n",
        "  le = LabelEncoder()\n",
        "  le.fit(df_1[c])\n",
        "  df_1[c] = le.transform(df_1[c])"
      ],
      "execution_count": 0,
      "outputs": []
    },
    {
      "cell_type": "code",
      "metadata": {
        "id": "q7f7irvZTFT-",
        "colab_type": "code",
        "colab": {
          "base_uri": "https://localhost:8080/",
          "height": 195
        },
        "outputId": "b2730263-7d0c-48fe-8a6b-7bc26789913d"
      },
      "source": [
        "df_1[['1枠_氏名','1枠_級別']].head()"
      ],
      "execution_count": 316,
      "outputs": [
        {
          "output_type": "execute_result",
          "data": {
            "text/html": [
              "<div>\n",
              "<style scoped>\n",
              "    .dataframe tbody tr th:only-of-type {\n",
              "        vertical-align: middle;\n",
              "    }\n",
              "\n",
              "    .dataframe tbody tr th {\n",
              "        vertical-align: top;\n",
              "    }\n",
              "\n",
              "    .dataframe thead th {\n",
              "        text-align: right;\n",
              "    }\n",
              "</style>\n",
              "<table border=\"1\" class=\"dataframe\">\n",
              "  <thead>\n",
              "    <tr style=\"text-align: right;\">\n",
              "      <th></th>\n",
              "      <th>1枠_氏名</th>\n",
              "      <th>1枠_級別</th>\n",
              "    </tr>\n",
              "  </thead>\n",
              "  <tbody>\n",
              "    <tr>\n",
              "      <th>0</th>\n",
              "      <td>1072</td>\n",
              "      <td>0</td>\n",
              "    </tr>\n",
              "    <tr>\n",
              "      <th>1</th>\n",
              "      <td>651</td>\n",
              "      <td>1</td>\n",
              "    </tr>\n",
              "    <tr>\n",
              "      <th>2</th>\n",
              "      <td>1194</td>\n",
              "      <td>1</td>\n",
              "    </tr>\n",
              "    <tr>\n",
              "      <th>3</th>\n",
              "      <td>491</td>\n",
              "      <td>2</td>\n",
              "    </tr>\n",
              "    <tr>\n",
              "      <th>4</th>\n",
              "      <td>393</td>\n",
              "      <td>1</td>\n",
              "    </tr>\n",
              "  </tbody>\n",
              "</table>\n",
              "</div>"
            ],
            "text/plain": [
              "   1枠_氏名  1枠_級別\n",
              "0   1072      0\n",
              "1    651      1\n",
              "2   1194      1\n",
              "3    491      2\n",
              "4    393      1"
            ]
          },
          "metadata": {
            "tags": []
          },
          "execution_count": 316
        }
      ]
    },
    {
      "cell_type": "code",
      "metadata": {
        "id": "hHh6TQ0jTvCt",
        "colab_type": "code",
        "colab": {
          "base_uri": "https://localhost:8080/",
          "height": 404
        },
        "outputId": "286f390e-1a31-40d3-f4f9-78a0ed359a27"
      },
      "source": [
        "df_1.info()"
      ],
      "execution_count": 317,
      "outputs": [
        {
          "output_type": "stream",
          "text": [
            "<class 'pandas.core.frame.DataFrame'>\n",
            "RangeIndex: 39395 entries, 0 to 39394\n",
            "Data columns (total 17 columns):\n",
            "1枠_氏名         39395 non-null int64\n",
            "1枠_級別         39395 non-null int64\n",
            "1枠_F数         39395 non-null object\n",
            "1枠_L数         39395 non-null object\n",
            "1枠_平均ST       39395 non-null object\n",
            "1枠_全国勝率       39395 non-null float64\n",
            "1枠_全国2連率      39395 non-null float64\n",
            "1枠_全国3連率      39395 non-null float64\n",
            "1枠_当地勝率       39395 non-null float64\n",
            "1枠_当地2連率      39395 non-null float64\n",
            "1枠_当地3連率      39395 non-null float64\n",
            "1枠_モーターNO     39395 non-null int64\n",
            "1枠_モーター2連率    39395 non-null float64\n",
            "1枠_モーター3連率    39395 non-null float64\n",
            "1枠_ボートNO      39395 non-null int64\n",
            "1枠_ボート2連率     39395 non-null float64\n",
            "1枠_ボート3連率     39395 non-null float64\n",
            "dtypes: float64(10), int64(4), object(3)\n",
            "memory usage: 5.1+ MB\n"
          ],
          "name": "stdout"
        }
      ]
    },
    {
      "cell_type": "code",
      "metadata": {
        "id": "_arF-GdrWYIl",
        "colab_type": "code",
        "colab": {
          "base_uri": "https://localhost:8080/",
          "height": 195
        },
        "outputId": "9c04dfa5-3cf8-40dc-f0c0-83d92e686f71"
      },
      "source": [
        "df_1[['1枠_F数','1枠_L数','1枠_平均ST']].head()"
      ],
      "execution_count": 318,
      "outputs": [
        {
          "output_type": "execute_result",
          "data": {
            "text/html": [
              "<div>\n",
              "<style scoped>\n",
              "    .dataframe tbody tr th:only-of-type {\n",
              "        vertical-align: middle;\n",
              "    }\n",
              "\n",
              "    .dataframe tbody tr th {\n",
              "        vertical-align: top;\n",
              "    }\n",
              "\n",
              "    .dataframe thead th {\n",
              "        text-align: right;\n",
              "    }\n",
              "</style>\n",
              "<table border=\"1\" class=\"dataframe\">\n",
              "  <thead>\n",
              "    <tr style=\"text-align: right;\">\n",
              "      <th></th>\n",
              "      <th>1枠_F数</th>\n",
              "      <th>1枠_L数</th>\n",
              "      <th>1枠_平均ST</th>\n",
              "    </tr>\n",
              "  </thead>\n",
              "  <tbody>\n",
              "    <tr>\n",
              "      <th>0</th>\n",
              "      <td>F0</td>\n",
              "      <td>L0</td>\n",
              "      <td>0.17</td>\n",
              "    </tr>\n",
              "    <tr>\n",
              "      <th>1</th>\n",
              "      <td>F2</td>\n",
              "      <td>L0</td>\n",
              "      <td>0.13</td>\n",
              "    </tr>\n",
              "    <tr>\n",
              "      <th>2</th>\n",
              "      <td>F0</td>\n",
              "      <td>L0</td>\n",
              "      <td>0.17</td>\n",
              "    </tr>\n",
              "    <tr>\n",
              "      <th>3</th>\n",
              "      <td>F0</td>\n",
              "      <td>L0</td>\n",
              "      <td>0.18</td>\n",
              "    </tr>\n",
              "    <tr>\n",
              "      <th>4</th>\n",
              "      <td>F0</td>\n",
              "      <td>L0</td>\n",
              "      <td>0.17</td>\n",
              "    </tr>\n",
              "  </tbody>\n",
              "</table>\n",
              "</div>"
            ],
            "text/plain": [
              "  1枠_F数 1枠_L数 1枠_平均ST\n",
              "0    F0    L0    0.17\n",
              "1    F2    L0    0.13\n",
              "2    F0    L0    0.17\n",
              "3    F0    L0    0.18\n",
              "4    F0    L0    0.17"
            ]
          },
          "metadata": {
            "tags": []
          },
          "execution_count": 318
        }
      ]
    },
    {
      "cell_type": "code",
      "metadata": {
        "id": "E20s9O42XqTb",
        "colab_type": "code",
        "colab": {
          "base_uri": "https://localhost:8080/",
          "height": 87
        },
        "outputId": "c67eaaae-7f7f-4777-baab-5af6e5c3f273"
      },
      "source": [
        "df_1['1枠_F数'].value_counts()"
      ],
      "execution_count": 319,
      "outputs": [
        {
          "output_type": "execute_result",
          "data": {
            "text/plain": [
              "F0    33639\n",
              "F1     5598\n",
              "F2      158\n",
              "Name: 1枠_F数, dtype: int64"
            ]
          },
          "metadata": {
            "tags": []
          },
          "execution_count": 319
        }
      ]
    },
    {
      "cell_type": "code",
      "metadata": {
        "id": "uDiu9i_9W2bP",
        "colab_type": "code",
        "colab": {}
      },
      "source": [
        "mapping_F={'F0':0,'F1':1,'F2':2}\n",
        "df_1['1枠_F数']=df_1['1枠_F数'].map(mapping_F)"
      ],
      "execution_count": 0,
      "outputs": []
    },
    {
      "cell_type": "code",
      "metadata": {
        "id": "a-jzVAWuXc6_",
        "colab_type": "code",
        "colab": {
          "base_uri": "https://localhost:8080/",
          "height": 87
        },
        "outputId": "fde264c3-79d8-4220-f354-6b89e12c53c4"
      },
      "source": [
        "df_1['1枠_F数'].value_counts()"
      ],
      "execution_count": 321,
      "outputs": [
        {
          "output_type": "execute_result",
          "data": {
            "text/plain": [
              "0    33639\n",
              "1     5598\n",
              "2      158\n",
              "Name: 1枠_F数, dtype: int64"
            ]
          },
          "metadata": {
            "tags": []
          },
          "execution_count": 321
        }
      ]
    },
    {
      "cell_type": "code",
      "metadata": {
        "id": "weqonAiLXXcy",
        "colab_type": "code",
        "colab": {
          "base_uri": "https://localhost:8080/",
          "height": 70
        },
        "outputId": "c790bd57-9ad6-495c-f952-486ad403f403"
      },
      "source": [
        "df_1['1枠_L数'].value_counts()"
      ],
      "execution_count": 322,
      "outputs": [
        {
          "output_type": "execute_result",
          "data": {
            "text/plain": [
              "L0    39340\n",
              "L1       55\n",
              "Name: 1枠_L数, dtype: int64"
            ]
          },
          "metadata": {
            "tags": []
          },
          "execution_count": 322
        }
      ]
    },
    {
      "cell_type": "code",
      "metadata": {
        "id": "CSFiHQkSY8p0",
        "colab_type": "code",
        "colab": {}
      },
      "source": [
        "mapping_L={'L0':0,'L1':1}\n",
        "df_1['1枠_L数']=df_1['1枠_L数'].map(mapping_L)"
      ],
      "execution_count": 0,
      "outputs": []
    },
    {
      "cell_type": "code",
      "metadata": {
        "id": "DcbldPo3ZPPZ",
        "colab_type": "code",
        "colab": {
          "base_uri": "https://localhost:8080/",
          "height": 386
        },
        "outputId": "a64c8977-8f60-4e9c-f0b6-1d49890b6d79"
      },
      "source": [
        "df_1['1枠_平均ST'].value_counts()"
      ],
      "execution_count": 324,
      "outputs": [
        {
          "output_type": "execute_result",
          "data": {
            "text/plain": [
              "0.17    7356\n",
              "0.16    7110\n",
              "0.15    5941\n",
              "0.18    5207\n",
              "0.19    4008\n",
              "0.14    3249\n",
              "0.13    1849\n",
              "0.2     1553\n",
              "0.21    1070\n",
              "0.20     570\n",
              "0.22     444\n",
              "0.12     442\n",
              "0.23     227\n",
              "0.24     129\n",
              "-         76\n",
              "0.11      65\n",
              "0.25      53\n",
              "0.26      35\n",
              "0.28       7\n",
              "0.27       4\n",
              "Name: 1枠_平均ST, dtype: int64"
            ]
          },
          "metadata": {
            "tags": []
          },
          "execution_count": 324
        }
      ]
    },
    {
      "cell_type": "code",
      "metadata": {
        "id": "QEaEL4eRZi6N",
        "colab_type": "code",
        "colab": {}
      },
      "source": [
        "df_1['1枠_平均ST']=df_1['1枠_平均ST'].replace('-','0.0')"
      ],
      "execution_count": 0,
      "outputs": []
    },
    {
      "cell_type": "code",
      "metadata": {
        "id": "6FM4vSFbaRNI",
        "colab_type": "code",
        "colab": {
          "base_uri": "https://localhost:8080/",
          "height": 386
        },
        "outputId": "7150f515-2478-4f95-d2f1-a77d46ce9114"
      },
      "source": [
        "df_1['1枠_平均ST'].value_counts()"
      ],
      "execution_count": 326,
      "outputs": [
        {
          "output_type": "execute_result",
          "data": {
            "text/plain": [
              "0.17    7356\n",
              "0.16    7110\n",
              "0.15    5941\n",
              "0.18    5207\n",
              "0.19    4008\n",
              "0.14    3249\n",
              "0.13    1849\n",
              "0.2     1553\n",
              "0.21    1070\n",
              "0.20     570\n",
              "0.22     444\n",
              "0.12     442\n",
              "0.23     227\n",
              "0.24     129\n",
              "0.0       76\n",
              "0.11      65\n",
              "0.25      53\n",
              "0.26      35\n",
              "0.28       7\n",
              "0.27       4\n",
              "Name: 1枠_平均ST, dtype: int64"
            ]
          },
          "metadata": {
            "tags": []
          },
          "execution_count": 326
        }
      ]
    },
    {
      "cell_type": "code",
      "metadata": {
        "id": "p5Ah27DSaUHo",
        "colab_type": "code",
        "colab": {}
      },
      "source": [
        "#object形式をfloat形式に変換\n",
        "for c in df_1.columns.values:\n",
        "\tif(df_1[c].dtypes == \"object\"):\n",
        "\t\tdf_1[c] = df_1[c].astype(float)"
      ],
      "execution_count": 0,
      "outputs": []
    },
    {
      "cell_type": "code",
      "metadata": {
        "id": "XWJU7d3ZVp4U",
        "colab_type": "code",
        "colab": {
          "base_uri": "https://localhost:8080/",
          "height": 404
        },
        "outputId": "3d91c8f5-60a0-4fb1-b684-39b780e20e4a"
      },
      "source": [
        "df_1.info()"
      ],
      "execution_count": 328,
      "outputs": [
        {
          "output_type": "stream",
          "text": [
            "<class 'pandas.core.frame.DataFrame'>\n",
            "RangeIndex: 39395 entries, 0 to 39394\n",
            "Data columns (total 17 columns):\n",
            "1枠_氏名         39395 non-null int64\n",
            "1枠_級別         39395 non-null int64\n",
            "1枠_F数         39395 non-null int64\n",
            "1枠_L数         39395 non-null int64\n",
            "1枠_平均ST       39395 non-null float64\n",
            "1枠_全国勝率       39395 non-null float64\n",
            "1枠_全国2連率      39395 non-null float64\n",
            "1枠_全国3連率      39395 non-null float64\n",
            "1枠_当地勝率       39395 non-null float64\n",
            "1枠_当地2連率      39395 non-null float64\n",
            "1枠_当地3連率      39395 non-null float64\n",
            "1枠_モーターNO     39395 non-null int64\n",
            "1枠_モーター2連率    39395 non-null float64\n",
            "1枠_モーター3連率    39395 non-null float64\n",
            "1枠_ボートNO      39395 non-null int64\n",
            "1枠_ボート2連率     39395 non-null float64\n",
            "1枠_ボート3連率     39395 non-null float64\n",
            "dtypes: float64(11), int64(6)\n",
            "memory usage: 5.1 MB\n"
          ],
          "name": "stdout"
        }
      ]
    },
    {
      "cell_type": "code",
      "metadata": {
        "id": "t7FA0UK1akvQ",
        "colab_type": "code",
        "colab": {
          "base_uri": "https://localhost:8080/",
          "height": 296
        },
        "outputId": "00387268-b3e2-4ccc-8577-79c9478bd3c6"
      },
      "source": [
        "df_2=df.loc[:,'2枠_登録番号':'2枠_ボート3連率']\n",
        "df_2.head()"
      ],
      "execution_count": 329,
      "outputs": [
        {
          "output_type": "execute_result",
          "data": {
            "text/html": [
              "<div>\n",
              "<style scoped>\n",
              "    .dataframe tbody tr th:only-of-type {\n",
              "        vertical-align: middle;\n",
              "    }\n",
              "\n",
              "    .dataframe tbody tr th {\n",
              "        vertical-align: top;\n",
              "    }\n",
              "\n",
              "    .dataframe thead th {\n",
              "        text-align: right;\n",
              "    }\n",
              "</style>\n",
              "<table border=\"1\" class=\"dataframe\">\n",
              "  <thead>\n",
              "    <tr style=\"text-align: right;\">\n",
              "      <th></th>\n",
              "      <th>2枠_登録番号</th>\n",
              "      <th>2枠_氏名</th>\n",
              "      <th>2枠_級別</th>\n",
              "      <th>2枠_F数</th>\n",
              "      <th>2枠_L数</th>\n",
              "      <th>2枠_平均ST</th>\n",
              "      <th>2枠_全国勝率</th>\n",
              "      <th>2枠_全国2連率</th>\n",
              "      <th>2枠_全国3連率</th>\n",
              "      <th>2枠_当地勝率</th>\n",
              "      <th>2枠_当地2連率</th>\n",
              "      <th>2枠_当地3連率</th>\n",
              "      <th>2枠_モーターNO</th>\n",
              "      <th>2枠_モーター2連率</th>\n",
              "      <th>2枠_モーター3連率</th>\n",
              "      <th>2枠_ボートNO</th>\n",
              "      <th>2枠_ボート2連率</th>\n",
              "      <th>2枠_ボート3連率</th>\n",
              "    </tr>\n",
              "  </thead>\n",
              "  <tbody>\n",
              "    <tr>\n",
              "      <th>0</th>\n",
              "      <td>4866</td>\n",
              "      <td>橋本英一</td>\n",
              "      <td>B1</td>\n",
              "      <td>F0</td>\n",
              "      <td>L0</td>\n",
              "      <td>0.18</td>\n",
              "      <td>3.37</td>\n",
              "      <td>9.86</td>\n",
              "      <td>22.54</td>\n",
              "      <td>2.56</td>\n",
              "      <td>11.11</td>\n",
              "      <td>11.11</td>\n",
              "      <td>41</td>\n",
              "      <td>36.00</td>\n",
              "      <td>56.00</td>\n",
              "      <td>85</td>\n",
              "      <td>24.86</td>\n",
              "      <td>40.11</td>\n",
              "    </tr>\n",
              "    <tr>\n",
              "      <th>1</th>\n",
              "      <td>3715</td>\n",
              "      <td>倉尾大介</td>\n",
              "      <td>B1</td>\n",
              "      <td>F0</td>\n",
              "      <td>L0</td>\n",
              "      <td>0.16</td>\n",
              "      <td>5.13</td>\n",
              "      <td>26.14</td>\n",
              "      <td>53.41</td>\n",
              "      <td>4.57</td>\n",
              "      <td>14.29</td>\n",
              "      <td>42.86</td>\n",
              "      <td>62</td>\n",
              "      <td>34.51</td>\n",
              "      <td>44.37</td>\n",
              "      <td>66</td>\n",
              "      <td>31.91</td>\n",
              "      <td>51.77</td>\n",
              "    </tr>\n",
              "    <tr>\n",
              "      <th>2</th>\n",
              "      <td>4760</td>\n",
              "      <td>山崎郡</td>\n",
              "      <td>A1</td>\n",
              "      <td>F0</td>\n",
              "      <td>L0</td>\n",
              "      <td>0.16</td>\n",
              "      <td>6.04</td>\n",
              "      <td>41.67</td>\n",
              "      <td>57.41</td>\n",
              "      <td>7.27</td>\n",
              "      <td>68.18</td>\n",
              "      <td>72.73</td>\n",
              "      <td>30</td>\n",
              "      <td>32.18</td>\n",
              "      <td>52.87</td>\n",
              "      <td>55</td>\n",
              "      <td>36.27</td>\n",
              "      <td>52.33</td>\n",
              "    </tr>\n",
              "    <tr>\n",
              "      <th>3</th>\n",
              "      <td>4703</td>\n",
              "      <td>森永隆</td>\n",
              "      <td>A2</td>\n",
              "      <td>F0</td>\n",
              "      <td>L0</td>\n",
              "      <td>0.15</td>\n",
              "      <td>6.19</td>\n",
              "      <td>46.15</td>\n",
              "      <td>66.03</td>\n",
              "      <td>4.18</td>\n",
              "      <td>29.41</td>\n",
              "      <td>29.41</td>\n",
              "      <td>11</td>\n",
              "      <td>33.78</td>\n",
              "      <td>50.00</td>\n",
              "      <td>26</td>\n",
              "      <td>31.65</td>\n",
              "      <td>47.48</td>\n",
              "    </tr>\n",
              "    <tr>\n",
              "      <th>4</th>\n",
              "      <td>3878</td>\n",
              "      <td>胡本悟志</td>\n",
              "      <td>B1</td>\n",
              "      <td>F0</td>\n",
              "      <td>L0</td>\n",
              "      <td>0.16</td>\n",
              "      <td>5.17</td>\n",
              "      <td>25.76</td>\n",
              "      <td>54.55</td>\n",
              "      <td>4.93</td>\n",
              "      <td>20.45</td>\n",
              "      <td>43.18</td>\n",
              "      <td>66</td>\n",
              "      <td>12.50</td>\n",
              "      <td>28.13</td>\n",
              "      <td>89</td>\n",
              "      <td>35.35</td>\n",
              "      <td>56.57</td>\n",
              "    </tr>\n",
              "  </tbody>\n",
              "</table>\n",
              "</div>"
            ],
            "text/plain": [
              "   2枠_登録番号 2枠_氏名 2枠_級別 2枠_F数  ... 2枠_モーター3連率 2枠_ボートNO  2枠_ボート2連率  2枠_ボート3連率\n",
              "0     4866  橋本英一    B1    F0  ...      56.00       85      24.86      40.11\n",
              "1     3715  倉尾大介    B1    F0  ...      44.37       66      31.91      51.77\n",
              "2     4760   山崎郡    A1    F0  ...      52.87       55      36.27      52.33\n",
              "3     4703   森永隆    A2    F0  ...      50.00       26      31.65      47.48\n",
              "4     3878  胡本悟志    B1    F0  ...      28.13       89      35.35      56.57\n",
              "\n",
              "[5 rows x 18 columns]"
            ]
          },
          "metadata": {
            "tags": []
          },
          "execution_count": 329
        }
      ]
    },
    {
      "cell_type": "code",
      "metadata": {
        "id": "W9jTy5pfa9jb",
        "colab_type": "code",
        "colab": {}
      },
      "source": [
        "df_2=df_2.drop('2枠_登録番号',axis=1)"
      ],
      "execution_count": 0,
      "outputs": []
    },
    {
      "cell_type": "code",
      "metadata": {
        "id": "9ksgv7J6cF11",
        "colab_type": "code",
        "colab": {
          "base_uri": "https://localhost:8080/",
          "height": 404
        },
        "outputId": "25967e52-394e-4226-dbbd-8a437668fcf8"
      },
      "source": [
        "df_2.info()"
      ],
      "execution_count": 331,
      "outputs": [
        {
          "output_type": "stream",
          "text": [
            "<class 'pandas.core.frame.DataFrame'>\n",
            "RangeIndex: 39395 entries, 0 to 39394\n",
            "Data columns (total 17 columns):\n",
            "2枠_氏名         39395 non-null object\n",
            "2枠_級別         39395 non-null object\n",
            "2枠_F数         39395 non-null object\n",
            "2枠_L数         39395 non-null object\n",
            "2枠_平均ST       39395 non-null object\n",
            "2枠_全国勝率       39395 non-null float64\n",
            "2枠_全国2連率      39395 non-null float64\n",
            "2枠_全国3連率      39395 non-null float64\n",
            "2枠_当地勝率       39395 non-null float64\n",
            "2枠_当地2連率      39395 non-null float64\n",
            "2枠_当地3連率      39395 non-null float64\n",
            "2枠_モーターNO     39395 non-null int64\n",
            "2枠_モーター2連率    39395 non-null float64\n",
            "2枠_モーター3連率    39395 non-null float64\n",
            "2枠_ボートNO      39395 non-null int64\n",
            "2枠_ボート2連率     39395 non-null float64\n",
            "2枠_ボート3連率     39395 non-null float64\n",
            "dtypes: float64(10), int64(2), object(5)\n",
            "memory usage: 5.1+ MB\n"
          ],
          "name": "stdout"
        }
      ]
    },
    {
      "cell_type": "code",
      "metadata": {
        "id": "Ct4Z-mGhcHNg",
        "colab_type": "code",
        "colab": {}
      },
      "source": [
        "cols = ['2枠_氏名','2枠_級別']\n",
        "for c in cols:\n",
        "  le = LabelEncoder()\n",
        "  le.fit(df_2[c])\n",
        "  df_2[c] = le.transform(df_2[c])"
      ],
      "execution_count": 0,
      "outputs": []
    },
    {
      "cell_type": "code",
      "metadata": {
        "id": "4vggmH5bcdT9",
        "colab_type": "code",
        "colab": {
          "base_uri": "https://localhost:8080/",
          "height": 70
        },
        "outputId": "56479105-a4f8-4ff8-9ae5-7291ad30017b"
      },
      "source": [
        "df_2['2枠_L数'].value_counts()"
      ],
      "execution_count": 333,
      "outputs": [
        {
          "output_type": "execute_result",
          "data": {
            "text/plain": [
              "L0    39343\n",
              "L1       52\n",
              "Name: 2枠_L数, dtype: int64"
            ]
          },
          "metadata": {
            "tags": []
          },
          "execution_count": 333
        }
      ]
    },
    {
      "cell_type": "code",
      "metadata": {
        "id": "Kj9GKIohcXrs",
        "colab_type": "code",
        "colab": {}
      },
      "source": [
        "mapping_F={'F0':0,'F1':1,'F2':2}\n",
        "df_2['2枠_F数']=df_2['2枠_F数'].map(mapping_F)\n",
        "\n",
        "mapping_L={'L0':0,'L1':1}\n",
        "df_2['2枠_L数']=df_2['2枠_L数'].map(mapping_L)"
      ],
      "execution_count": 0,
      "outputs": []
    },
    {
      "cell_type": "code",
      "metadata": {
        "id": "ADAPHhuPdJjr",
        "colab_type": "code",
        "colab": {}
      },
      "source": [
        "df_2['2枠_平均ST']=df_2['2枠_平均ST'].replace('-','0.0')"
      ],
      "execution_count": 0,
      "outputs": []
    },
    {
      "cell_type": "code",
      "metadata": {
        "id": "md4UifCzdRB6",
        "colab_type": "code",
        "colab": {}
      },
      "source": [
        "#object形式をfloat形式に変換\n",
        "for c in df_2.columns.values:\n",
        "\tif(df_2[c].dtypes == \"object\"):\n",
        "\t\tdf_2[c] = df_2[c].astype(float)"
      ],
      "execution_count": 0,
      "outputs": []
    },
    {
      "cell_type": "code",
      "metadata": {
        "id": "opPJfKnMdhao",
        "colab_type": "code",
        "colab": {
          "base_uri": "https://localhost:8080/",
          "height": 404
        },
        "outputId": "26c3504f-99d4-430a-e9f1-9cc94b24b81b"
      },
      "source": [
        "df_2.info()"
      ],
      "execution_count": 337,
      "outputs": [
        {
          "output_type": "stream",
          "text": [
            "<class 'pandas.core.frame.DataFrame'>\n",
            "RangeIndex: 39395 entries, 0 to 39394\n",
            "Data columns (total 17 columns):\n",
            "2枠_氏名         39395 non-null int64\n",
            "2枠_級別         39395 non-null int64\n",
            "2枠_F数         39395 non-null int64\n",
            "2枠_L数         39395 non-null int64\n",
            "2枠_平均ST       39395 non-null float64\n",
            "2枠_全国勝率       39395 non-null float64\n",
            "2枠_全国2連率      39395 non-null float64\n",
            "2枠_全国3連率      39395 non-null float64\n",
            "2枠_当地勝率       39395 non-null float64\n",
            "2枠_当地2連率      39395 non-null float64\n",
            "2枠_当地3連率      39395 non-null float64\n",
            "2枠_モーターNO     39395 non-null int64\n",
            "2枠_モーター2連率    39395 non-null float64\n",
            "2枠_モーター3連率    39395 non-null float64\n",
            "2枠_ボートNO      39395 non-null int64\n",
            "2枠_ボート2連率     39395 non-null float64\n",
            "2枠_ボート3連率     39395 non-null float64\n",
            "dtypes: float64(11), int64(6)\n",
            "memory usage: 5.1 MB\n"
          ],
          "name": "stdout"
        }
      ]
    },
    {
      "cell_type": "code",
      "metadata": {
        "id": "ZKCMu4Sjdjhv",
        "colab_type": "code",
        "colab": {}
      },
      "source": [
        "df_3=df.loc[:,'3枠_登録番号':'3枠_ボート3連率']"
      ],
      "execution_count": 0,
      "outputs": []
    },
    {
      "cell_type": "code",
      "metadata": {
        "id": "j2wFSZe2dzBM",
        "colab_type": "code",
        "colab": {}
      },
      "source": [
        "df_3=df_3.drop('3枠_登録番号',axis=1)\n",
        "\n",
        "cols = ['3枠_氏名','3枠_級別']\n",
        "for c in cols:\n",
        "  le = LabelEncoder()\n",
        "  le.fit(df_3[c])\n",
        "  df_3[c] = le.transform(df_3[c])\n",
        "\n",
        "mapping_F={'F0':0,'F1':1,'F2':2}\n",
        "df_3['3枠_F数']=df_3['3枠_F数'].map(mapping_F)\n",
        "\n",
        "mapping_L={'L0':0,'L1':1}\n",
        "df_3['3枠_L数']=df_3['3枠_L数'].map(mapping_L)\n",
        "\n",
        "df_3['3枠_平均ST']=df_3['3枠_平均ST'].replace('-','0.0')\n",
        "\n",
        "#object形式をfloat形式に変換\n",
        "for c in df_3.columns.values:\n",
        "\tif(df_3[c].dtypes == \"object\"):\n",
        "\t\tdf_3[c] = df_3[c].astype(float)"
      ],
      "execution_count": 0,
      "outputs": []
    },
    {
      "cell_type": "code",
      "metadata": {
        "id": "qsjc1UwveLpB",
        "colab_type": "code",
        "colab": {}
      },
      "source": [
        "df_4=df.loc[:,'4枠_登録番号':'4枠_ボート3連率']"
      ],
      "execution_count": 0,
      "outputs": []
    },
    {
      "cell_type": "code",
      "metadata": {
        "id": "e5lxaVvAeZ_t",
        "colab_type": "code",
        "colab": {}
      },
      "source": [
        "df_4=df_4.drop('4枠_登録番号',axis=1)\n",
        "\n",
        "cols = ['4枠_氏名','4枠_級別']\n",
        "for c in cols:\n",
        "  le = LabelEncoder()\n",
        "  le.fit(df_4[c])\n",
        "  df_4[c] = le.transform(df_4[c])\n",
        "\n",
        "mapping_F={'F0':0,'F1':1,'F2':2}\n",
        "df_4['4枠_F数']=df_4['4枠_F数'].map(mapping_F)\n",
        "\n",
        "mapping_L={'L0':0,'L1':1}\n",
        "df_4['4枠_L数']=df_4['4枠_L数'].map(mapping_L)\n",
        "\n",
        "df_4['4枠_平均ST']=df_4['4枠_平均ST'].replace('-','0.0')\n",
        "\n",
        "#object形式をfloat形式に変換\n",
        "for c in df_4.columns.values:\n",
        "\tif(df_4[c].dtypes == \"object\"):\n",
        "\t\tdf_4[c] = df_4[c].astype(float)"
      ],
      "execution_count": 0,
      "outputs": []
    },
    {
      "cell_type": "code",
      "metadata": {
        "id": "4EGAgk2xgJRW",
        "colab_type": "code",
        "colab": {}
      },
      "source": [
        "df_5 = df.loc[:,'5枠_氏名':'5枠_ボート3連率']"
      ],
      "execution_count": 0,
      "outputs": []
    },
    {
      "cell_type": "code",
      "metadata": {
        "id": "NNl-JjGxgYme",
        "colab_type": "code",
        "colab": {}
      },
      "source": [
        "cols = ['5枠_氏名','5枠_級別']\n",
        "for c in cols:\n",
        "  le = LabelEncoder()\n",
        "  le.fit(df_5[c])\n",
        "  df_5[c] = le.transform(df_5[c])\n",
        "\n",
        "mapping_F={'F0':0,'F1':1,'F2':2}\n",
        "df_5['5枠_F数']=df_5['5枠_F数'].map(mapping_F)\n",
        "\n",
        "mapping_L={'L0':0,'L1':1}\n",
        "df_5['5枠_L数']=df_5['5枠_L数'].map(mapping_L)\n",
        "\n",
        "df_5['5枠_平均ST']=df_5['5枠_平均ST'].replace('-','0.0')\n",
        "\n",
        "#object形式をfloat形式に変換\n",
        "for c in df_5.columns.values:\n",
        "\tif(df_5[c].dtypes == \"object\"):\n",
        "\t\tdf_5[c] = df_5[c].astype(float)"
      ],
      "execution_count": 0,
      "outputs": []
    },
    {
      "cell_type": "code",
      "metadata": {
        "id": "XKkYxPnAhaAB",
        "colab_type": "code",
        "colab": {}
      },
      "source": [
        "df_6 = df.loc[:,'6枠_氏名':'6枠_ボート3連率']"
      ],
      "execution_count": 0,
      "outputs": []
    },
    {
      "cell_type": "code",
      "metadata": {
        "id": "EBQGKskwhiDU",
        "colab_type": "code",
        "colab": {}
      },
      "source": [
        "cols = ['6枠_氏名','6枠_級別']\n",
        "for c in cols:\n",
        "  le = LabelEncoder()\n",
        "  le.fit(df_6[c])\n",
        "  df_6[c] = le.transform(df_6[c])\n",
        "\n",
        "mapping_F={'F0':0,'F1':1,'F2':2}\n",
        "df_6['6枠_F数']=df_6['6枠_F数'].map(mapping_F)\n",
        "\n",
        "mapping_L={'L0':0,'L1':1}\n",
        "df_6['6枠_L数']=df_6['6枠_L数'].map(mapping_L)\n",
        "\n",
        "df_6['6枠_平均ST']=df_6['6枠_平均ST'].replace('-','0.0')\n",
        "\n",
        "#object形式をfloat形式に変換\n",
        "for c in df_6.columns.values:\n",
        "\tif(df_6[c].dtypes == \"object\"):\n",
        "\t\tdf_6[c] = df_6[c].astype(float)"
      ],
      "execution_count": 0,
      "outputs": []
    },
    {
      "cell_type": "markdown",
      "metadata": {
        "id": "8BXbHVoBh4fL",
        "colab_type": "text"
      },
      "source": [
        "df_7 ~ 13"
      ]
    },
    {
      "cell_type": "code",
      "metadata": {
        "id": "OguRy3kjhy_p",
        "colab_type": "code",
        "colab": {}
      },
      "source": [
        "df_7 = df.loc[:,'1枠_体重':'1枠_展示ST']\n",
        "df_8 = df.loc[:,'2枠_体重':'2枠_展示ST']\n",
        "df_9 = df.loc[:,'3枠_体重':'3枠_展示ST']\n",
        "df_10 = df.loc[:,'4枠_体重':'4枠_展示ST']\n",
        "df_11 = df.loc[:,'5枠_体重':'5枠_展示ST']\n",
        "df_12 = df.loc[:,'6枠_体重':'6枠_展示ST']"
      ],
      "execution_count": 0,
      "outputs": []
    },
    {
      "cell_type": "code",
      "metadata": {
        "id": "zEAvIJHlj7Y9",
        "colab_type": "code",
        "colab": {
          "base_uri": "https://localhost:8080/",
          "height": 193
        },
        "outputId": "2060152c-4b01-4051-dad4-d92f0da24284"
      },
      "source": [
        "df_7.info()"
      ],
      "execution_count": 347,
      "outputs": [
        {
          "output_type": "stream",
          "text": [
            "<class 'pandas.core.frame.DataFrame'>\n",
            "RangeIndex: 39395 entries, 0 to 39394\n",
            "Data columns (total 5 columns):\n",
            "1枠_体重       39395 non-null object\n",
            "1枠_調整体重     39395 non-null float64\n",
            "1枠_展示タイム    39395 non-null object\n",
            "1枠_チルト      39395 non-null float64\n",
            "1枠_展示ST     39395 non-null object\n",
            "dtypes: float64(2), object(3)\n",
            "memory usage: 1.5+ MB\n"
          ],
          "name": "stdout"
        }
      ]
    },
    {
      "cell_type": "code",
      "metadata": {
        "id": "w6-F9q5bj8-_",
        "colab_type": "code",
        "colab": {
          "base_uri": "https://localhost:8080/",
          "height": 122
        },
        "outputId": "31baa101-5f9c-4630-9bcf-9330b1a792f0"
      },
      "source": [
        "df_7['1枠_体重'].head()"
      ],
      "execution_count": 348,
      "outputs": [
        {
          "output_type": "execute_result",
          "data": {
            "text/plain": [
              "0    49.0kg\n",
              "1    54.4kg\n",
              "2    51.1kg\n",
              "3    51.6kg\n",
              "4    51.5kg\n",
              "Name: 1枠_体重, dtype: object"
            ]
          },
          "metadata": {
            "tags": []
          },
          "execution_count": 348
        }
      ]
    },
    {
      "cell_type": "code",
      "metadata": {
        "id": "1PsnMjdvkCp-",
        "colab_type": "code",
        "colab": {}
      },
      "source": [
        "df_7['1枠_体重']=df_7['1枠_体重'].str.replace('kg', '')"
      ],
      "execution_count": 0,
      "outputs": []
    },
    {
      "cell_type": "code",
      "metadata": {
        "id": "VPItgAytp6fk",
        "colab_type": "code",
        "colab": {
          "base_uri": "https://localhost:8080/",
          "height": 404
        },
        "outputId": "a373965d-3071-4957-f59e-27afe0b448b7"
      },
      "source": [
        "df_7['1枠_体重'].unique()"
      ],
      "execution_count": 350,
      "outputs": [
        {
          "output_type": "execute_result",
          "data": {
            "text/plain": [
              "array(['49.0', '54.4', '51.1', '51.6', '51.5', '54.8', '53.5', '47.0',\n",
              "       '53.0', '51.9', '51.4', '49.5', '51.0', '52.0', '45.5', '51.2',\n",
              "       '55.0', '54.9', '50.0', '52.7', '54.0', '46.0', '52.4', '52.9',\n",
              "       '52.1', '51.8', '57.1', '52.5', '51.7', '52.2', '56.4', '53.9',\n",
              "       '52.3', '55.5', '50.5', '51.3', '55.2', '55.1', '54.6', '55.3',\n",
              "       '49.9', '54.1', '54.5', '58.9', '57.7', '56.2', '53.3', '52.6',\n",
              "       '60.0', '59.7', '59.0', '58.4', '56.3', '52.8', '53.7', '53.8',\n",
              "       '57.0', '45.0', '53.6', '54.2', '54.3', '58.5', '57.4', '56.7',\n",
              "       '53.1', '53.2', '56.1', '61.6', '54.7', '56.6', '53.4', '56.5',\n",
              "       '55.7', '58.8', '47.8', '48.1', '48.5', '48.3', '57.2', '48.9',\n",
              "       '55.6', '46.5', '59.8', '44.5', '47.7', '58.0', '47.5', '49.3',\n",
              "       '55.9', '56.0', '49.7', '50.4', '49.8', '48.4', '55.4', '58.1',\n",
              "       '47.2', '47.9', '47.6', '58.3', '60.2', '59.3', '58.6', '59.5',\n",
              "       '47.1', '49.1', '48.2', '57.6', '60.6', '56.9', '48.0', '59.6',\n",
              "       '50.2', '56.8', '44.0', '49.4', '48.8', '58.7', '60.1', '50.1',\n",
              "       '55.8', '57.9', '61.4', '49.6', '48.7', '50.3', '61.8', '47.3',\n",
              "       '60.8', '58.2', '43.5', '47.4', '59.1', '60.7', '49.2', '59.4',\n",
              "       '59.9', '50.8', '61.0', '57.3', '59.2', '61.3', '57.8', '57.5',\n",
              "       '48.6', '50.7', '60.3', '61.1', '50.6', '60.9', '50.9', '61.9',\n",
              "       '60.4', '62.3', '62.2', '61.2', '62.0', '60.5', '61.5', '63.0',\n",
              "       '62.6', '63.1', '62.7', '62.5', '62.4', '63.9', '62.1', '62.9',\n",
              "       '63.2', '63.3', '62.8', '61.7'], dtype=object)"
            ]
          },
          "metadata": {
            "tags": []
          },
          "execution_count": 350
        }
      ]
    },
    {
      "cell_type": "code",
      "metadata": {
        "id": "U7lzP-Cfp5nN",
        "colab_type": "code",
        "colab": {}
      },
      "source": [
        "df_7['1枠_体重'] = pd.to_numeric(df_7['1枠_体重'])"
      ],
      "execution_count": 0,
      "outputs": []
    },
    {
      "cell_type": "code",
      "metadata": {
        "id": "eyWkLDEglqsJ",
        "colab_type": "code",
        "colab": {
          "base_uri": "https://localhost:8080/",
          "height": 122
        },
        "outputId": "7068aaaa-f8b2-4ae1-b259-f97c11856ed9"
      },
      "source": [
        "df_7['1枠_体重'].head()"
      ],
      "execution_count": 352,
      "outputs": [
        {
          "output_type": "execute_result",
          "data": {
            "text/plain": [
              "0    49.0\n",
              "1    54.4\n",
              "2    51.1\n",
              "3    51.6\n",
              "4    51.5\n",
              "Name: 1枠_体重, dtype: float64"
            ]
          },
          "metadata": {
            "tags": []
          },
          "execution_count": 352
        }
      ]
    },
    {
      "cell_type": "code",
      "metadata": {
        "id": "6jbqihYQlyeN",
        "colab_type": "code",
        "colab": {
          "base_uri": "https://localhost:8080/",
          "height": 193
        },
        "outputId": "7ae6dd7d-0351-43d1-d6d8-00d4fa189c3a"
      },
      "source": [
        "df_7.info()"
      ],
      "execution_count": 353,
      "outputs": [
        {
          "output_type": "stream",
          "text": [
            "<class 'pandas.core.frame.DataFrame'>\n",
            "RangeIndex: 39395 entries, 0 to 39394\n",
            "Data columns (total 5 columns):\n",
            "1枠_体重       39395 non-null float64\n",
            "1枠_調整体重     39395 non-null float64\n",
            "1枠_展示タイム    39395 non-null object\n",
            "1枠_チルト      39395 non-null float64\n",
            "1枠_展示ST     39395 non-null object\n",
            "dtypes: float64(3), object(2)\n",
            "memory usage: 1.5+ MB\n"
          ],
          "name": "stdout"
        }
      ]
    },
    {
      "cell_type": "code",
      "metadata": {
        "id": "RxKuEHC9mSCn",
        "colab_type": "code",
        "colab": {}
      },
      "source": [
        "cols = ['1枠_展示タイム','1枠_展示ST']"
      ],
      "execution_count": 0,
      "outputs": []
    },
    {
      "cell_type": "code",
      "metadata": {
        "id": "9B9iZAN7oO3h",
        "colab_type": "code",
        "colab": {}
      },
      "source": [
        "df_7['1枠_展示タイム'] = df_7['1枠_展示タイム'].replace(' ', np.nan)\n",
        "df_7['1枠_展示タイム'] = pd.to_numeric(df_7['1枠_展示タイム'])"
      ],
      "execution_count": 0,
      "outputs": []
    },
    {
      "cell_type": "code",
      "metadata": {
        "id": "n9XvBq-hojQ7",
        "colab_type": "code",
        "colab": {}
      },
      "source": [
        "df_7['1枠_展示ST'] = df_7['1枠_展示ST'].replace('0L',np.nan) "
      ],
      "execution_count": 0,
      "outputs": []
    },
    {
      "cell_type": "code",
      "metadata": {
        "id": "gI7zOphdpHuN",
        "colab_type": "code",
        "colab": {}
      },
      "source": [
        "df_7['1枠_展示ST'] = pd.to_numeric(df_7['1枠_展示ST'])"
      ],
      "execution_count": 0,
      "outputs": []
    },
    {
      "cell_type": "code",
      "metadata": {
        "id": "OEzFsTpPljtV",
        "colab_type": "code",
        "colab": {
          "base_uri": "https://localhost:8080/",
          "height": 193
        },
        "outputId": "fbf0c8c9-cda7-4748-c249-1f37a5f709c4"
      },
      "source": [
        "df_7.info()"
      ],
      "execution_count": 358,
      "outputs": [
        {
          "output_type": "stream",
          "text": [
            "<class 'pandas.core.frame.DataFrame'>\n",
            "RangeIndex: 39395 entries, 0 to 39394\n",
            "Data columns (total 5 columns):\n",
            "1枠_体重       39395 non-null float64\n",
            "1枠_調整体重     39395 non-null float64\n",
            "1枠_展示タイム    39394 non-null float64\n",
            "1枠_チルト      39395 non-null float64\n",
            "1枠_展示ST     39390 non-null float64\n",
            "dtypes: float64(5)\n",
            "memory usage: 1.5 MB\n"
          ],
          "name": "stdout"
        }
      ]
    },
    {
      "cell_type": "code",
      "metadata": {
        "id": "VilTmYrNr1LZ",
        "colab_type": "code",
        "colab": {}
      },
      "source": [
        "df_8['2枠_体重']=df_8['2枠_体重'].str.replace('kg', '')"
      ],
      "execution_count": 0,
      "outputs": []
    },
    {
      "cell_type": "code",
      "metadata": {
        "id": "J5H9ml0csDvl",
        "colab_type": "code",
        "colab": {
          "base_uri": "https://localhost:8080/",
          "height": 404
        },
        "outputId": "bf0d210a-3782-4fa6-ce90-abf2cefc9776"
      },
      "source": [
        "df_8['2枠_体重'].unique()"
      ],
      "execution_count": 360,
      "outputs": [
        {
          "output_type": "execute_result",
          "data": {
            "text/plain": [
              "array(['53.9', '53.7', '51.0', '51.9', '51.3', '51.7', '50.5', '48.3',\n",
              "       '49.0', '54.4', '56.8', '51.6', '53.0', '51.4', '53.8', '47.8',\n",
              "       '52.2', '54.3', '54.0', '51.8', '53.3', '56.0', '52.7', '59.9',\n",
              "       '53.2', '51.2', '52.3', '56.9', '51.5', '58.0', '54.6', '53.4',\n",
              "       '52.9', '52.5', '47.0', '52.0', '52.6', '50.0', '52.4', '49.5',\n",
              "       '50.3', '55.9', '56.7', '55.2', '52.1', '51.1', '60.6', '54.5',\n",
              "       '56.2', '53.6', '53.5', '52.8', '53.1', '58.1', '54.9', '47.9',\n",
              "       '55.1', '55.6', '55.3', '55.5', '55.0', '44.5', '44.0', '48.5',\n",
              "       '58.9', '59.0', '57.4', '57.1', '43.5', '55.7', '56.3', '48.2',\n",
              "       '59.1', '47.5', '46.5', '54.2', '56.6', '47.7', '45.5', '46.0',\n",
              "       '50.1', '49.7', '47.6', '57.5', '55.8', '57.0', '59.6', '54.7',\n",
              "       '57.3', '48.8', '48.0', '47.1', '54.1', '57.6', '55.4', '49.6',\n",
              "       '54.8', '45.0', '56.4', '57.7', '50.4', '56.1', '49.3', '48.1',\n",
              "       '58.7', '59.7', '60.2', '58.2', '59.5', '48.4', '47.3', '59.2',\n",
              "       '57.2', '47.2', '48.9', '49.1', '58.3', '59.8', '49.4', '49.9',\n",
              "       '56.5', '49.2', '58.5', '62.1', '60.8', '59.3', '50.6', '48.6',\n",
              "       '50.2', '49.8', '47.4', '58.6', '57.9', '61.2', '61.3', '60.7',\n",
              "       '60.4', '60.9', '59.4', '50.7', '58.8', '48.7', '50.8', '61.0',\n",
              "       '58.4', '57.8', '61.4', '61.1', '60.0', '61.8', '42.5', '43.0',\n",
              "       '60.3', '60.1', '50.9', '62.8', '62.3', '60.5', '61.6', '61.9',\n",
              "       '61.7', '63.6', '64.2', '62.2', '63.1', '62.4', '63.2', '62.9',\n",
              "       '63.4', '62.5', '62.0', '62.7', '61.5'], dtype=object)"
            ]
          },
          "metadata": {
            "tags": []
          },
          "execution_count": 360
        }
      ]
    },
    {
      "cell_type": "code",
      "metadata": {
        "id": "YrWZDclFsCF1",
        "colab_type": "code",
        "colab": {}
      },
      "source": [
        "df_8['2枠_体重'] = pd.to_numeric(df_8['2枠_体重'])"
      ],
      "execution_count": 0,
      "outputs": []
    },
    {
      "cell_type": "code",
      "metadata": {
        "id": "yiiWiPBBpXXG",
        "colab_type": "code",
        "colab": {}
      },
      "source": [
        "df_8['2枠_展示タイム'] = df_8['2枠_展示タイム'].replace(' ', np.nan)\n",
        "df_8['2枠_展示タイム'] = pd.to_numeric(df_8['2枠_展示タイム'])\n",
        "\n",
        "df_8['2枠_展示ST'] = df_8['2枠_展示ST'].replace('0L',np.nan) \n",
        "df_8['2枠_展示ST'] = pd.to_numeric(df_8['2枠_展示ST'])"
      ],
      "execution_count": 0,
      "outputs": []
    },
    {
      "cell_type": "code",
      "metadata": {
        "id": "_733uwzEruOr",
        "colab_type": "code",
        "colab": {}
      },
      "source": [
        "df_9['3枠_体重']=df_9['3枠_体重'].str.replace('kg', '')\n",
        "df_9['3枠_体重'] = pd.to_numeric(df_9['3枠_体重'])\n",
        "\n",
        "df_9['3枠_展示タイム'] = df_9['3枠_展示タイム'].replace(' ', np.nan)\n",
        "df_9['3枠_展示タイム'] = pd.to_numeric(df_9['3枠_展示タイム'])\n",
        "\n",
        "df_9['3枠_展示ST'] = df_9['3枠_展示ST'].replace('0L',np.nan) \n",
        "df_9['3枠_展示ST'] = pd.to_numeric(df_9['3枠_展示ST'])"
      ],
      "execution_count": 0,
      "outputs": []
    },
    {
      "cell_type": "code",
      "metadata": {
        "id": "EyRmLNEztdWK",
        "colab_type": "code",
        "colab": {}
      },
      "source": [
        "df_10['4枠_体重']=df_10['4枠_体重'].str.replace('kg', '')\n",
        "df_10['4枠_体重'] = pd.to_numeric(df_10['4枠_体重'])\n",
        "\n",
        "df_10['4枠_展示タイム'] = df_10['4枠_展示タイム'].replace(' ', np.nan)\n",
        "df_10['4枠_展示タイム'] = pd.to_numeric(df_10['4枠_展示タイム'])\n",
        "\n",
        "df_10['4枠_展示ST'] = df_10['4枠_展示ST'].replace('0L',np.nan) \n",
        "df_10['4枠_展示ST'] = pd.to_numeric(df_10['4枠_展示ST'])"
      ],
      "execution_count": 0,
      "outputs": []
    },
    {
      "cell_type": "code",
      "metadata": {
        "colab_type": "code",
        "id": "LvB22dZqt9u8",
        "colab": {}
      },
      "source": [
        "df_11['5枠_体重']=df_11['5枠_体重'].str.replace('kg', '')\n",
        "df_11['5枠_体重'] = pd.to_numeric(df_11['5枠_体重'])\n",
        "\n",
        "df_11['5枠_展示タイム'] = df_11['5枠_展示タイム'].replace(' ', np.nan)\n",
        "df_11['5枠_展示タイム'] = pd.to_numeric(df_11['5枠_展示タイム'])\n",
        "\n",
        "df_11['5枠_展示ST'] = df_11['5枠_展示ST'].replace('0L',np.nan) \n",
        "df_11['5枠_展示ST'] = pd.to_numeric(df_11['5枠_展示ST'])"
      ],
      "execution_count": 0,
      "outputs": []
    },
    {
      "cell_type": "code",
      "metadata": {
        "id": "AlGCD5_huL_j",
        "colab_type": "code",
        "colab": {}
      },
      "source": [
        "df_12['6枠_体重']=df_12['6枠_体重'].str.replace('kg', '')\n",
        "df_12['6枠_体重'] = pd.to_numeric(df_12['6枠_体重'])\n",
        "\n",
        "df_12['6枠_展示タイム'] = df_12['6枠_展示タイム'].replace(' ', np.nan)\n",
        "df_12['6枠_展示タイム'] = pd.to_numeric(df_12['6枠_展示タイム'])\n",
        "\n",
        "df_12['6枠_展示ST'] = df_12['6枠_展示ST'].replace('0L',np.nan) \n",
        "df_12['6枠_展示ST'] = pd.to_numeric(df_12['6枠_展示ST'])"
      ],
      "execution_count": 0,
      "outputs": []
    },
    {
      "cell_type": "code",
      "metadata": {
        "id": "9GhfczhSu_UC",
        "colab_type": "code",
        "colab": {}
      },
      "source": [
        "df_13 = df.loc[:,'展示コース':'3着']"
      ],
      "execution_count": 0,
      "outputs": []
    },
    {
      "cell_type": "code",
      "metadata": {
        "id": "12TiodMqvZXE",
        "colab_type": "code",
        "colab": {
          "base_uri": "https://localhost:8080/",
          "height": 281
        },
        "outputId": "a1a0ab51-37ed-4f34-f513-192ddece4f98"
      },
      "source": [
        "df_13.info()"
      ],
      "execution_count": 370,
      "outputs": [
        {
          "output_type": "stream",
          "text": [
            "<class 'pandas.core.frame.DataFrame'>\n",
            "RangeIndex: 39395 entries, 0 to 39394\n",
            "Data columns (total 10 columns):\n",
            "展示コース    39395 non-null int64\n",
            "気温       39395 non-null object\n",
            "天気       39395 non-null object\n",
            "風速       39395 non-null object\n",
            "風向き      39395 non-null object\n",
            "水温       39395 non-null object\n",
            "波高       39395 non-null object\n",
            "1着       39395 non-null int64\n",
            "2着       39395 non-null int64\n",
            "3着       39395 non-null int64\n",
            "dtypes: int64(4), object(6)\n",
            "memory usage: 3.0+ MB\n"
          ],
          "name": "stdout"
        }
      ]
    },
    {
      "cell_type": "code",
      "metadata": {
        "id": "QyR5VfGl5Bcx",
        "colab_type": "code",
        "colab": {
          "base_uri": "https://localhost:8080/",
          "height": 195
        },
        "outputId": "b8b05fc7-d0f6-48bc-d3e2-d04854742de0"
      },
      "source": [
        "df_13.head()"
      ],
      "execution_count": 371,
      "outputs": [
        {
          "output_type": "execute_result",
          "data": {
            "text/html": [
              "<div>\n",
              "<style scoped>\n",
              "    .dataframe tbody tr th:only-of-type {\n",
              "        vertical-align: middle;\n",
              "    }\n",
              "\n",
              "    .dataframe tbody tr th {\n",
              "        vertical-align: top;\n",
              "    }\n",
              "\n",
              "    .dataframe thead th {\n",
              "        text-align: right;\n",
              "    }\n",
              "</style>\n",
              "<table border=\"1\" class=\"dataframe\">\n",
              "  <thead>\n",
              "    <tr style=\"text-align: right;\">\n",
              "      <th></th>\n",
              "      <th>展示コース</th>\n",
              "      <th>気温</th>\n",
              "      <th>天気</th>\n",
              "      <th>風速</th>\n",
              "      <th>風向き</th>\n",
              "      <th>水温</th>\n",
              "      <th>波高</th>\n",
              "      <th>1着</th>\n",
              "      <th>2着</th>\n",
              "      <th>3着</th>\n",
              "    </tr>\n",
              "  </thead>\n",
              "  <tbody>\n",
              "    <tr>\n",
              "      <th>0</th>\n",
              "      <td>123456</td>\n",
              "      <td>14.0℃</td>\n",
              "      <td>晴</td>\n",
              "      <td>0m</td>\n",
              "      <td>0</td>\n",
              "      <td>9.0℃</td>\n",
              "      <td>0cm</td>\n",
              "      <td>4</td>\n",
              "      <td>1</td>\n",
              "      <td>6</td>\n",
              "    </tr>\n",
              "    <tr>\n",
              "      <th>1</th>\n",
              "      <td>123456</td>\n",
              "      <td>14.0℃</td>\n",
              "      <td>曇り</td>\n",
              "      <td>1m</td>\n",
              "      <td>-0.75</td>\n",
              "      <td>13.0℃</td>\n",
              "      <td>1cm</td>\n",
              "      <td>2</td>\n",
              "      <td>5</td>\n",
              "      <td>3</td>\n",
              "    </tr>\n",
              "    <tr>\n",
              "      <th>2</th>\n",
              "      <td>123456</td>\n",
              "      <td>10.0℃</td>\n",
              "      <td>曇り</td>\n",
              "      <td>1m</td>\n",
              "      <td>-0.75</td>\n",
              "      <td>9.0℃</td>\n",
              "      <td>1cm</td>\n",
              "      <td>2</td>\n",
              "      <td>1</td>\n",
              "      <td>3</td>\n",
              "    </tr>\n",
              "    <tr>\n",
              "      <th>3</th>\n",
              "      <td>123456</td>\n",
              "      <td>11.0℃</td>\n",
              "      <td>晴</td>\n",
              "      <td>1m</td>\n",
              "      <td>0.75</td>\n",
              "      <td>13.0℃</td>\n",
              "      <td>1cm</td>\n",
              "      <td>2</td>\n",
              "      <td>4</td>\n",
              "      <td>5</td>\n",
              "    </tr>\n",
              "    <tr>\n",
              "      <th>4</th>\n",
              "      <td>123456</td>\n",
              "      <td>10.0℃</td>\n",
              "      <td>雨</td>\n",
              "      <td>2m</td>\n",
              "      <td>-0.75</td>\n",
              "      <td>9.0℃</td>\n",
              "      <td>2cm</td>\n",
              "      <td>1</td>\n",
              "      <td>3</td>\n",
              "      <td>4</td>\n",
              "    </tr>\n",
              "  </tbody>\n",
              "</table>\n",
              "</div>"
            ],
            "text/plain": [
              "    展示コース     気温  天気  風速   風向き     水温   波高  1着  2着  3着\n",
              "0  123456  14.0℃   晴  0m     0   9.0℃  0cm   4   1   6\n",
              "1  123456  14.0℃  曇り  1m -0.75  13.0℃  1cm   2   5   3\n",
              "2  123456  10.0℃  曇り  1m -0.75   9.0℃  1cm   2   1   3\n",
              "3  123456  11.0℃   晴  1m  0.75  13.0℃  1cm   2   4   5\n",
              "4  123456  10.0℃   雨  2m -0.75   9.0℃  2cm   1   3   4"
            ]
          },
          "metadata": {
            "tags": []
          },
          "execution_count": 371
        }
      ]
    },
    {
      "cell_type": "code",
      "metadata": {
        "id": "9c18uF8H8UEQ",
        "colab_type": "code",
        "colab": {
          "base_uri": "https://localhost:8080/",
          "height": 281
        },
        "outputId": "964505f5-8332-4d53-c4e8-bb9261a7d57e"
      },
      "source": [
        "df_13.info()"
      ],
      "execution_count": 375,
      "outputs": [
        {
          "output_type": "stream",
          "text": [
            "<class 'pandas.core.frame.DataFrame'>\n",
            "RangeIndex: 39395 entries, 0 to 39394\n",
            "Data columns (total 10 columns):\n",
            "展示コース    39395 non-null int64\n",
            "気温       39395 non-null object\n",
            "天気       39395 non-null object\n",
            "風速       39395 non-null object\n",
            "風向き      39395 non-null object\n",
            "水温       39395 non-null object\n",
            "波高       39395 non-null object\n",
            "1着       39395 non-null int64\n",
            "2着       39395 non-null int64\n",
            "3着       39395 non-null int64\n",
            "dtypes: int64(4), object(6)\n",
            "memory usage: 3.0+ MB\n"
          ],
          "name": "stdout"
        }
      ]
    },
    {
      "cell_type": "code",
      "metadata": {
        "id": "fCc_oMki7L38",
        "colab_type": "code",
        "colab": {}
      },
      "source": [
        "df_13['展示コース'].value_counts()"
      ],
      "execution_count": 0,
      "outputs": []
    },
    {
      "cell_type": "code",
      "metadata": {
        "id": "sNudA3w_7yL8",
        "colab_type": "code",
        "colab": {}
      },
      "source": [
        "df_13['気温']=df_13['気温'].str.replace('℃','')\n",
        "df_13['水温']=df_13['水温'].str.replace('℃','')\n",
        "df_13['風速']=df_13['風速'].str.replace('m','')\n",
        "df_13['波高']=df_13['波高'].str.replace('cm','')"
      ],
      "execution_count": 0,
      "outputs": []
    },
    {
      "cell_type": "code",
      "metadata": {
        "id": "pe4rwI2V7Slu",
        "colab_type": "code",
        "colab": {}
      },
      "source": [
        "le = LabelEncoder()\n",
        "le.fit(df_13['天気'])\n",
        "df_13['天気']=le.transform(df_13['天気'])\n"
      ],
      "execution_count": 0,
      "outputs": []
    },
    {
      "cell_type": "code",
      "metadata": {
        "id": "ncTxZoJl8ypY",
        "colab_type": "code",
        "colab": {
          "base_uri": "https://localhost:8080/",
          "height": 281
        },
        "outputId": "c9a20910-875e-485d-8479-c23d269f6712"
      },
      "source": [
        "df_13.info()"
      ],
      "execution_count": 377,
      "outputs": [
        {
          "output_type": "stream",
          "text": [
            "<class 'pandas.core.frame.DataFrame'>\n",
            "RangeIndex: 39395 entries, 0 to 39394\n",
            "Data columns (total 10 columns):\n",
            "展示コース    39395 non-null int64\n",
            "気温       39395 non-null object\n",
            "天気       39395 non-null int64\n",
            "風速       39395 non-null object\n",
            "風向き      39395 non-null object\n",
            "水温       39395 non-null object\n",
            "波高       39395 non-null object\n",
            "1着       39395 non-null int64\n",
            "2着       39395 non-null int64\n",
            "3着       39395 non-null int64\n",
            "dtypes: int64(5), object(5)\n",
            "memory usage: 3.0+ MB\n"
          ],
          "name": "stdout"
        }
      ]
    },
    {
      "cell_type": "code",
      "metadata": {
        "id": "nWmwkoGY800Y",
        "colab_type": "code",
        "colab": {}
      },
      "source": [
        "for c in df_13.columns.values:\n",
        "  if(df_13[c].dtypes == \"object\"):\n",
        "    df_13[c]=df_13[c].replace(' ', np.nan)\n",
        "    df_13[c] = df_13[c].astype(float)"
      ],
      "execution_count": 0,
      "outputs": []
    },
    {
      "cell_type": "code",
      "metadata": {
        "id": "hb0QC4F389Yv",
        "colab_type": "code",
        "colab": {
          "base_uri": "https://localhost:8080/",
          "height": 362
        },
        "outputId": "83b4a977-dd1b-4de9-c23f-760c871c6d20"
      },
      "source": [
        "X_data = pd.concat([df_1,df_2,df_3,df_4,df_5,df_6,df_7,df_8,\n",
        "                    df_9,df_10,df_11,df_12,df_13],axis=1)"
      ],
      "execution_count": 388,
      "outputs": [
        {
          "output_type": "execute_result",
          "data": {
            "text/html": [
              "<div>\n",
              "<style scoped>\n",
              "    .dataframe tbody tr th:only-of-type {\n",
              "        vertical-align: middle;\n",
              "    }\n",
              "\n",
              "    .dataframe tbody tr th {\n",
              "        vertical-align: top;\n",
              "    }\n",
              "\n",
              "    .dataframe thead th {\n",
              "        text-align: right;\n",
              "    }\n",
              "</style>\n",
              "<table border=\"1\" class=\"dataframe\">\n",
              "  <thead>\n",
              "    <tr style=\"text-align: right;\">\n",
              "      <th></th>\n",
              "      <th>1枠_氏名</th>\n",
              "      <th>1枠_級別</th>\n",
              "      <th>1枠_F数</th>\n",
              "      <th>1枠_L数</th>\n",
              "      <th>1枠_平均ST</th>\n",
              "      <th>1枠_全国勝率</th>\n",
              "      <th>1枠_全国2連率</th>\n",
              "      <th>1枠_全国3連率</th>\n",
              "      <th>1枠_当地勝率</th>\n",
              "      <th>1枠_当地2連率</th>\n",
              "      <th>1枠_当地3連率</th>\n",
              "      <th>1枠_モーターNO</th>\n",
              "      <th>1枠_モーター2連率</th>\n",
              "      <th>1枠_モーター3連率</th>\n",
              "      <th>1枠_ボートNO</th>\n",
              "      <th>1枠_ボート2連率</th>\n",
              "      <th>1枠_ボート3連率</th>\n",
              "      <th>2枠_氏名</th>\n",
              "      <th>2枠_級別</th>\n",
              "      <th>2枠_F数</th>\n",
              "      <th>2枠_L数</th>\n",
              "      <th>2枠_平均ST</th>\n",
              "      <th>2枠_全国勝率</th>\n",
              "      <th>2枠_全国2連率</th>\n",
              "      <th>2枠_全国3連率</th>\n",
              "      <th>2枠_当地勝率</th>\n",
              "      <th>2枠_当地2連率</th>\n",
              "      <th>2枠_当地3連率</th>\n",
              "      <th>2枠_モーターNO</th>\n",
              "      <th>2枠_モーター2連率</th>\n",
              "      <th>2枠_モーター3連率</th>\n",
              "      <th>2枠_ボートNO</th>\n",
              "      <th>2枠_ボート2連率</th>\n",
              "      <th>2枠_ボート3連率</th>\n",
              "      <th>3枠_氏名</th>\n",
              "      <th>3枠_級別</th>\n",
              "      <th>3枠_F数</th>\n",
              "      <th>3枠_L数</th>\n",
              "      <th>3枠_平均ST</th>\n",
              "      <th>3枠_全国勝率</th>\n",
              "      <th>...</th>\n",
              "      <th>1枠_体重</th>\n",
              "      <th>1枠_調整体重</th>\n",
              "      <th>1枠_展示タイム</th>\n",
              "      <th>1枠_チルト</th>\n",
              "      <th>1枠_展示ST</th>\n",
              "      <th>2枠_体重</th>\n",
              "      <th>2枠_調整体重</th>\n",
              "      <th>2枠_展示タイム</th>\n",
              "      <th>2枠_チルト</th>\n",
              "      <th>2枠_展示ST</th>\n",
              "      <th>3枠_体重</th>\n",
              "      <th>3枠_調整体重</th>\n",
              "      <th>3枠_展示タイム</th>\n",
              "      <th>3枠_チルト</th>\n",
              "      <th>3枠_展示ST</th>\n",
              "      <th>4枠_体重</th>\n",
              "      <th>4枠_調整体重</th>\n",
              "      <th>4枠_展示タイム</th>\n",
              "      <th>4枠_チルト</th>\n",
              "      <th>4枠_展示ST</th>\n",
              "      <th>5枠_体重</th>\n",
              "      <th>5枠_調整体重</th>\n",
              "      <th>5枠_展示タイム</th>\n",
              "      <th>5枠_チルト</th>\n",
              "      <th>5枠_展示ST</th>\n",
              "      <th>6枠_体重</th>\n",
              "      <th>6枠_調整体重</th>\n",
              "      <th>6枠_展示タイム</th>\n",
              "      <th>6枠_チルト</th>\n",
              "      <th>6枠_展示ST</th>\n",
              "      <th>展示コース</th>\n",
              "      <th>気温</th>\n",
              "      <th>天気</th>\n",
              "      <th>風速</th>\n",
              "      <th>風向き</th>\n",
              "      <th>水温</th>\n",
              "      <th>波高</th>\n",
              "      <th>1着</th>\n",
              "      <th>2着</th>\n",
              "      <th>3着</th>\n",
              "    </tr>\n",
              "  </thead>\n",
              "  <tbody>\n",
              "    <tr>\n",
              "      <th>0</th>\n",
              "      <td>1072</td>\n",
              "      <td>0</td>\n",
              "      <td>0</td>\n",
              "      <td>0</td>\n",
              "      <td>0.17</td>\n",
              "      <td>5.65</td>\n",
              "      <td>48.53</td>\n",
              "      <td>60.29</td>\n",
              "      <td>6.03</td>\n",
              "      <td>41.03</td>\n",
              "      <td>56.41</td>\n",
              "      <td>62</td>\n",
              "      <td>14.08</td>\n",
              "      <td>28.17</td>\n",
              "      <td>47</td>\n",
              "      <td>32.63</td>\n",
              "      <td>49.47</td>\n",
              "      <td>937</td>\n",
              "      <td>2</td>\n",
              "      <td>0</td>\n",
              "      <td>0</td>\n",
              "      <td>0.18</td>\n",
              "      <td>3.37</td>\n",
              "      <td>9.86</td>\n",
              "      <td>22.54</td>\n",
              "      <td>2.56</td>\n",
              "      <td>11.11</td>\n",
              "      <td>11.11</td>\n",
              "      <td>41</td>\n",
              "      <td>36.00</td>\n",
              "      <td>56.00</td>\n",
              "      <td>85</td>\n",
              "      <td>24.86</td>\n",
              "      <td>40.11</td>\n",
              "      <td>1102</td>\n",
              "      <td>2</td>\n",
              "      <td>0</td>\n",
              "      <td>0</td>\n",
              "      <td>0.18</td>\n",
              "      <td>4.30</td>\n",
              "      <td>...</td>\n",
              "      <td>49.0</td>\n",
              "      <td>2.0</td>\n",
              "      <td>6.76</td>\n",
              "      <td>-0.5</td>\n",
              "      <td>0.25</td>\n",
              "      <td>53.9</td>\n",
              "      <td>0.0</td>\n",
              "      <td>6.74</td>\n",
              "      <td>-0.5</td>\n",
              "      <td>0.27</td>\n",
              "      <td>57.1</td>\n",
              "      <td>0.0</td>\n",
              "      <td>6.75</td>\n",
              "      <td>-0.5</td>\n",
              "      <td>0.09</td>\n",
              "      <td>53.0</td>\n",
              "      <td>0.0</td>\n",
              "      <td>6.69</td>\n",
              "      <td>-0.5</td>\n",
              "      <td>0.07</td>\n",
              "      <td>53.0</td>\n",
              "      <td>0.0</td>\n",
              "      <td>6.73</td>\n",
              "      <td>-0.5</td>\n",
              "      <td>0.17</td>\n",
              "      <td>50.5</td>\n",
              "      <td>0.5</td>\n",
              "      <td>6.74</td>\n",
              "      <td>-0.5</td>\n",
              "      <td>0.05</td>\n",
              "      <td>123456</td>\n",
              "      <td>14.0</td>\n",
              "      <td>1</td>\n",
              "      <td>0.0</td>\n",
              "      <td>0.00</td>\n",
              "      <td>9.0</td>\n",
              "      <td>0.0</td>\n",
              "      <td>4</td>\n",
              "      <td>1</td>\n",
              "      <td>6</td>\n",
              "    </tr>\n",
              "    <tr>\n",
              "      <th>1</th>\n",
              "      <td>651</td>\n",
              "      <td>1</td>\n",
              "      <td>2</td>\n",
              "      <td>0</td>\n",
              "      <td>0.13</td>\n",
              "      <td>4.78</td>\n",
              "      <td>27.17</td>\n",
              "      <td>45.65</td>\n",
              "      <td>4.97</td>\n",
              "      <td>29.73</td>\n",
              "      <td>45.95</td>\n",
              "      <td>73</td>\n",
              "      <td>36.64</td>\n",
              "      <td>53.44</td>\n",
              "      <td>32</td>\n",
              "      <td>33.80</td>\n",
              "      <td>52.82</td>\n",
              "      <td>196</td>\n",
              "      <td>2</td>\n",
              "      <td>0</td>\n",
              "      <td>0</td>\n",
              "      <td>0.16</td>\n",
              "      <td>5.13</td>\n",
              "      <td>26.14</td>\n",
              "      <td>53.41</td>\n",
              "      <td>4.57</td>\n",
              "      <td>14.29</td>\n",
              "      <td>42.86</td>\n",
              "      <td>62</td>\n",
              "      <td>34.51</td>\n",
              "      <td>44.37</td>\n",
              "      <td>66</td>\n",
              "      <td>31.91</td>\n",
              "      <td>51.77</td>\n",
              "      <td>476</td>\n",
              "      <td>2</td>\n",
              "      <td>0</td>\n",
              "      <td>0</td>\n",
              "      <td>0.14</td>\n",
              "      <td>4.41</td>\n",
              "      <td>...</td>\n",
              "      <td>54.4</td>\n",
              "      <td>0.0</td>\n",
              "      <td>6.84</td>\n",
              "      <td>-0.5</td>\n",
              "      <td>0.08</td>\n",
              "      <td>53.7</td>\n",
              "      <td>0.0</td>\n",
              "      <td>6.81</td>\n",
              "      <td>-0.5</td>\n",
              "      <td>-0.03</td>\n",
              "      <td>60.8</td>\n",
              "      <td>0.0</td>\n",
              "      <td>6.87</td>\n",
              "      <td>-0.5</td>\n",
              "      <td>0.01</td>\n",
              "      <td>53.1</td>\n",
              "      <td>0.0</td>\n",
              "      <td>6.89</td>\n",
              "      <td>-0.5</td>\n",
              "      <td>0.05</td>\n",
              "      <td>49.6</td>\n",
              "      <td>0.0</td>\n",
              "      <td>6.87</td>\n",
              "      <td>-0.5</td>\n",
              "      <td>0.10</td>\n",
              "      <td>45.0</td>\n",
              "      <td>2.0</td>\n",
              "      <td>6.80</td>\n",
              "      <td>-0.5</td>\n",
              "      <td>0.03</td>\n",
              "      <td>123456</td>\n",
              "      <td>14.0</td>\n",
              "      <td>2</td>\n",
              "      <td>1.0</td>\n",
              "      <td>-0.75</td>\n",
              "      <td>13.0</td>\n",
              "      <td>1.0</td>\n",
              "      <td>2</td>\n",
              "      <td>5</td>\n",
              "      <td>3</td>\n",
              "    </tr>\n",
              "    <tr>\n",
              "      <th>2</th>\n",
              "      <td>1194</td>\n",
              "      <td>1</td>\n",
              "      <td>0</td>\n",
              "      <td>0</td>\n",
              "      <td>0.17</td>\n",
              "      <td>5.97</td>\n",
              "      <td>45.04</td>\n",
              "      <td>60.31</td>\n",
              "      <td>5.93</td>\n",
              "      <td>41.38</td>\n",
              "      <td>62.07</td>\n",
              "      <td>31</td>\n",
              "      <td>27.27</td>\n",
              "      <td>42.86</td>\n",
              "      <td>31</td>\n",
              "      <td>36.92</td>\n",
              "      <td>45.13</td>\n",
              "      <td>576</td>\n",
              "      <td>0</td>\n",
              "      <td>0</td>\n",
              "      <td>0</td>\n",
              "      <td>0.16</td>\n",
              "      <td>6.04</td>\n",
              "      <td>41.67</td>\n",
              "      <td>57.41</td>\n",
              "      <td>7.27</td>\n",
              "      <td>68.18</td>\n",
              "      <td>72.73</td>\n",
              "      <td>30</td>\n",
              "      <td>32.18</td>\n",
              "      <td>52.87</td>\n",
              "      <td>55</td>\n",
              "      <td>36.27</td>\n",
              "      <td>52.33</td>\n",
              "      <td>398</td>\n",
              "      <td>2</td>\n",
              "      <td>0</td>\n",
              "      <td>0</td>\n",
              "      <td>0.17</td>\n",
              "      <td>5.85</td>\n",
              "      <td>...</td>\n",
              "      <td>51.1</td>\n",
              "      <td>0.0</td>\n",
              "      <td>6.76</td>\n",
              "      <td>-0.5</td>\n",
              "      <td>0.10</td>\n",
              "      <td>51.0</td>\n",
              "      <td>0.0</td>\n",
              "      <td>6.70</td>\n",
              "      <td>-0.5</td>\n",
              "      <td>0.07</td>\n",
              "      <td>55.1</td>\n",
              "      <td>0.0</td>\n",
              "      <td>6.72</td>\n",
              "      <td>-0.5</td>\n",
              "      <td>0.09</td>\n",
              "      <td>54.0</td>\n",
              "      <td>0.0</td>\n",
              "      <td>6.76</td>\n",
              "      <td>-0.5</td>\n",
              "      <td>0.08</td>\n",
              "      <td>51.9</td>\n",
              "      <td>0.0</td>\n",
              "      <td>6.73</td>\n",
              "      <td>-0.5</td>\n",
              "      <td>0.06</td>\n",
              "      <td>53.6</td>\n",
              "      <td>0.0</td>\n",
              "      <td>6.78</td>\n",
              "      <td>-0.5</td>\n",
              "      <td>0.11</td>\n",
              "      <td>123456</td>\n",
              "      <td>10.0</td>\n",
              "      <td>2</td>\n",
              "      <td>1.0</td>\n",
              "      <td>-0.75</td>\n",
              "      <td>9.0</td>\n",
              "      <td>1.0</td>\n",
              "      <td>2</td>\n",
              "      <td>1</td>\n",
              "      <td>3</td>\n",
              "    </tr>\n",
              "    <tr>\n",
              "      <th>3</th>\n",
              "      <td>491</td>\n",
              "      <td>2</td>\n",
              "      <td>0</td>\n",
              "      <td>0</td>\n",
              "      <td>0.18</td>\n",
              "      <td>3.19</td>\n",
              "      <td>15.71</td>\n",
              "      <td>27.14</td>\n",
              "      <td>0.00</td>\n",
              "      <td>0.00</td>\n",
              "      <td>0.00</td>\n",
              "      <td>65</td>\n",
              "      <td>38.30</td>\n",
              "      <td>58.87</td>\n",
              "      <td>54</td>\n",
              "      <td>37.31</td>\n",
              "      <td>54.48</td>\n",
              "      <td>900</td>\n",
              "      <td>1</td>\n",
              "      <td>0</td>\n",
              "      <td>0</td>\n",
              "      <td>0.15</td>\n",
              "      <td>6.19</td>\n",
              "      <td>46.15</td>\n",
              "      <td>66.03</td>\n",
              "      <td>4.18</td>\n",
              "      <td>29.41</td>\n",
              "      <td>29.41</td>\n",
              "      <td>11</td>\n",
              "      <td>33.78</td>\n",
              "      <td>50.00</td>\n",
              "      <td>26</td>\n",
              "      <td>31.65</td>\n",
              "      <td>47.48</td>\n",
              "      <td>650</td>\n",
              "      <td>2</td>\n",
              "      <td>0</td>\n",
              "      <td>0</td>\n",
              "      <td>0.20</td>\n",
              "      <td>4.27</td>\n",
              "      <td>...</td>\n",
              "      <td>51.6</td>\n",
              "      <td>0.0</td>\n",
              "      <td>6.82</td>\n",
              "      <td>-0.5</td>\n",
              "      <td>0.31</td>\n",
              "      <td>51.0</td>\n",
              "      <td>0.0</td>\n",
              "      <td>6.89</td>\n",
              "      <td>-0.5</td>\n",
              "      <td>0.19</td>\n",
              "      <td>53.3</td>\n",
              "      <td>0.0</td>\n",
              "      <td>6.86</td>\n",
              "      <td>-0.5</td>\n",
              "      <td>0.06</td>\n",
              "      <td>52.9</td>\n",
              "      <td>0.0</td>\n",
              "      <td>6.84</td>\n",
              "      <td>-0.5</td>\n",
              "      <td>0.05</td>\n",
              "      <td>45.0</td>\n",
              "      <td>2.0</td>\n",
              "      <td>6.83</td>\n",
              "      <td>-0.5</td>\n",
              "      <td>0.16</td>\n",
              "      <td>50.0</td>\n",
              "      <td>1.0</td>\n",
              "      <td>6.69</td>\n",
              "      <td>3.0</td>\n",
              "      <td>0.12</td>\n",
              "      <td>123456</td>\n",
              "      <td>11.0</td>\n",
              "      <td>1</td>\n",
              "      <td>1.0</td>\n",
              "      <td>0.75</td>\n",
              "      <td>13.0</td>\n",
              "      <td>1.0</td>\n",
              "      <td>2</td>\n",
              "      <td>4</td>\n",
              "      <td>5</td>\n",
              "    </tr>\n",
              "    <tr>\n",
              "      <th>4</th>\n",
              "      <td>393</td>\n",
              "      <td>1</td>\n",
              "      <td>0</td>\n",
              "      <td>0</td>\n",
              "      <td>0.17</td>\n",
              "      <td>5.46</td>\n",
              "      <td>30.56</td>\n",
              "      <td>59.26</td>\n",
              "      <td>6.47</td>\n",
              "      <td>49.12</td>\n",
              "      <td>69.01</td>\n",
              "      <td>45</td>\n",
              "      <td>28.87</td>\n",
              "      <td>45.36</td>\n",
              "      <td>58</td>\n",
              "      <td>33.87</td>\n",
              "      <td>54.84</td>\n",
              "      <td>1228</td>\n",
              "      <td>2</td>\n",
              "      <td>0</td>\n",
              "      <td>0</td>\n",
              "      <td>0.16</td>\n",
              "      <td>5.17</td>\n",
              "      <td>25.76</td>\n",
              "      <td>54.55</td>\n",
              "      <td>4.93</td>\n",
              "      <td>20.45</td>\n",
              "      <td>43.18</td>\n",
              "      <td>66</td>\n",
              "      <td>12.50</td>\n",
              "      <td>28.13</td>\n",
              "      <td>89</td>\n",
              "      <td>35.35</td>\n",
              "      <td>56.57</td>\n",
              "      <td>1052</td>\n",
              "      <td>0</td>\n",
              "      <td>0</td>\n",
              "      <td>0</td>\n",
              "      <td>0.16</td>\n",
              "      <td>6.75</td>\n",
              "      <td>...</td>\n",
              "      <td>51.5</td>\n",
              "      <td>0.0</td>\n",
              "      <td>6.75</td>\n",
              "      <td>-0.5</td>\n",
              "      <td>0.16</td>\n",
              "      <td>51.9</td>\n",
              "      <td>0.0</td>\n",
              "      <td>6.70</td>\n",
              "      <td>-0.5</td>\n",
              "      <td>0.12</td>\n",
              "      <td>51.0</td>\n",
              "      <td>0.0</td>\n",
              "      <td>6.70</td>\n",
              "      <td>-0.5</td>\n",
              "      <td>0.14</td>\n",
              "      <td>51.0</td>\n",
              "      <td>0.0</td>\n",
              "      <td>6.75</td>\n",
              "      <td>-0.5</td>\n",
              "      <td>0.14</td>\n",
              "      <td>51.2</td>\n",
              "      <td>0.0</td>\n",
              "      <td>6.71</td>\n",
              "      <td>-0.5</td>\n",
              "      <td>0.11</td>\n",
              "      <td>53.7</td>\n",
              "      <td>0.0</td>\n",
              "      <td>6.68</td>\n",
              "      <td>-0.5</td>\n",
              "      <td>0.67</td>\n",
              "      <td>123456</td>\n",
              "      <td>10.0</td>\n",
              "      <td>3</td>\n",
              "      <td>2.0</td>\n",
              "      <td>-0.75</td>\n",
              "      <td>9.0</td>\n",
              "      <td>2.0</td>\n",
              "      <td>1</td>\n",
              "      <td>3</td>\n",
              "      <td>4</td>\n",
              "    </tr>\n",
              "  </tbody>\n",
              "</table>\n",
              "<p>5 rows × 142 columns</p>\n",
              "</div>"
            ],
            "text/plain": [
              "   1枠_氏名  1枠_級別  1枠_F数  1枠_L数  1枠_平均ST  1枠_全国勝率  ...   風向き    水温   波高  1着  2着  3着\n",
              "0   1072      0      0      0     0.17     5.65  ...  0.00   9.0  0.0   4   1   6\n",
              "1    651      1      2      0     0.13     4.78  ... -0.75  13.0  1.0   2   5   3\n",
              "2   1194      1      0      0     0.17     5.97  ... -0.75   9.0  1.0   2   1   3\n",
              "3    491      2      0      0     0.18     3.19  ...  0.75  13.0  1.0   2   4   5\n",
              "4    393      1      0      0     0.17     5.46  ... -0.75   9.0  2.0   1   3   4\n",
              "\n",
              "[5 rows x 142 columns]"
            ]
          },
          "metadata": {
            "tags": []
          },
          "execution_count": 388
        }
      ]
    },
    {
      "cell_type": "code",
      "metadata": {
        "id": "YR7JoOVg9_PZ",
        "colab_type": "code",
        "colab": {}
      },
      "source": [
        "y = df['単勝結果']"
      ],
      "execution_count": 0,
      "outputs": []
    }
  ]
}